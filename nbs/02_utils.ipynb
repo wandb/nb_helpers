{
 "cells": [
  {
   "cell_type": "markdown",
   "metadata": {},
   "source": [
    "<a href=\"https://colab.research.google.com/github/wandb/nb_helpers/blob/main/nbs/02_utils.ipynb\" target=\"_parent\"><img src=\"https://colab.research.google.com/assets/colab-badge.svg\" alt=\"Open In Colab\"/></a>\n"
   ]
  },
  {
   "cell_type": "code",
   "execution_count": null,
   "metadata": {},
   "outputs": [],
   "source": [
    "#| default_exp utils"
   ]
  },
  {
   "cell_type": "markdown",
   "metadata": {},
   "source": [
    "# Utilities\n",
    "> A bunch of helper functions"
   ]
  },
  {
   "cell_type": "code",
   "execution_count": null,
   "metadata": {},
   "outputs": [],
   "source": [
    "#| export\n",
    "import io, json, sys, re, csv, logging\n",
    "import git\n",
    "from types import SimpleNamespace\n",
    "from logging import Formatter\n",
    "from logging.handlers import RotatingFileHandler\n",
    "from fastcore.foundation import L\n",
    "from datetime import datetime\n",
    "from rich import box\n",
    "from rich.table import Table\n",
    "from rich.console import Console\n",
    "from rich.logging import RichHandler\n",
    "from fastcore.basics import ifnone, listify, store_attr\n",
    "from fastcore.xtras import run\n",
    "from pathlib import Path\n",
    "from execnb.nbio import read_nb"
   ]
  },
  {
   "cell_type": "code",
   "execution_count": null,
   "metadata": {},
   "outputs": [],
   "source": [
    "this_nb = Path(\"02_utils.ipynb\")\n",
    "notebook = read_nb(this_nb)"
   ]
  },
  {
   "cell_type": "markdown",
   "metadata": {},
   "source": [
    "## Logger\n",
    "We will create a logger based on `rich.Table`, this way we get nice summaries at the end of execution"
   ]
  },
  {
   "cell_type": "code",
   "execution_count": null,
   "metadata": {},
   "outputs": [],
   "source": [
    "#| export\n",
    "LOGFORMAT = \"%(asctime)s - %(name)s - %(levelname)s - %(message)s\""
   ]
  },
  {
   "cell_type": "code",
   "execution_count": null,
   "metadata": {},
   "outputs": [],
   "source": [
    "#| export\n",
    "LOGFORMAT_RICH = \"%(message)s\""
   ]
  },
  {
   "cell_type": "code",
   "execution_count": null,
   "metadata": {},
   "outputs": [],
   "source": [
    "#| export\n",
    "def create_table(columns=[\"Notebook Path\", \"Status\", \"Run Time\", \"Colab\"], xtra_cols=None) -> Table:\n",
    "    table = Table(show_header=True, header_style=\"bold magenta\")\n",
    "    table.box = box.SQUARE\n",
    "\n",
    "    table.border_style = \"bright_yellow\"\n",
    "    table.row_styles = [\"none\", \"dim\"]\n",
    "    for col in columns + listify(xtra_cols):\n",
    "        table.add_column(col)\n",
    "    table.columns[1].style = \"cyan\"\n",
    "    return table"
   ]
  },
  {
   "cell_type": "code",
   "execution_count": null,
   "metadata": {},
   "outputs": [
    {
     "data": {
      "text/html": [
       "<pre style=\"white-space:pre;overflow-x:auto;line-height:normal;font-family:Menlo,'DejaVu Sans Mono',consolas,'Courier New',monospace\"><span style=\"color: #ffff00; text-decoration-color: #ffff00\">┌───┬───┐</span>\n",
       "<span style=\"color: #ffff00; text-decoration-color: #ffff00\">│</span><span style=\"color: #800080; text-decoration-color: #800080; font-weight: bold\"> a </span><span style=\"color: #ffff00; text-decoration-color: #ffff00\">│</span><span style=\"color: #800080; text-decoration-color: #800080; font-weight: bold\"> b </span><span style=\"color: #ffff00; text-decoration-color: #ffff00\">│</span>\n",
       "<span style=\"color: #ffff00; text-decoration-color: #ffff00\">├───┼───┤</span>\n",
       "<span style=\"color: #ffff00; text-decoration-color: #ffff00\">└───┴───┘</span>\n",
       "</pre>\n"
      ],
      "text/plain": [
       "\u001b[93m┌───┬───┐\u001b[0m\n",
       "\u001b[93m│\u001b[0m\u001b[1;35m \u001b[0m\u001b[1;35ma\u001b[0m\u001b[1;35m \u001b[0m\u001b[93m│\u001b[0m\u001b[1;35m \u001b[0m\u001b[1;35mb\u001b[0m\u001b[1;35m \u001b[0m\u001b[93m│\u001b[0m\n",
       "\u001b[93m├───┼───┤\u001b[0m\n",
       "\u001b[93m└───┴───┘\u001b[0m\n"
      ]
     },
     "execution_count": null,
     "metadata": {},
     "output_type": "execute_result"
    }
   ],
   "source": [
    "t = create_table([\"a\", \"b\"])\n",
    "t"
   ]
  },
  {
   "cell_type": "code",
   "execution_count": null,
   "metadata": {},
   "outputs": [],
   "source": [
    "#| export\n",
    "def remove_rich_format(text):\n",
    "    \"Remove rich fancy coloring\"\n",
    "    text = str(text)\n",
    "    res = re.search(r\"\\](.*?)\\[\", text)\n",
    "    if res is None:\n",
    "        return text\n",
    "    else:\n",
    "        return res.group(1)"
   ]
  },
  {
   "cell_type": "code",
   "execution_count": null,
   "metadata": {},
   "outputs": [],
   "source": [
    "s = \"[green]Ok[/green]:heavy_check_mark:\"\n",
    "assert remove_rich_format(s) == \"Ok\""
   ]
  },
  {
   "cell_type": "code",
   "execution_count": null,
   "metadata": {},
   "outputs": [],
   "source": [
    "#| export\n",
    "def _csv_to_md(csv_file_path, delimiter=\";\"):\n",
    "    \n",
    "    \n",
    "    csv_dict = csv.DictReader(open(csv_file_path, encoding=\"UTF-8\"), delimiter=delimiter)\n",
    "    list_of_rows = [dict_row for dict_row in csv_dict]\n",
    "    headers = list(list_of_rows[0].keys())\n",
    "    md_string = \" | \"\n",
    "    for header in headers:\n",
    "        md_string += header + \" |\"\n",
    "\n",
    "    md_string += \"\\n |\"\n",
    "    for i in range(len(headers)):\n",
    "        md_string += \"--- | \"\n",
    "\n",
    "    md_string += \"\\n\"\n",
    "    for row in list_of_rows:\n",
    "        md_string += \" | \"\n",
    "        for header in headers:\n",
    "            md_string += row[header] + \" | \"\n",
    "        md_string += \"\\n\"\n",
    "    return md_string\n",
    "\n",
    "def csv_to_md(csv_file_path, delimiter=\";\"):\n",
    "    \"From csv file to markdown table, useful for github posting\"\n",
    "    md_string = _csv_to_md(csv_file_path, delimiter)\n",
    "    output_file = Path(csv_file_path).with_suffix(\".md\")\n",
    "    file = open(output_file, \"w\", encoding=\"UTF-8\")\n",
    "    file.write(md_string)\n",
    "    file.close()"
   ]
  },
  {
   "cell_type": "code",
   "execution_count": null,
   "metadata": {},
   "outputs": [
    {
     "name": "stdout",
     "output_type": "stream",
     "text": [
      " | name |number |value |\n",
      " |--- | --- | --- | \n",
      " | a | 1 | -100 | \n",
      " | b | 2 | 0 | \n",
      " | c | 3 | 2 | \n",
      "\n"
     ]
    }
   ],
   "source": [
    "print(_csv_to_md(\"test_data/file.csv\", delimiter=\",\"))"
   ]
  },
  {
   "cell_type": "markdown",
   "metadata": {},
   "source": [
    "some fancy rich coloring"
   ]
  },
  {
   "cell_type": "code",
   "execution_count": null,
   "metadata": {},
   "outputs": [],
   "source": [
    "#| export\n",
    "STATUS = SimpleNamespace(\n",
    "    ok=\"[green]Ok[/green]:heavy_check_mark:\", fail=\"[red]Fail[/red]\", skip=\"[green]Skipped[/green]:heavy_check_mark:\"\n",
    ")"
   ]
  },
  {
   "cell_type": "code",
   "execution_count": null,
   "metadata": {},
   "outputs": [],
   "source": [
    "#| exporti\n",
    "def _format_row(fname: Path, status: str, time: str, xtra_col=None, fname_only: bool = True) -> tuple:\n",
    "    \"Format one row for a rich.Table\"\n",
    "\n",
    "    formatted_status = getattr(STATUS, status.lower())\n",
    "    fname = fname.name if fname_only else fname\n",
    "    row = (str(fname), formatted_status, f\"{int(time)}s\")\n",
    "    if len(listify(xtra_col)) > 0:\n",
    "        row += (str(xtra_col),)\n",
    "    return row"
   ]
  },
  {
   "cell_type": "code",
   "execution_count": null,
   "metadata": {},
   "outputs": [
    {
     "data": {
      "text/plain": [
       "('/path/to/file', '[green]Ok[/green]:heavy_check_mark:', '1s')"
      ]
     },
     "execution_count": null,
     "metadata": {},
     "output_type": "execute_result"
    }
   ],
   "source": [
    "_format_row(Path(\"/path/to/file\"), \"Ok\", \"1\", fname_only=False)"
   ]
  },
  {
   "cell_type": "code",
   "execution_count": null,
   "metadata": {},
   "outputs": [],
   "source": [
    "#| export\n",
    "class RichLogger:\n",
    "    \"A simple logger that logs to a file and the rich console\"\n",
    "\n",
    "    def __init__(self, columns, out_file=\"summary_table.csv\", width=180):\n",
    "        store_attr()\n",
    "        self.data = []\n",
    "        self.links = []\n",
    "        self.console = Console(width=width, record=True)\n",
    "        rh = RichHandler(console=self.console)\n",
    "        rh.setFormatter(Formatter(LOGFORMAT_RICH))\n",
    "        logging.basicConfig(\n",
    "            level=logging.ERROR,\n",
    "            format=LOGFORMAT,\n",
    "            handlers=[\n",
    "                rh,\n",
    "                RotatingFileHandler(\"log.txt\", maxBytes=1024 * 1024 * 10, backupCount=10),  # 10Mb\n",
    "            ],\n",
    "        )\n",
    "        self.logger = logging.getLogger(\"rich\")\n",
    "        self.info(f\"CONSOLE.is_terminal(): {self.console.is_terminal}\")\n",
    "        self.info(f\"Writing output to {out_file}\")\n",
    "\n",
    "    def writerow(self, row, colab_link=None):\n",
    "        self.data.append(row)\n",
    "        self.links.append(colab_link)\n",
    "\n",
    "    def writerow_incolor(self, fname, status, time, colab_link):\n",
    "        \"Same as write row, but color status\"\n",
    "        row = _format_row(fname, status, time)\n",
    "        self.writerow(row, colab_link)\n",
    "\n",
    "    def to_csv(self, out_file, delimiter=\";\", format_link=False):\n",
    "        self.csv_file = open(out_file, \"w\", newline=\"\")\n",
    "        self.csv_writer = csv.writer(self.csv_file, delimiter=delimiter)\n",
    "        # write header\n",
    "        self.csv_writer.writerow(self.columns)\n",
    "        for row, link in zip(self.data, self.links):\n",
    "            if format_link:\n",
    "                fname = self._format_colab_link_md(link, row[0])\n",
    "            else:\n",
    "                fname = row[0]\n",
    "            self.csv_writer.writerow([fname] + [remove_rich_format(e) for e in row[1:]])\n",
    "        self.csv_file.close()\n",
    "\n",
    "    def to_table(self, enum=True):\n",
    "        columns = ([\"#\"] + self.columns) if enum else self.columns\n",
    "        table = create_table(columns=columns)\n",
    "        for i, (row, link) in enumerate(zip(self.data, self.links)):\n",
    "            fname = self._format_colab_link(link, row[0])\n",
    "            table.add_row(f\"{i}\", fname, *row[1:])\n",
    "        self.console.print(table)\n",
    "\n",
    "    def to_md(self, out_file):\n",
    "        csv_file = Path(out_file).with_suffix(\".csv\")\n",
    "        self.to_csv(csv_file)\n",
    "        csv_to_md(csv_file)\n",
    "        self.info(f\"Output table saved to [red]{out_file}[/red]\")\n",
    "\n",
    "    @property\n",
    "    def info(self):\n",
    "        return self.logger.info\n",
    "\n",
    "    @property\n",
    "    def warning(self):\n",
    "        return self.logger.warning\n",
    "\n",
    "    @property\n",
    "    def exception(self):\n",
    "        return self.logger.exception\n",
    "\n",
    "    @property\n",
    "    def error(self):\n",
    "        return self.logger.error\n",
    "\n",
    "    @staticmethod\n",
    "    def _format_colab_link(colab_link, fname):\n",
    "        return f\"[link={colab_link}]{fname}[link]\"\n",
    "\n",
    "    @staticmethod\n",
    "    def _format_colab_link_md(colab_link, fname):\n",
    "        return f\"[{fname}]({colab_link})\""
   ]
  },
  {
   "cell_type": "code",
   "execution_count": null,
   "metadata": {},
   "outputs": [],
   "source": [
    "l = RichLogger([\"a\", \"b\"])"
   ]
  },
  {
   "cell_type": "code",
   "execution_count": null,
   "metadata": {},
   "outputs": [
    {
     "data": {
      "text/html": [
       "<pre style=\"white-space:pre;overflow-x:auto;line-height:normal;font-family:Menlo,'DejaVu Sans Mono',consolas,'Courier New',monospace\"><span style=\"color: #7fbfbf; text-decoration-color: #7fbfbf\">[09/12/22 15:20:22] </span><span style=\"color: #800000; text-decoration-color: #800000; font-weight: bold\">ERROR   </span> An Error!                                                                                                                               <a href=\"file:///var/folders/sf/tgv7vcv96x557p38bvvp1ms40000gn/T/ipykernel_29157/1414801008.py\" target=\"_blank\"><span style=\"color: #7f7f7f; text-decoration-color: #7f7f7f\">1414801008.py</span></a><span style=\"color: #7f7f7f; text-decoration-color: #7f7f7f\">:</span><a href=\"file:///var/folders/sf/tgv7vcv96x557p38bvvp1ms40000gn/T/ipykernel_29157/1414801008.py#1\" target=\"_blank\"><span style=\"color: #7f7f7f; text-decoration-color: #7f7f7f\">1</span></a>\n",
       "</pre>\n"
      ],
      "text/plain": [
       "\u001b[2;36m[09/12/22 15:20:22]\u001b[0m\u001b[2;36m \u001b[0m\u001b[1;31mERROR   \u001b[0m An Error!                                                                                                                               \u001b]8;id=699033;file:///var/folders/sf/tgv7vcv96x557p38bvvp1ms40000gn/T/ipykernel_29157/1414801008.py\u001b\\\u001b[2m1414801008.py\u001b[0m\u001b]8;;\u001b\\\u001b[2m:\u001b[0m\u001b]8;id=108550;file:///var/folders/sf/tgv7vcv96x557p38bvvp1ms40000gn/T/ipykernel_29157/1414801008.py#1\u001b\\\u001b[2m1\u001b[0m\u001b]8;;\u001b\\\n"
      ]
     },
     "metadata": {},
     "output_type": "display_data"
    }
   ],
   "source": [
    "l.error(\"An Error!\")"
   ]
  },
  {
   "cell_type": "markdown",
   "metadata": {},
   "source": [
    "## Functions to make my life easier!\n",
    "> A bunch of random functions to deal with notebooks, git, colab, wandb, etc..."
   ]
  },
  {
   "cell_type": "code",
   "execution_count": null,
   "metadata": {},
   "outputs": [],
   "source": [
    "#| export\n",
    "def is_nb(fname: Path):\n",
    "    \"filter files that are jupyter notebooks\"\n",
    "    return (fname.suffix == \".ipynb\") and (not fname.name.startswith(\"_\")) and (not \"checkpoint\" in str(fname))"
   ]
  },
  {
   "cell_type": "code",
   "execution_count": null,
   "metadata": {},
   "outputs": [],
   "source": [
    "assert is_nb(Path(\"02_utils.ipynb\"))\n",
    "assert not is_nb(Path(\"file.csv\"))"
   ]
  },
  {
   "cell_type": "code",
   "execution_count": null,
   "metadata": {},
   "outputs": [],
   "source": [
    "#| export\n",
    "def find_nbs(path: Path):\n",
    "    \"Get all nbs on path recursively\"\n",
    "    path = Path(path).resolve()\n",
    "    if is_nb(path):\n",
    "        return [path.resolve()]\n",
    "    return L([nb.resolve() for nb in path.rglob(\"*.ipynb\") if is_nb(nb)]).sorted()"
   ]
  },
  {
   "cell_type": "markdown",
   "metadata": {},
   "source": [
    "there should be 7 notebooks here"
   ]
  },
  {
   "cell_type": "code",
   "execution_count": null,
   "metadata": {},
   "outputs": [],
   "source": [
    "assert len(find_nbs(Path(\"test_data\"))) == 2"
   ]
  },
  {
   "cell_type": "code",
   "execution_count": null,
   "metadata": {},
   "outputs": [],
   "source": [
    "#| export\n",
    "def print_output(notebook):  # pragma: no cover\n",
    "    \"Print `notebook` in stdout for git things\"\n",
    "    output_stream = io.TextIOWrapper(sys.stdout.buffer, encoding=\"utf-8\")\n",
    "    x = json.dumps(notebook, sort_keys=True, indent=1, ensure_ascii=False)\n",
    "    output_stream.write(x)\n",
    "    output_stream.write(\"\\n\")\n",
    "    output_stream.flush()"
   ]
  },
  {
   "cell_type": "code",
   "execution_count": null,
   "metadata": {},
   "outputs": [],
   "source": [
    "# only works in terminal\n",
    "# print_output(notebook)"
   ]
  },
  {
   "cell_type": "code",
   "execution_count": null,
   "metadata": {},
   "outputs": [],
   "source": [
    "#| export\n",
    "CellType = SimpleNamespace(code=\"code\", md=\"markdown\")"
   ]
  },
  {
   "cell_type": "code",
   "execution_count": null,
   "metadata": {},
   "outputs": [],
   "source": [
    "#| export\n",
    "def search_cell(cell, string) -> bool:\n",
    "    \"Search string in cell source, can be a list\"\n",
    "    source = listify(cell[\"source\"])\n",
    "    source = \"\".join(source)\n",
    "    if string in source:\n",
    "        return True\n",
    "    return False"
   ]
  },
  {
   "cell_type": "code",
   "execution_count": null,
   "metadata": {},
   "outputs": [],
   "source": [
    "cells = notebook[\"cells\"]"
   ]
  },
  {
   "cell_type": "code",
   "execution_count": null,
   "metadata": {},
   "outputs": [],
   "source": [
    "#check that we import rich\n",
    "imports_cell = cells[3]\n",
    "assert search_cell(imports_cell, \"rich\")"
   ]
  },
  {
   "cell_type": "code",
   "execution_count": null,
   "metadata": {},
   "outputs": [],
   "source": [
    "#| export\n",
    "def search_cells(nb, string: str = None, cell_type=CellType.code):\n",
    "    \"Get cells containing string, you can pass comma separated strings\"\n",
    "    strings = ifnone(string, \"\").replace(\" \", \"\").split(\",\")\n",
    "    cells = []\n",
    "    for cell in nb[\"cells\"]:\n",
    "        if cell[\"cell_type\"] == cell_type:\n",
    "            if any([search_cell(cell, string) for string in strings]):\n",
    "                cells.append(cell[\"source\"])\n",
    "    return cells"
   ]
  },
  {
   "cell_type": "markdown",
   "metadata": {},
   "source": [
    "return the cells that contain the string in question"
   ]
  },
  {
   "cell_type": "code",
   "execution_count": null,
   "metadata": {},
   "outputs": [
    {
     "data": {
      "text/plain": [
       "['#| export\\ndef search_cells(nb, string: str = None, cell_type=CellType.code):\\n    \"Get cells containing string, you can pass comma separated strings\"\\n    strings = ifnone(string, \"\").replace(\" \", \"\").split(\",\")\\n    cells = []\\n    for cell in nb[\"cells\"]:\\n        if cell[\"cell_type\"] == cell_type:\\n            if any([search_cell(cell, string) for string in strings]):\\n                cells.append(cell[\"source\"])\\n    return cells',\n",
       " 'search_cells(notebook, \"search_cells\")',\n",
       " '#| export\\ndef search_string_in_nb(nb, string: str = None, cell_type=CellType.code):\\n    \"Check if string is present in notebook cells, you can pass comma separated strings\"\\n    return len(search_cells(nb, string, cell_type)) > 0',\n",
       " 'assert search_string_in_nb(notebook, \"search_cells\")',\n",
       " '#| export\\ndef detect_imported_libs(notebook):\\n    \"Guess imported libs from notebook\"\\n    text_list = L(search_cells(notebook, \"import,from\")).concat()\\n\\n    # format lines\\n    text_list = L([x.split(\"\\\\n\") for x in text_list]).concat()\\n    text_list = [line for line in text_list if ((\"from\" in line) or (\"import\" in line))]\\n\\n    return extract_libs(text_list)',\n",
       " 'text_list = search_cells(notebook, \"import,from\")']"
      ]
     },
     "execution_count": null,
     "metadata": {},
     "output_type": "execute_result"
    }
   ],
   "source": [
    "search_cells(notebook, \"search_cells\")"
   ]
  },
  {
   "cell_type": "markdown",
   "metadata": {},
   "source": [
    "it is useful to filter out notebooks based on libraries or functions"
   ]
  },
  {
   "cell_type": "code",
   "execution_count": null,
   "metadata": {},
   "outputs": [],
   "source": [
    "#| export\n",
    "def search_string_in_nb(nb, string: str = None, cell_type=CellType.code):\n",
    "    \"Check if string is present in notebook cells, you can pass comma separated strings\"\n",
    "    return len(search_cells(nb, string, cell_type)) > 0"
   ]
  },
  {
   "cell_type": "code",
   "execution_count": null,
   "metadata": {},
   "outputs": [],
   "source": [
    "assert search_string_in_nb(notebook, \"search_cells\")"
   ]
  },
  {
   "cell_type": "markdown",
   "metadata": {},
   "source": [
    "Used imports and libraries"
   ]
  },
  {
   "cell_type": "code",
   "execution_count": null,
   "metadata": {},
   "outputs": [],
   "source": [
    "#| export\n",
    "def extract_libs(strings):\n",
    "    \"Automatically detect libraries imported in `strings`\"\n",
    "\n",
    "    after_import_regex = re.compile(r\"^import\\s([^\\.]*)\", re.VERBOSE)\n",
    "    before_as_regex = re.compile(r\"([^\\s]*?)\\sas\\s\", re.VERBOSE)\n",
    "    between_from_import_regex = re.compile(r\"^from\\s(.*?)\\simport\", re.VERBOSE)\n",
    "\n",
    "    def _search_with_regex(regex, string):\n",
    "        res = regex.search(string)\n",
    "        if res is not None:\n",
    "            return res.group(1)\n",
    "        else:\n",
    "            return \"\"\n",
    "\n",
    "    libs = []\n",
    "    for string in strings:\n",
    "        if \"from\" in string:\n",
    "            string = _search_with_regex(between_from_import_regex, string).split(\".\")[0]\n",
    "        else:\n",
    "            string = _search_with_regex(after_import_regex, string)\n",
    "            if \"as\" in string:\n",
    "                string = _search_with_regex(before_as_regex, string)\n",
    "        if string:\n",
    "            libs.append(string.replace(\" \", \"\").split(\",\"))\n",
    "    return L(libs).concat().unique()"
   ]
  },
  {
   "cell_type": "code",
   "execution_count": null,
   "metadata": {},
   "outputs": [],
   "source": [
    "libs = [\"import io, json, sys, re, csv, logging\",\n",
    "        \"import git\",\n",
    "        \"from types import SimpleNamespace\",\n",
    "        \"from logging import Formatter\"]"
   ]
  },
  {
   "cell_type": "code",
   "execution_count": null,
   "metadata": {},
   "outputs": [
    {
     "data": {
      "text/plain": [
       "['import io, json, sys, re, csv, logging',\n",
       " 'import git',\n",
       " 'from types import SimpleNamespace',\n",
       " 'from logging import Formatter']"
      ]
     },
     "execution_count": null,
     "metadata": {},
     "output_type": "execute_result"
    }
   ],
   "source": [
    "libs"
   ]
  },
  {
   "cell_type": "code",
   "execution_count": null,
   "metadata": {},
   "outputs": [
    {
     "data": {
      "text/plain": [
       "(#8) ['io','json','sys','re','csv','logging','git','types']"
      ]
     },
     "execution_count": null,
     "metadata": {},
     "output_type": "execute_result"
    }
   ],
   "source": [
    "extract_libs(libs)"
   ]
  },
  {
   "cell_type": "code",
   "execution_count": null,
   "metadata": {},
   "outputs": [],
   "source": [
    "#| export\n",
    "def detect_imported_libs(notebook):\n",
    "    \"Guess imported libs from notebook\"\n",
    "    text_list = L(search_cells(notebook, \"import,from\")).concat()\n",
    "\n",
    "    # format lines\n",
    "    text_list = L([x.split(\"\\n\") for x in text_list]).concat()\n",
    "    text_list = [line for line in text_list if ((\"from\" in line) or (\"import\" in line))]\n",
    "\n",
    "    return extract_libs(text_list)"
   ]
  },
  {
   "cell_type": "code",
   "execution_count": null,
   "metadata": {},
   "outputs": [],
   "source": [
    "text_list = search_cells(notebook, \"import,from\")"
   ]
  },
  {
   "cell_type": "code",
   "execution_count": null,
   "metadata": {},
   "outputs": [
    {
     "data": {
      "text/plain": [
       "(#13) ['io','json','sys','re','csv','logging','git','types','fastcore','datetime'...]"
      ]
     },
     "execution_count": null,
     "metadata": {},
     "output_type": "execute_result"
    }
   ],
   "source": [
    "detect_imported_libs(notebook)"
   ]
  },
  {
   "cell_type": "markdown",
   "metadata": {},
   "source": [
    "## Git stuff\n",
    "We deal with a bunch of guessing on the repo we are at, so we use pygit for this sorcery"
   ]
  },
  {
   "cell_type": "code",
   "execution_count": null,
   "metadata": {},
   "outputs": [],
   "source": [
    "#| export\n",
    "def get_repo(fname) -> git.Repo:\n",
    "    try:\n",
    "        repo = git.Repo(fname, search_parent_directories=True)\n",
    "        return repo\n",
    "    except Exception as e:\n",
    "        raise Exception(f\"Probably not in a git repo: {e}\")"
   ]
  },
  {
   "cell_type": "code",
   "execution_count": null,
   "metadata": {},
   "outputs": [],
   "source": [
    "repo = get_repo(this_nb)\n",
    "assert type(repo) == git.Repo"
   ]
  },
  {
   "cell_type": "code",
   "execution_count": null,
   "metadata": {},
   "outputs": [],
   "source": [
    "#| export\n",
    "def git_current_branch(fname) -> str:\n",
    "    \"Get current git branch\"\n",
    "    repo = get_repo(fname)\n",
    "    try:\n",
    "        return repo.active_branch.name\n",
    "    except Exception as e:\n",
    "        return \"master\""
   ]
  },
  {
   "cell_type": "code",
   "execution_count": null,
   "metadata": {},
   "outputs": [
    {
     "data": {
      "text/plain": [
       "'fix-ci'"
      ]
     },
     "execution_count": null,
     "metadata": {},
     "output_type": "execute_result"
    }
   ],
   "source": [
    "git_current_branch(this_nb)"
   ]
  },
  {
   "cell_type": "code",
   "execution_count": null,
   "metadata": {},
   "outputs": [],
   "source": [
    "#| export\n",
    "def git_main_name(fname) -> str:\n",
    "    \"Get the name of master/main branch\"\n",
    "    repo = get_repo(fname)\n",
    "    branches = [b.name for b in repo.branches]\n",
    "    return \"main\" if \"main\" in branches else \"master\""
   ]
  },
  {
   "cell_type": "code",
   "execution_count": null,
   "metadata": {},
   "outputs": [],
   "source": [
    "assert git_main_name(this_nb) == 'main'"
   ]
  },
  {
   "cell_type": "code",
   "execution_count": null,
   "metadata": {},
   "outputs": [],
   "source": [
    "#| export\n",
    "def git_origin_repo(fname):\n",
    "    \"Get github repo name from `fname`\"\n",
    "    repo = get_repo(fname)\n",
    "    repo_url = repo.remote().url\n",
    "\n",
    "    # check if ssh or html\n",
    "    if repo_url != \"\":\n",
    "        if \"git@\" in repo_url:\n",
    "            github_repo = re.search(r\".com:(.*).git\", repo_url).group(1)\n",
    "        else:\n",
    "            github_repo = re.search(r\".com/(.*).git\", repo_url).group(1)\n",
    "        return github_repo\n",
    "    else:\n",
    "        raise Exception(f\"Not in a valid github repo: {fname=}\")"
   ]
  },
  {
   "cell_type": "code",
   "execution_count": null,
   "metadata": {},
   "outputs": [],
   "source": [
    "repo_name = git_origin_repo(this_nb)\n",
    "assert repo_name == 'wandb/nb_helpers', f\"The repo name is {repo_name}\""
   ]
  },
  {
   "cell_type": "code",
   "execution_count": null,
   "metadata": {},
   "outputs": [],
   "source": [
    "#| export\n",
    "def git_local_repo(fname):\n",
    "    \"Get local github repo path\"\n",
    "    repo = get_repo(fname)\n",
    "    return Path(repo.git_dir).parent.resolve()"
   ]
  },
  {
   "cell_type": "code",
   "execution_count": null,
   "metadata": {},
   "outputs": [
    {
     "data": {
      "text/plain": [
       "Path('/Users/tcapelle/wandb/nb_helpers')"
      ]
     },
     "execution_count": null,
     "metadata": {},
     "output_type": "execute_result"
    }
   ],
   "source": [
    "git_local_repo(this_nb)"
   ]
  },
  {
   "cell_type": "code",
   "execution_count": null,
   "metadata": {},
   "outputs": [],
   "source": [
    "#| export\n",
    "def git_last_commit(fname):\n",
    "    \"Gets the last commit on fname\"\n",
    "    repo = get_repo(fname)\n",
    "    return repo.commit().hexsha"
   ]
  },
  {
   "cell_type": "code",
   "execution_count": null,
   "metadata": {},
   "outputs": [
    {
     "data": {
      "text/plain": [
       "'2016c290419b94ac4afb4c7711c87c64ce992da6'"
      ]
     },
     "execution_count": null,
     "metadata": {},
     "output_type": "execute_result"
    }
   ],
   "source": [
    "git_last_commit(this_nb)"
   ]
  },
  {
   "cell_type": "markdown",
   "metadata": {},
   "source": [
    "## Other random stuff"
   ]
  },
  {
   "cell_type": "code",
   "execution_count": null,
   "metadata": {},
   "outputs": [],
   "source": [
    "#| export\n",
    "def today():\n",
    "    \"datetime object containing current date and time\"\n",
    "    now = datetime.now()\n",
    "\n",
    "    # dd/mm/YY H:M:S\n",
    "    dt_string = now.strftime(\"%d/%m/%Y %H:%M:%S\")\n",
    "    return dt_string"
   ]
  },
  {
   "cell_type": "markdown",
   "metadata": {},
   "source": [
    "get todays date in nice format"
   ]
  },
  {
   "cell_type": "code",
   "execution_count": null,
   "metadata": {},
   "outputs": [
    {
     "data": {
      "text/plain": [
       "'12/09/2022 15:20:22'"
      ]
     },
     "execution_count": null,
     "metadata": {},
     "output_type": "execute_result"
    }
   ],
   "source": [
    "today()"
   ]
  }
 ],
 "metadata": {
  "jupytext": {
   "split_at_heading": true
  },
  "kernelspec": {
   "display_name": "Python 3 (ipykernel)",
   "language": "python",
   "name": "python3"
  }
 },
 "nbformat": 4,
 "nbformat_minor": 4
}
