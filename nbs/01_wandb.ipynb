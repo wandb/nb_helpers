{
 "cells": [
  {
   "cell_type": "markdown",
   "metadata": {},
   "source": [
    "<a href=\"https://colab.research.google.com/github/wandb/nb_helpers/blob/main/nbs/01_wandb.ipynb\" target=\"_parent\"><img src=\"https://colab.research.google.com/assets/colab-badge.svg\" alt=\"Open In Colab\"/></a>\n",
    "<!--- @wandbcode{tracker} -->"
   ]
  },
  {
   "cell_type": "code",
   "execution_count": null,
   "metadata": {},
   "outputs": [],
   "source": [
    "#| default_exp wandb"
   ]
  },
  {
   "cell_type": "markdown",
   "metadata": {},
   "source": [
    "# Weights and Biases specifics\n",
    "> To deal with wandb specific usage for our examples repo https://github.com/wandb/examples"
   ]
  },
  {
   "cell_type": "code",
   "execution_count": null,
   "metadata": {},
   "outputs": [],
   "source": [
    "#| export\n",
    "import re, os\n",
    "from pathlib import Path\n",
    "from tempfile import TemporaryDirectory\n",
    "\n",
    "from fastcore.script import Param, call_parse, store_true\n",
    "from fastcore.basics import listify\n",
    "\n",
    "from execnb.nbio import read_nb, write_nb\n",
    "\n",
    "from nb_helpers.utils import (\n",
    "    detect_imported_libs,\n",
    "    git_main_name,\n",
    "    search_string_in_nb,\n",
    "    find_nbs,\n",
    "    RichLogger,\n",
    "    git_local_repo,\n",
    ")\n",
    "from nb_helpers.clean import clean_nb, clean_one\n",
    "from nb_helpers.colab import add_colab_badge, add_colab_metadata, get_colab_url, has_colab_badge"
   ]
  },
  {
   "cell_type": "code",
   "execution_count": null,
   "metadata": {},
   "outputs": [],
   "source": [
    "this_nb = Path(\"01_wandb.ipynb\")\n",
    "notebook = read_nb(this_nb)"
   ]
  },
  {
   "cell_type": "code",
   "execution_count": null,
   "metadata": {},
   "outputs": [],
   "source": [
    "#| export\n",
    "WANDB_FEATURES = \"Table,sweep,WandbCallback,WandbLogger,Artifact\""
   ]
  },
  {
   "cell_type": "code",
   "execution_count": null,
   "metadata": {},
   "outputs": [],
   "source": [
    "#| export\n",
    "PYTHON_LIBS = \"torch,keras,tensorflow,sklearn,yolo,jax,pandas,numpy,spacy,transformers,lightning,fastai\""
   ]
  },
  {
   "cell_type": "code",
   "execution_count": null,
   "metadata": {},
   "outputs": [],
   "source": [
    "#| export\n",
    "def get_wandb_tracker(nb):\n",
    "    \"Get the value inside <!--- @wandbcode{tracker} -->\"\n",
    "    for cell in nb[\"cells\"]:\n",
    "        if \"@wandbcode\" in cell[\"source\"]:\n",
    "            tracker_id = re.search(r\"@wandbcode{(.*?)}\", cell[\"source\"]).group(1)\n",
    "            return tracker_id.split(\",\")[0]\n",
    "    return \"\""
   ]
  },
  {
   "cell_type": "code",
   "execution_count": null,
   "metadata": {},
   "outputs": [],
   "source": [
    "assert get_wandb_tracker(notebook) == \"tracker\""
   ]
  },
  {
   "cell_type": "code",
   "execution_count": null,
   "metadata": {},
   "outputs": [],
   "source": [
    "#| export\n",
    "def search_code(nb, features=WANDB_FEATURES):\n",
    "    \"Search notebook for features\"\n",
    "    present_features = []\n",
    "    for feat in listify(features.split(\",\")):\n",
    "        if search_string_in_nb(nb, feat):\n",
    "            present_features.append(feat)\n",
    "    return present_features"
   ]
  },
  {
   "cell_type": "code",
   "execution_count": null,
   "metadata": {},
   "outputs": [],
   "source": [
    "search_code(notebook)"
   ]
  },
  {
   "cell_type": "code",
   "execution_count": null,
   "metadata": {},
   "outputs": [],
   "source": [
    "#| export\n",
    "@call_parse\n",
    "def summary_nbs(\n",
    "    path: Param(\"A path to nb files\", Path, nargs=\"?\", opt=False) = os.getcwd(),\n",
    "    wandb_features: Param(\"wandb features to identify, comma separated\", str) = WANDB_FEATURES,\n",
    "    out_file: Param(\"Export to csv file\", Path) = \"summary_table.csv\",\n",
    "    full_path: Param(\"Use full path for fname\", store_true) = False,\n",
    "):\n",
    "    path = Path(path)\n",
    "    # out_file = (path.parent / out_file).with_suffix(\".csv\")\n",
    "    logger = RichLogger(columns=[\"fname\", \"tracker\", \"wandb\", \"python libs\", \"colab_idx\"], out_file=out_file)\n",
    "\n",
    "    files = find_nbs(path)\n",
    "    assert len(files) > 0, \"There is no `ipynb` notebooks in the path you submited\"\n",
    "\n",
    "    logger.info(f\"Reading {len(files)} notebooks\")\n",
    "\n",
    "    repo_path = git_local_repo(files[0])\n",
    "    branch = git_main_name(repo_path)\n",
    "\n",
    "    for nb_path in files:\n",
    "        nb = read_nb(nb_path)\n",
    "        tracker_id = get_wandb_tracker(nb)\n",
    "        fname = nb_path.name if not full_path else nb_path.relative_to(repo_path)\n",
    "        features = search_code(nb, wandb_features)\n",
    "        libs = detect_imported_libs(nb)\n",
    "        colab_cell_idx = has_colab_badge(nb)\n",
    "        row = [\n",
    "            str(fname),\n",
    "            tracker_id,\n",
    "            \", \".join(features),\n",
    "            \", \".join(libs),\n",
    "            str(colab_cell_idx) if colab_cell_idx != -1 else \"\",\n",
    "        ]\n",
    "        colab_link = get_colab_url(nb_path, branch)\n",
    "        logger.writerow(row, colab_link)\n",
    "    logger.to_table()\n",
    "    logger.to_csv(Path(out_file).with_suffix(\".csv\"))\n",
    "    logger.to_md(Path(out_file).with_suffix(\".md\"))"
   ]
  },
  {
   "cell_type": "code",
   "execution_count": null,
   "metadata": {},
   "outputs": [],
   "source": [
    "with TemporaryDirectory() as d:\n",
    "    summary_nbs(out_file=Path(d)/\"summary.csv\")"
   ]
  },
  {
   "cell_type": "code",
   "execution_count": null,
   "metadata": {},
   "outputs": [],
   "source": [
    "#| export\n",
    "@call_parse\n",
    "def fix_nbs(\n",
    "    path: Param(\"A path to nb files\", Path, nargs=\"?\", opt=False) = os.getcwd(),\n",
    "    colab_cell_idx: Param(\"Cell idx where the colab badge must go\", int) = 0,\n",
    "    branch: Param(\"The branch\", str) = None,\n",
    "):\n",
    "\n",
    "    path = Path(path)\n",
    "    files = find_nbs(path)\n",
    "    assert len(files) > 0, \"There is no `ipynb` notebooks in the path you submited\"\n",
    "\n",
    "    for nb_path in files:\n",
    "        print(f\"Add colab badge to {nb_path}\")\n",
    "        clean_one(nb_path, clear_outs=True)\n",
    "        nb = read_nb(nb_path)\n",
    "        tracker = get_wandb_tracker(nb)\n",
    "        if tracker is not None and tracker != \"\":\n",
    "            tracker = f\"<!--- @wandbcode{{{tracker}}} -->\"\n",
    "        nb = add_colab_badge(nb, nb_path, branch=branch, idx=colab_cell_idx, tracker=tracker)\n",
    "        add_colab_metadata(nb)\n",
    "        clean_nb(nb)\n",
    "        write_nb(nb, nb_path)"
   ]
  },
  {
   "cell_type": "markdown",
   "metadata": {},
   "source": [
    "let's make sure that every notebooks has a `open in colab` badge"
   ]
  },
  {
   "cell_type": "code",
   "execution_count": null,
   "metadata": {},
   "outputs": [],
   "source": [
    "#|eval: false\n",
    "fix_nbs()"
   ]
  },
  {
   "cell_type": "markdown",
   "metadata": {},
   "source": [
    "We may want to check what libs are in use:"
   ]
  },
  {
   "cell_type": "code",
   "execution_count": null,
   "metadata": {},
   "outputs": [],
   "source": [
    "#| export\n",
    "@call_parse\n",
    "def filter_nbs(\n",
    "    path: Param(\"A path to nb files\", Path, nargs=\"?\", opt=False) = os.getcwd(),\n",
    "    lib_name: Param(\"Python lib names to filter, eg: tensorflow\", str) = \"\",\n",
    "    out_file: Param(\"Export to csv file\", Path) = \"filtered_nbs.csv\",\n",
    "):\n",
    "\n",
    "    path = Path(path)\n",
    "\n",
    "    logger = RichLogger(columns=[\"fname\", \"python libs\"], out_file=out_file)\n",
    "\n",
    "    files = find_nbs(path)\n",
    "    assert len(files) > 0, \"There is no `ipynb` notebooks in the path you submited\"\n",
    "\n",
    "    repo_path = git_local_repo(files[0])\n",
    "\n",
    "    for nb_path in files:\n",
    "        nb = read_nb(nb_path)\n",
    "        fname = nb_path.relative_to(repo_path)\n",
    "        libs = \", \".join(detect_imported_libs(nb))\n",
    "        if lib_name in libs:\n",
    "            row = [str(fname), libs]\n",
    "            logger.writerow(row)\n",
    "\n",
    "    logger.to_table()\n",
    "    logger.to_csv(Path(out_file).with_suffix(\".csv\"), format_link=False)"
   ]
  },
  {
   "cell_type": "code",
   "execution_count": null,
   "metadata": {},
   "outputs": [],
   "source": [
    "with TemporaryDirectory() as d:\n",
    "    filter_nbs(out_file=Path(d)/\"summary.csv\")"
   ]
  }
 ],
 "metadata": {
  "jupytext": {
   "split_at_heading": true
  },
  "kernelspec": {
   "display_name": "python3",
   "language": "python",
   "name": "python3"
  }
 },
 "nbformat": 4,
 "nbformat_minor": 4
}
