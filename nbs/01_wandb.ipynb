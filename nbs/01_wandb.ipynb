{
 "cells": [
  {
   "attachments": {},
   "cell_type": "markdown",
   "metadata": {},
   "source": [
    "<a href=\"https://colab.research.google.com/github/wandb/nb_helpers/blob/main/nbs/01_wandb.ipynb\" target=\"_parent\"><img src=\"https://colab.research.google.com/assets/colab-badge.svg\" alt=\"Open In Colab\"/></a>\n",
    "<!--- @wandbcode{tracker} -->"
   ]
  },
  {
   "cell_type": "code",
   "execution_count": null,
   "metadata": {},
   "outputs": [],
   "source": [
    "#| default_exp wandb"
   ]
  },
  {
   "attachments": {},
   "cell_type": "markdown",
   "metadata": {},
   "source": [
    "# Weights and Biases specifics\n",
    "> To deal with wandb specific usage for our examples repo https://github.com/wandb/examples"
   ]
  },
  {
   "cell_type": "code",
   "execution_count": null,
   "metadata": {},
   "outputs": [],
   "source": [
    "#| export\n",
    "import re, os\n",
    "from pathlib import Path\n",
    "from tempfile import TemporaryDirectory\n",
    "\n",
    "from fastcore.script import Param, call_parse, store_true\n",
    "from fastcore.basics import listify\n",
    "\n",
    "from execnb.nbio import read_nb, write_nb\n",
    "\n",
    "from nb_helpers.utils import (\n",
    "    detect_imported_libs,\n",
    "    git_main_name,\n",
    "    search_string_in_nb,\n",
    "    find_nbs,\n",
    "    RichLogger,\n",
    "    git_local_repo,\n",
    ")\n",
    "from nb_helpers.clean import clean_nb, clean_one\n",
    "from nb_helpers.colab import add_colab_badge, add_colab_metadata, get_colab_url, has_colab_badge"
   ]
  },
  {
   "cell_type": "code",
   "execution_count": null,
   "metadata": {},
   "outputs": [],
   "source": [
    "this_nb = Path(\"01_wandb.ipynb\")\n",
    "notebook = read_nb(this_nb)"
   ]
  },
  {
   "cell_type": "code",
   "execution_count": null,
   "metadata": {},
   "outputs": [],
   "source": [
    "#| export\n",
    "WANDB_FEATURES = \"Table,sweep,WandbCallback,WandbLogger,Artifact\""
   ]
  },
  {
   "cell_type": "code",
   "execution_count": null,
   "metadata": {},
   "outputs": [],
   "source": [
    "#| export\n",
    "PYTHON_LIBS = \"torch,keras,tensorflow,sklearn,yolo,jax,pandas,numpy,spacy,transformers,lightning,fastai\""
   ]
  },
  {
   "cell_type": "code",
   "execution_count": null,
   "metadata": {},
   "outputs": [],
   "source": [
    "#| export\n",
    "def get_wandb_tracker(nb):\n",
    "    \"Get the value inside <!--- @wandbcode{tracker} -->\"\n",
    "    for cell in nb[\"cells\"]:\n",
    "        if \"@wandbcode\" in cell[\"source\"]:\n",
    "            match = re.search(r\"@wandbcode{(.*?)}\", cell[\"source\"])\n",
    "            if match is not None:\n",
    "                tracker_id = match.group(1)  \n",
    "                return tracker_id.split(\",\")[0]\n",
    "    return \"\""
   ]
  },
  {
   "cell_type": "code",
   "execution_count": null,
   "metadata": {},
   "outputs": [],
   "source": [
    "assert get_wandb_tracker(notebook) == \"tracker\""
   ]
  },
  {
   "cell_type": "code",
   "execution_count": null,
   "metadata": {},
   "outputs": [],
   "source": [
    "#| export\n",
    "def search_code(nb, features=WANDB_FEATURES):\n",
    "    \"Search notebook for features\"\n",
    "    present_features = []\n",
    "    for feat in listify(features.split(\",\")):\n",
    "        if search_string_in_nb(nb, feat):\n",
    "            present_features.append(feat)\n",
    "    return present_features"
   ]
  },
  {
   "cell_type": "code",
   "execution_count": null,
   "metadata": {},
   "outputs": [
    {
     "data": {
      "text/plain": [
       "['Table', 'sweep', 'WandbCallback', 'WandbLogger', 'Artifact']"
      ]
     },
     "execution_count": null,
     "metadata": {},
     "output_type": "execute_result"
    }
   ],
   "source": [
    "search_code(notebook)"
   ]
  },
  {
   "cell_type": "code",
   "execution_count": null,
   "metadata": {},
   "outputs": [],
   "source": [
    "#| export\n",
    "@call_parse\n",
    "def summary_nbs(\n",
    "    path: Param(\"A path to nb files\", Path, nargs=\"?\", opt=False) = os.getcwd(),\n",
    "    wandb_features: Param(\"wandb features to identify, comma separated\", str) = WANDB_FEATURES,\n",
    "    out_file: Param(\"Export to csv file\", Path) = \"summary_table.csv\",\n",
    "    full_path: Param(\"Use full path for fname\", store_true) = False,\n",
    "):\n",
    "    path = Path(path)\n",
    "    # out_file = (path.parent / out_file).with_suffix(\".csv\")\n",
    "    logger = RichLogger(columns=[\"fname\", \"tracker\", \"wandb\", \"python libs\", \"colab_idx\"], out_file=out_file)\n",
    "\n",
    "    files = find_nbs(path)\n",
    "    assert len(files) > 0, \"There is no `ipynb` notebooks in the path you submited\"\n",
    "\n",
    "    logger.info(f\"Reading {len(files)} notebooks\")\n",
    "\n",
    "    repo_path = git_local_repo(files[0])\n",
    "    branch = git_main_name(repo_path)\n",
    "\n",
    "    for nb_path in files:\n",
    "        print(nb_path)\n",
    "        nb = read_nb(nb_path)\n",
    "        tracker_id = get_wandb_tracker(nb)\n",
    "        fname = nb_path.name if not full_path else nb_path.relative_to(repo_path)\n",
    "        features = search_code(nb, wandb_features)\n",
    "        libs = detect_imported_libs(nb)\n",
    "        colab_cell_idx = has_colab_badge(nb)\n",
    "        row = [\n",
    "            str(fname),\n",
    "            tracker_id,\n",
    "            \", \".join(features),\n",
    "            \", \".join(libs),\n",
    "            str(colab_cell_idx) if colab_cell_idx != -1 else \"\",\n",
    "        ]\n",
    "        colab_link = get_colab_url(nb_path, branch)\n",
    "        logger.writerow(row, colab_link)\n",
    "    logger.to_table()\n",
    "    logger.to_csv(Path(out_file).with_suffix(\".csv\"))\n",
    "    logger.to_md(Path(out_file).with_suffix(\".md\"))"
   ]
  },
  {
   "cell_type": "code",
   "execution_count": null,
   "metadata": {},
   "outputs": [
    {
     "name": "stdout",
     "output_type": "stream",
     "text": [
      "/Users/tcapelle/work/nb_helpers/nbs/00_colab.ipynb\n",
      "/Users/tcapelle/work/nb_helpers/nbs/01_wandb.ipynb\n",
      "/Users/tcapelle/work/nb_helpers/nbs/02_utils.ipynb\n",
      "/Users/tcapelle/work/nb_helpers/nbs/03_actions.ipynb\n",
      "/Users/tcapelle/work/nb_helpers/nbs/04_clean.ipynb\n",
      "/Users/tcapelle/work/nb_helpers/nbs/05_run.ipynb\n",
      "/Users/tcapelle/work/nb_helpers/nbs/06_export.ipynb\n",
      "/Users/tcapelle/work/nb_helpers/nbs/test_data/fail_nb.ipynb\n",
      "/Users/tcapelle/work/nb_helpers/nbs/test_data/test_nb.ipynb\n"
     ]
    },
    {
     "data": {
      "text/html": [
       "<pre style=\"white-space:pre;overflow-x:auto;line-height:normal;font-family:Menlo,'DejaVu Sans Mono',consolas,'Courier New',monospace\"><span style=\"color: #ffff00; text-decoration-color: #ffff00\">┌───┬──────────────────┬─────────┬────────────────────────────────────────────────────┬────────────────────────────────────────────────────────────────────────────────┬───────────┐</span>\n",
       "<span style=\"color: #ffff00; text-decoration-color: #ffff00\">│</span><span style=\"color: #800080; text-decoration-color: #800080; font-weight: bold\"> # </span><span style=\"color: #ffff00; text-decoration-color: #ffff00\">│</span><span style=\"color: #800080; text-decoration-color: #800080; font-weight: bold\"> fname            </span><span style=\"color: #ffff00; text-decoration-color: #ffff00\">│</span><span style=\"color: #800080; text-decoration-color: #800080; font-weight: bold\"> tracker </span><span style=\"color: #ffff00; text-decoration-color: #ffff00\">│</span><span style=\"color: #800080; text-decoration-color: #800080; font-weight: bold\"> wandb                                              </span><span style=\"color: #ffff00; text-decoration-color: #ffff00\">│</span><span style=\"color: #800080; text-decoration-color: #800080; font-weight: bold\"> python libs                                                                    </span><span style=\"color: #ffff00; text-decoration-color: #ffff00\">│</span><span style=\"color: #800080; text-decoration-color: #800080; font-weight: bold\"> colab_idx </span><span style=\"color: #ffff00; text-decoration-color: #ffff00\">│</span>\n",
       "<span style=\"color: #ffff00; text-decoration-color: #ffff00\">├───┼──────────────────┼─────────┼────────────────────────────────────────────────────┼────────────────────────────────────────────────────────────────────────────────┼───────────┤</span>\n",
       "<span style=\"color: #ffff00; text-decoration-color: #ffff00\">│</span> 0 <span style=\"color: #ffff00; text-decoration-color: #ffff00\">│</span><span style=\"color: #008080; text-decoration-color: #008080\"> </span><a href=\"https://colab.research.google.com/github/wandb/nb_helpers/blob/main/nbs/00_colab.ipynb\" target=\"_blank\"><span style=\"color: #008080; text-decoration-color: #008080\">00_colab.ipynb</span></a><span style=\"color: #008080; text-decoration-color: #008080\">   </span><span style=\"color: #ffff00; text-decoration-color: #ffff00\">│</span>         <span style=\"color: #ffff00; text-decoration-color: #ffff00\">│</span>                                                    <span style=\"color: #ffff00; text-decoration-color: #ffff00\">│</span> pathlib, IPython, fastcore, execnb, nb_helpers, nbdev                          <span style=\"color: #ffff00; text-decoration-color: #ffff00\">│</span> 0         <span style=\"color: #ffff00; text-decoration-color: #ffff00\">│</span>\n",
       "<span style=\"color: #ffff00; text-decoration-color: #ffff00\">│</span><span style=\"color: #7f7f7f; text-decoration-color: #7f7f7f\"> 1 </span><span style=\"color: #ffff00; text-decoration-color: #ffff00\">│</span><span style=\"color: #7fbfbf; text-decoration-color: #7fbfbf\"> </span><a href=\"https://colab.research.google.com/github/wandb/nb_helpers/blob/main/nbs/01_wandb.ipynb\" target=\"_blank\"><span style=\"color: #7fbfbf; text-decoration-color: #7fbfbf\">01_wandb.ipynb</span></a><span style=\"color: #7fbfbf; text-decoration-color: #7fbfbf\">   </span><span style=\"color: #ffff00; text-decoration-color: #ffff00\">│</span><span style=\"color: #7f7f7f; text-decoration-color: #7f7f7f\"> tracker </span><span style=\"color: #ffff00; text-decoration-color: #ffff00\">│</span><span style=\"color: #7f7f7f; text-decoration-color: #7f7f7f\"> Table, sweep, WandbCallback, WandbLogger, Artifact </span><span style=\"color: #ffff00; text-decoration-color: #ffff00\">│</span><span style=\"color: #7f7f7f; text-decoration-color: #7f7f7f\"> re, os, pathlib, tempfile, fastcore, execnb, nb_helpers                        </span><span style=\"color: #ffff00; text-decoration-color: #ffff00\">│</span><span style=\"color: #7f7f7f; text-decoration-color: #7f7f7f\"> 0         </span><span style=\"color: #ffff00; text-decoration-color: #ffff00\">│</span>\n",
       "<span style=\"color: #ffff00; text-decoration-color: #ffff00\">│</span> 2 <span style=\"color: #ffff00; text-decoration-color: #ffff00\">│</span><span style=\"color: #008080; text-decoration-color: #008080\"> </span><a href=\"https://colab.research.google.com/github/wandb/nb_helpers/blob/main/nbs/02_utils.ipynb\" target=\"_blank\"><span style=\"color: #008080; text-decoration-color: #008080\">02_utils.ipynb</span></a><span style=\"color: #008080; text-decoration-color: #008080\">   </span><span style=\"color: #ffff00; text-decoration-color: #ffff00\">│</span>         <span style=\"color: #ffff00; text-decoration-color: #ffff00\">│</span> Table                                              <span style=\"color: #ffff00; text-decoration-color: #ffff00\">│</span> io, json, sys, re, csv, logging, git, types, fastcore, datetime, rich,         <span style=\"color: #ffff00; text-decoration-color: #ffff00\">│</span> 0         <span style=\"color: #ffff00; text-decoration-color: #ffff00\">│</span>\n",
       "<span style=\"color: #ffff00; text-decoration-color: #ffff00\">│</span>   <span style=\"color: #ffff00; text-decoration-color: #ffff00\">│</span><span style=\"color: #008080; text-decoration-color: #008080\">                  </span><span style=\"color: #ffff00; text-decoration-color: #ffff00\">│</span>         <span style=\"color: #ffff00; text-decoration-color: #ffff00\">│</span>                                                    <span style=\"color: #ffff00; text-decoration-color: #ffff00\">│</span> pathlib, execnb                                                                <span style=\"color: #ffff00; text-decoration-color: #ffff00\">│</span>           <span style=\"color: #ffff00; text-decoration-color: #ffff00\">│</span>\n",
       "<span style=\"color: #ffff00; text-decoration-color: #ffff00\">│</span><span style=\"color: #7f7f7f; text-decoration-color: #7f7f7f\"> 3 </span><span style=\"color: #ffff00; text-decoration-color: #ffff00\">│</span><span style=\"color: #7fbfbf; text-decoration-color: #7fbfbf\"> </span><a href=\"https://colab.research.google.com/github/wandb/nb_helpers/blob/main/nbs/03_actions.ipynb\" target=\"_blank\"><span style=\"color: #7fbfbf; text-decoration-color: #7fbfbf\">03_actions.ipynb</span></a><span style=\"color: #7fbfbf; text-decoration-color: #7fbfbf\"> </span><span style=\"color: #ffff00; text-decoration-color: #ffff00\">│</span><span style=\"color: #7f7f7f; text-decoration-color: #7f7f7f\">         </span><span style=\"color: #ffff00; text-decoration-color: #ffff00\">│</span><span style=\"color: #7f7f7f; text-decoration-color: #7f7f7f\"> Artifact                                           </span><span style=\"color: #ffff00; text-decoration-color: #ffff00\">│</span><span style=\"color: #7f7f7f; text-decoration-color: #7f7f7f\"> json, fastcore, ghapi, nb_helpers, IPython                                     </span><span style=\"color: #ffff00; text-decoration-color: #ffff00\">│</span><span style=\"color: #7f7f7f; text-decoration-color: #7f7f7f\"> 0         </span><span style=\"color: #ffff00; text-decoration-color: #ffff00\">│</span>\n",
       "<span style=\"color: #ffff00; text-decoration-color: #ffff00\">│</span> 4 <span style=\"color: #ffff00; text-decoration-color: #ffff00\">│</span><span style=\"color: #008080; text-decoration-color: #008080\"> </span><a href=\"https://colab.research.google.com/github/wandb/nb_helpers/blob/main/nbs/04_clean.ipynb\" target=\"_blank\"><span style=\"color: #008080; text-decoration-color: #008080\">04_clean.ipynb</span></a><span style=\"color: #008080; text-decoration-color: #008080\">   </span><span style=\"color: #ffff00; text-decoration-color: #ffff00\">│</span>         <span style=\"color: #ffff00; text-decoration-color: #ffff00\">│</span> Table                                              <span style=\"color: #ffff00; text-decoration-color: #ffff00\">│</span> io, json, os, pathlib, rich, fastcore, execnb, nb_helpers                      <span style=\"color: #ffff00; text-decoration-color: #ffff00\">│</span> 0         <span style=\"color: #ffff00; text-decoration-color: #ffff00\">│</span>\n",
       "<span style=\"color: #ffff00; text-decoration-color: #ffff00\">│</span><span style=\"color: #7f7f7f; text-decoration-color: #7f7f7f\"> 5 </span><span style=\"color: #ffff00; text-decoration-color: #ffff00\">│</span><span style=\"color: #7fbfbf; text-decoration-color: #7fbfbf\"> </span><a href=\"https://colab.research.google.com/github/wandb/nb_helpers/blob/main/nbs/05_run.ipynb\" target=\"_blank\"><span style=\"color: #7fbfbf; text-decoration-color: #7fbfbf\">05_run.ipynb</span></a><span style=\"color: #7fbfbf; text-decoration-color: #7fbfbf\">     </span><span style=\"color: #ffff00; text-decoration-color: #ffff00\">│</span><span style=\"color: #7f7f7f; text-decoration-color: #7f7f7f\">         </span><span style=\"color: #ffff00; text-decoration-color: #ffff00\">│</span><span style=\"color: #7f7f7f; text-decoration-color: #7f7f7f\">                                                    </span><span style=\"color: #ffff00; text-decoration-color: #ffff00\">│</span><span style=\"color: #7f7f7f; text-decoration-color: #7f7f7f\"> time, os, logging, re, pathlib, typing, fastcore, rich, execnb, nb_helpers     </span><span style=\"color: #ffff00; text-decoration-color: #ffff00\">│</span><span style=\"color: #7f7f7f; text-decoration-color: #7f7f7f\"> 0         </span><span style=\"color: #ffff00; text-decoration-color: #ffff00\">│</span>\n",
       "<span style=\"color: #ffff00; text-decoration-color: #ffff00\">│</span> 6 <span style=\"color: #ffff00; text-decoration-color: #ffff00\">│</span><span style=\"color: #008080; text-decoration-color: #008080\"> </span><a href=\"https://colab.research.google.com/github/wandb/nb_helpers/blob/main/nbs/06_export.ipynb\" target=\"_blank\"><span style=\"color: #008080; text-decoration-color: #008080\">06_export.ipynb</span></a><span style=\"color: #008080; text-decoration-color: #008080\">  </span><span style=\"color: #ffff00; text-decoration-color: #ffff00\">│</span>         <span style=\"color: #ffff00; text-decoration-color: #ffff00\">│</span>                                                    <span style=\"color: #ffff00; text-decoration-color: #ffff00\">│</span> os, pathlib, rich, fastcore, nb_helpers                                        <span style=\"color: #ffff00; text-decoration-color: #ffff00\">│</span> 0         <span style=\"color: #ffff00; text-decoration-color: #ffff00\">│</span>\n",
       "<span style=\"color: #ffff00; text-decoration-color: #ffff00\">│</span><span style=\"color: #7f7f7f; text-decoration-color: #7f7f7f\"> 7 </span><span style=\"color: #ffff00; text-decoration-color: #ffff00\">│</span><span style=\"color: #7fbfbf; text-decoration-color: #7fbfbf\"> </span><a href=\"https://colab.research.google.com/github/wandb/nb_helpers/blob/main/nbs/test_data/fail_nb.ipynb\" target=\"_blank\"><span style=\"color: #7fbfbf; text-decoration-color: #7fbfbf\">fail_nb.ipynb</span></a><span style=\"color: #7fbfbf; text-decoration-color: #7fbfbf\">    </span><span style=\"color: #ffff00; text-decoration-color: #ffff00\">│</span><span style=\"color: #7f7f7f; text-decoration-color: #7f7f7f\">         </span><span style=\"color: #ffff00; text-decoration-color: #ffff00\">│</span><span style=\"color: #7f7f7f; text-decoration-color: #7f7f7f\">                                                    </span><span style=\"color: #ffff00; text-decoration-color: #ffff00\">│</span><span style=\"color: #7f7f7f; text-decoration-color: #7f7f7f\">                                                                                </span><span style=\"color: #ffff00; text-decoration-color: #ffff00\">│</span><span style=\"color: #7f7f7f; text-decoration-color: #7f7f7f\"> 0         </span><span style=\"color: #ffff00; text-decoration-color: #ffff00\">│</span>\n",
       "<span style=\"color: #ffff00; text-decoration-color: #ffff00\">│</span> 8 <span style=\"color: #ffff00; text-decoration-color: #ffff00\">│</span><span style=\"color: #008080; text-decoration-color: #008080\"> </span><a href=\"https://colab.research.google.com/github/wandb/nb_helpers/blob/main/nbs/test_data/test_nb.ipynb\" target=\"_blank\"><span style=\"color: #008080; text-decoration-color: #008080\">test_nb.ipynb</span></a><span style=\"color: #008080; text-decoration-color: #008080\">    </span><span style=\"color: #ffff00; text-decoration-color: #ffff00\">│</span> tracker <span style=\"color: #ffff00; text-decoration-color: #ffff00\">│</span>                                                    <span style=\"color: #ffff00; text-decoration-color: #ffff00\">│</span> os, sys, logging, pathlib, fastcore, itertools                                 <span style=\"color: #ffff00; text-decoration-color: #ffff00\">│</span> 0         <span style=\"color: #ffff00; text-decoration-color: #ffff00\">│</span>\n",
       "<span style=\"color: #ffff00; text-decoration-color: #ffff00\">└───┴──────────────────┴─────────┴────────────────────────────────────────────────────┴────────────────────────────────────────────────────────────────────────────────┴───────────┘</span>\n",
       "</pre>\n"
      ],
      "text/plain": [
       "\u001b[93m┌───┬──────────────────┬─────────┬────────────────────────────────────────────────────┬────────────────────────────────────────────────────────────────────────────────┬───────────┐\u001b[0m\n",
       "\u001b[93m│\u001b[0m\u001b[1;35m \u001b[0m\u001b[1;35m#\u001b[0m\u001b[1;35m \u001b[0m\u001b[93m│\u001b[0m\u001b[1;35m \u001b[0m\u001b[1;35mfname           \u001b[0m\u001b[1;35m \u001b[0m\u001b[93m│\u001b[0m\u001b[1;35m \u001b[0m\u001b[1;35mtracker\u001b[0m\u001b[1;35m \u001b[0m\u001b[93m│\u001b[0m\u001b[1;35m \u001b[0m\u001b[1;35mwandb                                             \u001b[0m\u001b[1;35m \u001b[0m\u001b[93m│\u001b[0m\u001b[1;35m \u001b[0m\u001b[1;35mpython libs                                                                   \u001b[0m\u001b[1;35m \u001b[0m\u001b[93m│\u001b[0m\u001b[1;35m \u001b[0m\u001b[1;35mcolab_idx\u001b[0m\u001b[1;35m \u001b[0m\u001b[93m│\u001b[0m\n",
       "\u001b[93m├───┼──────────────────┼─────────┼────────────────────────────────────────────────────┼────────────────────────────────────────────────────────────────────────────────┼───────────┤\u001b[0m\n",
       "\u001b[93m│\u001b[0m 0 \u001b[93m│\u001b[0m\u001b[36m \u001b[0m\u001b]8;id=162539;https://colab.research.google.com/github/wandb/nb_helpers/blob/main/nbs/00_colab.ipynb\u001b\\\u001b[36m00_colab.ipynb\u001b[0m\u001b]8;;\u001b\\\u001b[36m  \u001b[0m\u001b[36m \u001b[0m\u001b[93m│\u001b[0m         \u001b[93m│\u001b[0m                                                    \u001b[93m│\u001b[0m pathlib, IPython, fastcore, execnb, nb_helpers, nbdev                          \u001b[93m│\u001b[0m 0         \u001b[93m│\u001b[0m\n",
       "\u001b[93m│\u001b[0m\u001b[2m \u001b[0m\u001b[2m1\u001b[0m\u001b[2m \u001b[0m\u001b[93m│\u001b[0m\u001b[2;36m \u001b[0m\u001b]8;id=423445;https://colab.research.google.com/github/wandb/nb_helpers/blob/main/nbs/01_wandb.ipynb\u001b\\\u001b[2;36m01_wandb.ipynb\u001b[0m\u001b]8;;\u001b\\\u001b[2;36m  \u001b[0m\u001b[2;36m \u001b[0m\u001b[93m│\u001b[0m\u001b[2m \u001b[0m\u001b[2mtracker\u001b[0m\u001b[2m \u001b[0m\u001b[93m│\u001b[0m\u001b[2m \u001b[0m\u001b[2mTable, sweep, WandbCallback, WandbLogger, Artifact\u001b[0m\u001b[2m \u001b[0m\u001b[93m│\u001b[0m\u001b[2m \u001b[0m\u001b[2mre, os, pathlib, tempfile, fastcore, execnb, nb_helpers                       \u001b[0m\u001b[2m \u001b[0m\u001b[93m│\u001b[0m\u001b[2m \u001b[0m\u001b[2m0        \u001b[0m\u001b[2m \u001b[0m\u001b[93m│\u001b[0m\n",
       "\u001b[93m│\u001b[0m 2 \u001b[93m│\u001b[0m\u001b[36m \u001b[0m\u001b]8;id=954902;https://colab.research.google.com/github/wandb/nb_helpers/blob/main/nbs/02_utils.ipynb\u001b\\\u001b[36m02_utils.ipynb\u001b[0m\u001b]8;;\u001b\\\u001b[36m  \u001b[0m\u001b[36m \u001b[0m\u001b[93m│\u001b[0m         \u001b[93m│\u001b[0m Table                                              \u001b[93m│\u001b[0m io, json, sys, re, csv, logging, git, types, fastcore, datetime, rich,         \u001b[93m│\u001b[0m 0         \u001b[93m│\u001b[0m\n",
       "\u001b[93m│\u001b[0m   \u001b[93m│\u001b[0m\u001b[36m                  \u001b[0m\u001b[93m│\u001b[0m         \u001b[93m│\u001b[0m                                                    \u001b[93m│\u001b[0m pathlib, execnb                                                                \u001b[93m│\u001b[0m           \u001b[93m│\u001b[0m\n",
       "\u001b[93m│\u001b[0m\u001b[2m \u001b[0m\u001b[2m3\u001b[0m\u001b[2m \u001b[0m\u001b[93m│\u001b[0m\u001b[2;36m \u001b[0m\u001b]8;id=723838;https://colab.research.google.com/github/wandb/nb_helpers/blob/main/nbs/03_actions.ipynb\u001b\\\u001b[2;36m03_actions.ipynb\u001b[0m\u001b]8;;\u001b\\\u001b[2;36m \u001b[0m\u001b[93m│\u001b[0m\u001b[2m \u001b[0m\u001b[2m       \u001b[0m\u001b[2m \u001b[0m\u001b[93m│\u001b[0m\u001b[2m \u001b[0m\u001b[2mArtifact                                          \u001b[0m\u001b[2m \u001b[0m\u001b[93m│\u001b[0m\u001b[2m \u001b[0m\u001b[2mjson, fastcore, ghapi, nb_helpers, IPython                                    \u001b[0m\u001b[2m \u001b[0m\u001b[93m│\u001b[0m\u001b[2m \u001b[0m\u001b[2m0        \u001b[0m\u001b[2m \u001b[0m\u001b[93m│\u001b[0m\n",
       "\u001b[93m│\u001b[0m 4 \u001b[93m│\u001b[0m\u001b[36m \u001b[0m\u001b]8;id=730783;https://colab.research.google.com/github/wandb/nb_helpers/blob/main/nbs/04_clean.ipynb\u001b\\\u001b[36m04_clean.ipynb\u001b[0m\u001b]8;;\u001b\\\u001b[36m  \u001b[0m\u001b[36m \u001b[0m\u001b[93m│\u001b[0m         \u001b[93m│\u001b[0m Table                                              \u001b[93m│\u001b[0m io, json, os, pathlib, rich, fastcore, execnb, nb_helpers                      \u001b[93m│\u001b[0m 0         \u001b[93m│\u001b[0m\n",
       "\u001b[93m│\u001b[0m\u001b[2m \u001b[0m\u001b[2m5\u001b[0m\u001b[2m \u001b[0m\u001b[93m│\u001b[0m\u001b[2;36m \u001b[0m\u001b]8;id=677755;https://colab.research.google.com/github/wandb/nb_helpers/blob/main/nbs/05_run.ipynb\u001b\\\u001b[2;36m05_run.ipynb\u001b[0m\u001b]8;;\u001b\\\u001b[2;36m    \u001b[0m\u001b[2;36m \u001b[0m\u001b[93m│\u001b[0m\u001b[2m \u001b[0m\u001b[2m       \u001b[0m\u001b[2m \u001b[0m\u001b[93m│\u001b[0m\u001b[2m \u001b[0m\u001b[2m                                                  \u001b[0m\u001b[2m \u001b[0m\u001b[93m│\u001b[0m\u001b[2m \u001b[0m\u001b[2mtime, os, logging, re, pathlib, typing, fastcore, rich, execnb, nb_helpers    \u001b[0m\u001b[2m \u001b[0m\u001b[93m│\u001b[0m\u001b[2m \u001b[0m\u001b[2m0        \u001b[0m\u001b[2m \u001b[0m\u001b[93m│\u001b[0m\n",
       "\u001b[93m│\u001b[0m 6 \u001b[93m│\u001b[0m\u001b[36m \u001b[0m\u001b]8;id=208771;https://colab.research.google.com/github/wandb/nb_helpers/blob/main/nbs/06_export.ipynb\u001b\\\u001b[36m06_export.ipynb\u001b[0m\u001b]8;;\u001b\\\u001b[36m \u001b[0m\u001b[36m \u001b[0m\u001b[93m│\u001b[0m         \u001b[93m│\u001b[0m                                                    \u001b[93m│\u001b[0m os, pathlib, rich, fastcore, nb_helpers                                        \u001b[93m│\u001b[0m 0         \u001b[93m│\u001b[0m\n",
       "\u001b[93m│\u001b[0m\u001b[2m \u001b[0m\u001b[2m7\u001b[0m\u001b[2m \u001b[0m\u001b[93m│\u001b[0m\u001b[2;36m \u001b[0m\u001b]8;id=811731;https://colab.research.google.com/github/wandb/nb_helpers/blob/main/nbs/test_data/fail_nb.ipynb\u001b\\\u001b[2;36mfail_nb.ipynb\u001b[0m\u001b]8;;\u001b\\\u001b[2;36m   \u001b[0m\u001b[2;36m \u001b[0m\u001b[93m│\u001b[0m\u001b[2m \u001b[0m\u001b[2m       \u001b[0m\u001b[2m \u001b[0m\u001b[93m│\u001b[0m\u001b[2m \u001b[0m\u001b[2m                                                  \u001b[0m\u001b[2m \u001b[0m\u001b[93m│\u001b[0m\u001b[2m \u001b[0m\u001b[2m                                                                              \u001b[0m\u001b[2m \u001b[0m\u001b[93m│\u001b[0m\u001b[2m \u001b[0m\u001b[2m0        \u001b[0m\u001b[2m \u001b[0m\u001b[93m│\u001b[0m\n",
       "\u001b[93m│\u001b[0m 8 \u001b[93m│\u001b[0m\u001b[36m \u001b[0m\u001b]8;id=791519;https://colab.research.google.com/github/wandb/nb_helpers/blob/main/nbs/test_data/test_nb.ipynb\u001b\\\u001b[36mtest_nb.ipynb\u001b[0m\u001b]8;;\u001b\\\u001b[36m   \u001b[0m\u001b[36m \u001b[0m\u001b[93m│\u001b[0m tracker \u001b[93m│\u001b[0m                                                    \u001b[93m│\u001b[0m os, sys, logging, pathlib, fastcore, itertools                                 \u001b[93m│\u001b[0m 0         \u001b[93m│\u001b[0m\n",
       "\u001b[93m└───┴──────────────────┴─────────┴────────────────────────────────────────────────────┴────────────────────────────────────────────────────────────────────────────────┴───────────┘\u001b[0m\n"
      ]
     },
     "metadata": {},
     "output_type": "display_data"
    }
   ],
   "source": [
    "with TemporaryDirectory() as d:\n",
    "    summary_nbs(out_file=Path(d)/\"summary.csv\")"
   ]
  },
  {
   "cell_type": "code",
   "execution_count": null,
   "metadata": {},
   "outputs": [],
   "source": [
    "#| export\n",
    "@call_parse\n",
    "def fix_nbs(\n",
    "    path: Param(\"A path to nb files\", Path, nargs=\"?\", opt=False) = os.getcwd(),\n",
    "    colab_cell_idx: Param(\"Cell idx where the colab badge must go\", int) = 0,\n",
    "    branch: Param(\"The branch\", str) = None,\n",
    "):\n",
    "\n",
    "    path = Path(path)\n",
    "    files = find_nbs(path)\n",
    "    assert len(files) > 0, \"There is no `ipynb` notebooks in the path you submited\"\n",
    "\n",
    "    for nb_path in files:\n",
    "        print(f\"Add colab badge to {nb_path}\")\n",
    "        clean_one(nb_path, clear_outs=True)\n",
    "        nb = read_nb(nb_path)\n",
    "        tracker = get_wandb_tracker(nb)\n",
    "        if tracker is not None and tracker != \"\":\n",
    "            tracker = f\"<!--- @wandbcode{{{tracker}}} -->\"\n",
    "        nb = add_colab_badge(nb, nb_path, branch=branch, idx=colab_cell_idx, tracker=tracker)\n",
    "        add_colab_metadata(nb)\n",
    "        clean_nb(nb)\n",
    "        write_nb(nb, nb_path)"
   ]
  },
  {
   "attachments": {},
   "cell_type": "markdown",
   "metadata": {},
   "source": [
    "let's make sure that every notebooks has a `open in colab` badge"
   ]
  },
  {
   "cell_type": "code",
   "execution_count": null,
   "metadata": {},
   "outputs": [
    {
     "name": "stdout",
     "output_type": "stream",
     "text": [
      "Add colab badge to /Users/tcapelle/work/nb_helpers/nbs/00_colab.ipynb\n",
      "Add colab badge to /Users/tcapelle/work/nb_helpers/nbs/01_wandb.ipynb\n",
      "Add colab badge to /Users/tcapelle/work/nb_helpers/nbs/02_utils.ipynb\n",
      "Add colab badge to /Users/tcapelle/work/nb_helpers/nbs/03_actions.ipynb\n",
      "Add colab badge to /Users/tcapelle/work/nb_helpers/nbs/04_clean.ipynb\n",
      "Add colab badge to /Users/tcapelle/work/nb_helpers/nbs/05_run.ipynb\n",
      "Add colab badge to /Users/tcapelle/work/nb_helpers/nbs/06_export.ipynb\n",
      "Add colab badge to /Users/tcapelle/work/nb_helpers/nbs/test_data/fail_nb.ipynb\n",
      "Add colab badge to /Users/tcapelle/work/nb_helpers/nbs/test_data/test_nb.ipynb\n"
     ]
    }
   ],
   "source": [
    "#|eval: false\n",
    "fix_nbs()"
   ]
  },
  {
   "attachments": {},
   "cell_type": "markdown",
   "metadata": {},
   "source": [
    "We may want to check what libs are in use:"
   ]
  },
  {
   "cell_type": "code",
   "execution_count": null,
   "metadata": {},
   "outputs": [],
   "source": [
    "#| export\n",
    "@call_parse\n",
    "def filter_nbs(\n",
    "    path: Param(\"A path to nb files\", Path, nargs=\"?\", opt=False) = os.getcwd(),\n",
    "    lib_name: Param(\"Python lib names to filter, eg: tensorflow\", str) = \"\",\n",
    "    out_file: Param(\"Export to csv file\", Path) = \"filtered_nbs.csv\",\n",
    "):\n",
    "\n",
    "    path = Path(path)\n",
    "\n",
    "    logger = RichLogger(columns=[\"fname\", \"python libs\"], out_file=out_file)\n",
    "\n",
    "    files = find_nbs(path)\n",
    "    assert len(files) > 0, \"There is no `ipynb` notebooks in the path you submited\"\n",
    "\n",
    "    repo_path = git_local_repo(files[0])\n",
    "\n",
    "    for nb_path in files:\n",
    "        nb = read_nb(nb_path)\n",
    "        fname = nb_path.relative_to(repo_path)\n",
    "        libs = \", \".join(detect_imported_libs(nb))\n",
    "        if lib_name in libs:\n",
    "            row = [str(fname), libs]\n",
    "            logger.writerow(row)\n",
    "\n",
    "    logger.to_table()\n",
    "    logger.to_csv(Path(out_file).with_suffix(\".csv\"), format_link=False)"
   ]
  },
  {
   "cell_type": "code",
   "execution_count": null,
   "metadata": {},
   "outputs": [
    {
     "data": {
      "text/html": [
       "<pre style=\"white-space:pre;overflow-x:auto;line-height:normal;font-family:Menlo,'DejaVu Sans Mono',consolas,'Courier New',monospace\"><span style=\"color: #ffff00; text-decoration-color: #ffff00\">┌───┬─────────────────────────────┬────────────────────────────────────────────────────────────────────────────────────────┐</span>\n",
       "<span style=\"color: #ffff00; text-decoration-color: #ffff00\">│</span><span style=\"color: #800080; text-decoration-color: #800080; font-weight: bold\"> # </span><span style=\"color: #ffff00; text-decoration-color: #ffff00\">│</span><span style=\"color: #800080; text-decoration-color: #800080; font-weight: bold\"> fname                       </span><span style=\"color: #ffff00; text-decoration-color: #ffff00\">│</span><span style=\"color: #800080; text-decoration-color: #800080; font-weight: bold\"> python libs                                                                            </span><span style=\"color: #ffff00; text-decoration-color: #ffff00\">│</span>\n",
       "<span style=\"color: #ffff00; text-decoration-color: #ffff00\">├───┼─────────────────────────────┼────────────────────────────────────────────────────────────────────────────────────────┤</span>\n",
       "<span style=\"color: #ffff00; text-decoration-color: #ffff00\">│</span> 0 <span style=\"color: #ffff00; text-decoration-color: #ffff00\">│</span><span style=\"color: #008080; text-decoration-color: #008080\"> </span><a href=\"None\" target=\"_blank\"><span style=\"color: #008080; text-decoration-color: #008080\">nbs/00_colab.ipynb</span></a><span style=\"color: #008080; text-decoration-color: #008080\">          </span><span style=\"color: #ffff00; text-decoration-color: #ffff00\">│</span> pathlib, IPython, fastcore, execnb, nb_helpers, nbdev                                  <span style=\"color: #ffff00; text-decoration-color: #ffff00\">│</span>\n",
       "<span style=\"color: #ffff00; text-decoration-color: #ffff00\">│</span><span style=\"color: #7f7f7f; text-decoration-color: #7f7f7f\"> 1 </span><span style=\"color: #ffff00; text-decoration-color: #ffff00\">│</span><span style=\"color: #7fbfbf; text-decoration-color: #7fbfbf\"> </span><a href=\"None\" target=\"_blank\"><span style=\"color: #7fbfbf; text-decoration-color: #7fbfbf\">nbs/01_wandb.ipynb</span></a><span style=\"color: #7fbfbf; text-decoration-color: #7fbfbf\">          </span><span style=\"color: #ffff00; text-decoration-color: #ffff00\">│</span><span style=\"color: #7f7f7f; text-decoration-color: #7f7f7f\"> re, os, pathlib, tempfile, fastcore, execnb, nb_helpers                                </span><span style=\"color: #ffff00; text-decoration-color: #ffff00\">│</span>\n",
       "<span style=\"color: #ffff00; text-decoration-color: #ffff00\">│</span> 2 <span style=\"color: #ffff00; text-decoration-color: #ffff00\">│</span><span style=\"color: #008080; text-decoration-color: #008080\"> </span><a href=\"None\" target=\"_blank\"><span style=\"color: #008080; text-decoration-color: #008080\">nbs/02_utils.ipynb</span></a><span style=\"color: #008080; text-decoration-color: #008080\">          </span><span style=\"color: #ffff00; text-decoration-color: #ffff00\">│</span> io, json, sys, re, csv, logging, git, types, fastcore, datetime, rich, pathlib, execnb <span style=\"color: #ffff00; text-decoration-color: #ffff00\">│</span>\n",
       "<span style=\"color: #ffff00; text-decoration-color: #ffff00\">│</span><span style=\"color: #7f7f7f; text-decoration-color: #7f7f7f\"> 3 </span><span style=\"color: #ffff00; text-decoration-color: #ffff00\">│</span><span style=\"color: #7fbfbf; text-decoration-color: #7fbfbf\"> </span><a href=\"None\" target=\"_blank\"><span style=\"color: #7fbfbf; text-decoration-color: #7fbfbf\">nbs/03_actions.ipynb</span></a><span style=\"color: #7fbfbf; text-decoration-color: #7fbfbf\">        </span><span style=\"color: #ffff00; text-decoration-color: #ffff00\">│</span><span style=\"color: #7f7f7f; text-decoration-color: #7f7f7f\"> json, fastcore, ghapi, nb_helpers, IPython                                             </span><span style=\"color: #ffff00; text-decoration-color: #ffff00\">│</span>\n",
       "<span style=\"color: #ffff00; text-decoration-color: #ffff00\">│</span> 4 <span style=\"color: #ffff00; text-decoration-color: #ffff00\">│</span><span style=\"color: #008080; text-decoration-color: #008080\"> </span><a href=\"None\" target=\"_blank\"><span style=\"color: #008080; text-decoration-color: #008080\">nbs/04_clean.ipynb</span></a><span style=\"color: #008080; text-decoration-color: #008080\">          </span><span style=\"color: #ffff00; text-decoration-color: #ffff00\">│</span> io, json, os, pathlib, rich, fastcore, execnb, nb_helpers                              <span style=\"color: #ffff00; text-decoration-color: #ffff00\">│</span>\n",
       "<span style=\"color: #ffff00; text-decoration-color: #ffff00\">│</span><span style=\"color: #7f7f7f; text-decoration-color: #7f7f7f\"> 5 </span><span style=\"color: #ffff00; text-decoration-color: #ffff00\">│</span><span style=\"color: #7fbfbf; text-decoration-color: #7fbfbf\"> </span><a href=\"None\" target=\"_blank\"><span style=\"color: #7fbfbf; text-decoration-color: #7fbfbf\">nbs/05_run.ipynb</span></a><span style=\"color: #7fbfbf; text-decoration-color: #7fbfbf\">            </span><span style=\"color: #ffff00; text-decoration-color: #ffff00\">│</span><span style=\"color: #7f7f7f; text-decoration-color: #7f7f7f\"> time, os, logging, re, pathlib, typing, fastcore, rich, execnb, nb_helpers             </span><span style=\"color: #ffff00; text-decoration-color: #ffff00\">│</span>\n",
       "<span style=\"color: #ffff00; text-decoration-color: #ffff00\">│</span> 6 <span style=\"color: #ffff00; text-decoration-color: #ffff00\">│</span><span style=\"color: #008080; text-decoration-color: #008080\"> </span><a href=\"None\" target=\"_blank\"><span style=\"color: #008080; text-decoration-color: #008080\">nbs/06_export.ipynb</span></a><span style=\"color: #008080; text-decoration-color: #008080\">         </span><span style=\"color: #ffff00; text-decoration-color: #ffff00\">│</span> os, pathlib, rich, fastcore, nb_helpers                                                <span style=\"color: #ffff00; text-decoration-color: #ffff00\">│</span>\n",
       "<span style=\"color: #ffff00; text-decoration-color: #ffff00\">│</span><span style=\"color: #7f7f7f; text-decoration-color: #7f7f7f\"> 7 </span><span style=\"color: #ffff00; text-decoration-color: #ffff00\">│</span><span style=\"color: #7fbfbf; text-decoration-color: #7fbfbf\"> </span><a href=\"None\" target=\"_blank\"><span style=\"color: #7fbfbf; text-decoration-color: #7fbfbf\">nbs/test_data/fail_nb.ipynb</span></a><span style=\"color: #7fbfbf; text-decoration-color: #7fbfbf\"> </span><span style=\"color: #ffff00; text-decoration-color: #ffff00\">│</span><span style=\"color: #7f7f7f; text-decoration-color: #7f7f7f\">                                                                                        </span><span style=\"color: #ffff00; text-decoration-color: #ffff00\">│</span>\n",
       "<span style=\"color: #ffff00; text-decoration-color: #ffff00\">│</span> 8 <span style=\"color: #ffff00; text-decoration-color: #ffff00\">│</span><span style=\"color: #008080; text-decoration-color: #008080\"> </span><a href=\"None\" target=\"_blank\"><span style=\"color: #008080; text-decoration-color: #008080\">nbs/test_data/test_nb.ipynb</span></a><span style=\"color: #008080; text-decoration-color: #008080\"> </span><span style=\"color: #ffff00; text-decoration-color: #ffff00\">│</span> os, sys, logging, pathlib, fastcore, itertools                                         <span style=\"color: #ffff00; text-decoration-color: #ffff00\">│</span>\n",
       "<span style=\"color: #ffff00; text-decoration-color: #ffff00\">└───┴─────────────────────────────┴────────────────────────────────────────────────────────────────────────────────────────┘</span>\n",
       "</pre>\n"
      ],
      "text/plain": [
       "\u001b[93m┌───┬─────────────────────────────┬────────────────────────────────────────────────────────────────────────────────────────┐\u001b[0m\n",
       "\u001b[93m│\u001b[0m\u001b[1;35m \u001b[0m\u001b[1;35m#\u001b[0m\u001b[1;35m \u001b[0m\u001b[93m│\u001b[0m\u001b[1;35m \u001b[0m\u001b[1;35mfname                      \u001b[0m\u001b[1;35m \u001b[0m\u001b[93m│\u001b[0m\u001b[1;35m \u001b[0m\u001b[1;35mpython libs                                                                           \u001b[0m\u001b[1;35m \u001b[0m\u001b[93m│\u001b[0m\n",
       "\u001b[93m├───┼─────────────────────────────┼────────────────────────────────────────────────────────────────────────────────────────┤\u001b[0m\n",
       "\u001b[93m│\u001b[0m 0 \u001b[93m│\u001b[0m\u001b[36m \u001b[0m\u001b]8;id=855218;None\u001b\\\u001b[36mnbs/00_colab.ipynb\u001b[0m\u001b]8;;\u001b\\\u001b[36m         \u001b[0m\u001b[36m \u001b[0m\u001b[93m│\u001b[0m pathlib, IPython, fastcore, execnb, nb_helpers, nbdev                                  \u001b[93m│\u001b[0m\n",
       "\u001b[93m│\u001b[0m\u001b[2m \u001b[0m\u001b[2m1\u001b[0m\u001b[2m \u001b[0m\u001b[93m│\u001b[0m\u001b[2;36m \u001b[0m\u001b]8;id=429512;None\u001b\\\u001b[2;36mnbs/01_wandb.ipynb\u001b[0m\u001b]8;;\u001b\\\u001b[2;36m         \u001b[0m\u001b[2;36m \u001b[0m\u001b[93m│\u001b[0m\u001b[2m \u001b[0m\u001b[2mre, os, pathlib, tempfile, fastcore, execnb, nb_helpers                               \u001b[0m\u001b[2m \u001b[0m\u001b[93m│\u001b[0m\n",
       "\u001b[93m│\u001b[0m 2 \u001b[93m│\u001b[0m\u001b[36m \u001b[0m\u001b]8;id=219088;None\u001b\\\u001b[36mnbs/02_utils.ipynb\u001b[0m\u001b]8;;\u001b\\\u001b[36m         \u001b[0m\u001b[36m \u001b[0m\u001b[93m│\u001b[0m io, json, sys, re, csv, logging, git, types, fastcore, datetime, rich, pathlib, execnb \u001b[93m│\u001b[0m\n",
       "\u001b[93m│\u001b[0m\u001b[2m \u001b[0m\u001b[2m3\u001b[0m\u001b[2m \u001b[0m\u001b[93m│\u001b[0m\u001b[2;36m \u001b[0m\u001b]8;id=767599;None\u001b\\\u001b[2;36mnbs/03_actions.ipynb\u001b[0m\u001b]8;;\u001b\\\u001b[2;36m       \u001b[0m\u001b[2;36m \u001b[0m\u001b[93m│\u001b[0m\u001b[2m \u001b[0m\u001b[2mjson, fastcore, ghapi, nb_helpers, IPython                                            \u001b[0m\u001b[2m \u001b[0m\u001b[93m│\u001b[0m\n",
       "\u001b[93m│\u001b[0m 4 \u001b[93m│\u001b[0m\u001b[36m \u001b[0m\u001b]8;id=566972;None\u001b\\\u001b[36mnbs/04_clean.ipynb\u001b[0m\u001b]8;;\u001b\\\u001b[36m         \u001b[0m\u001b[36m \u001b[0m\u001b[93m│\u001b[0m io, json, os, pathlib, rich, fastcore, execnb, nb_helpers                              \u001b[93m│\u001b[0m\n",
       "\u001b[93m│\u001b[0m\u001b[2m \u001b[0m\u001b[2m5\u001b[0m\u001b[2m \u001b[0m\u001b[93m│\u001b[0m\u001b[2;36m \u001b[0m\u001b]8;id=231570;None\u001b\\\u001b[2;36mnbs/05_run.ipynb\u001b[0m\u001b]8;;\u001b\\\u001b[2;36m           \u001b[0m\u001b[2;36m \u001b[0m\u001b[93m│\u001b[0m\u001b[2m \u001b[0m\u001b[2mtime, os, logging, re, pathlib, typing, fastcore, rich, execnb, nb_helpers            \u001b[0m\u001b[2m \u001b[0m\u001b[93m│\u001b[0m\n",
       "\u001b[93m│\u001b[0m 6 \u001b[93m│\u001b[0m\u001b[36m \u001b[0m\u001b]8;id=678543;None\u001b\\\u001b[36mnbs/06_export.ipynb\u001b[0m\u001b]8;;\u001b\\\u001b[36m        \u001b[0m\u001b[36m \u001b[0m\u001b[93m│\u001b[0m os, pathlib, rich, fastcore, nb_helpers                                                \u001b[93m│\u001b[0m\n",
       "\u001b[93m│\u001b[0m\u001b[2m \u001b[0m\u001b[2m7\u001b[0m\u001b[2m \u001b[0m\u001b[93m│\u001b[0m\u001b[2;36m \u001b[0m\u001b]8;id=247160;None\u001b\\\u001b[2;36mnbs/test_data/fail_nb.ipynb\u001b[0m\u001b]8;;\u001b\\\u001b[2;36m \u001b[0m\u001b[93m│\u001b[0m\u001b[2m \u001b[0m\u001b[2m                                                                                      \u001b[0m\u001b[2m \u001b[0m\u001b[93m│\u001b[0m\n",
       "\u001b[93m│\u001b[0m 8 \u001b[93m│\u001b[0m\u001b[36m \u001b[0m\u001b]8;id=882075;None\u001b\\\u001b[36mnbs/test_data/test_nb.ipynb\u001b[0m\u001b]8;;\u001b\\\u001b[36m \u001b[0m\u001b[93m│\u001b[0m os, sys, logging, pathlib, fastcore, itertools                                         \u001b[93m│\u001b[0m\n",
       "\u001b[93m└───┴─────────────────────────────┴────────────────────────────────────────────────────────────────────────────────────────┘\u001b[0m\n"
      ]
     },
     "metadata": {},
     "output_type": "display_data"
    }
   ],
   "source": [
    "with TemporaryDirectory() as d:\n",
    "    filter_nbs(out_file=Path(d)/\"summary.csv\")"
   ]
  }
 ],
 "metadata": {
  "jupytext": {
   "split_at_heading": true
  },
  "kernelspec": {
   "display_name": "python3",
   "language": "python",
   "name": "python3"
  }
 },
 "nbformat": 4,
 "nbformat_minor": 4
}
