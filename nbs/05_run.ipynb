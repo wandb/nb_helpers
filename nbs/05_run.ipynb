{
 "cells": [
  {
   "cell_type": "code",
   "execution_count": null,
   "id": "b15e84e6",
   "metadata": {},
   "outputs": [],
   "source": [
    "#| default_exp run"
   ]
  },
  {
   "cell_type": "markdown",
   "id": "ed53f014",
   "metadata": {},
   "source": [
    "# Executing notebooks\n",
    "> Using execnb to run the notebooks"
   ]
  },
  {
   "cell_type": "code",
   "execution_count": null,
   "id": "833d01a3",
   "metadata": {},
   "outputs": [],
   "source": [
    "#| export\n",
    "import time, os, logging, re\n",
    "from pathlib import Path\n",
    "from typing import Union\n",
    "\n",
    "from fastcore.basics import patch\n",
    "from fastcore.script import call_parse, Param, store_true\n",
    "from rich.progress import Progress\n",
    "\n",
    "from execnb.nbio import read_nb\n",
    "from execnb.shell import *\n",
    "from nb_helpers.actions import create_issue_nb_fail\n",
    "\n",
    "from nb_helpers.utils import find_nbs, git_main_name, search_string_in_nb, RichLogger\n",
    "from nb_helpers.colab import get_colab_url"
   ]
  },
  {
   "cell_type": "code",
   "execution_count": null,
   "id": "497efe3c",
   "metadata": {},
   "outputs": [],
   "source": [
    "test_nb = Path(\"test_data/test_nb.ipynb\")\n",
    "notebook = read_nb(test_nb)\n",
    "\n",
    "fail_nb = Path(\"test_data/fail_nb.ipynb\")\n",
    "fail_notebook = read_nb(fail_nb)"
   ]
  },
  {
   "cell_type": "code",
   "execution_count": null,
   "id": "a8c800da",
   "metadata": {},
   "outputs": [],
   "source": [
    "#| export\n",
    "logger = RichLogger(columns=[\"fname\", \"status\", \"t[s]\"])"
   ]
  },
  {
   "cell_type": "code",
   "execution_count": null,
   "id": "b7a2e19b",
   "metadata": {},
   "outputs": [],
   "source": [
    "#| export\n",
    "def skip_nb(notebook, filters=None):\n",
    "    \"check for notebook filters: tensorflow, pytorch, ...\"\n",
    "    if filters is None: \n",
    "        return False\n",
    "    return search_string_in_nb(notebook, filters)"
   ]
  },
  {
   "cell_type": "code",
   "execution_count": null,
   "id": "045a5f42",
   "metadata": {},
   "outputs": [],
   "source": [
    "assert not skip_nb(notebook)\n",
    "assert search_string_in_nb(notebook, \"pathlib\")"
   ]
  },
  {
   "cell_type": "code",
   "execution_count": null,
   "id": "ef0e6e5c",
   "metadata": {},
   "outputs": [],
   "source": [
    "#| export\n",
    "def exec_nb(fname, pip_install=True):\n",
    "    \"Execute tests in notebook in `fn`\"\n",
    "    nb = read_nb(fname)\n",
    "\n",
    "    def preproc(cell):\n",
    "        logger.info(cell.source)\n",
    "        if (cell.cell_type == \"code\" and \"!pip install\" in cell.source and not pip_install) :\n",
    "            return True\n",
    "        if cell.cell_type != \"code\":\n",
    "            return True\n",
    "        else:\n",
    "            return False\n",
    "\n",
    "    shell = CaptureShell(fname)\n",
    "    try:\n",
    "        shell.run_all(nb, exc_stop=True, preproc=preproc)\n",
    "    except Exception as e:\n",
    "        return False, shell\n",
    "    return True, shell"
   ]
  },
  {
   "cell_type": "code",
   "execution_count": null,
   "id": "ad41f905",
   "metadata": {},
   "outputs": [],
   "source": [
    "run, shell = exec_nb(test_nb)\n",
    "# the utils notebooks should run\n",
    "\n",
    "assert run, f\"Exception: {shell.exc}\"\n",
    "\n",
    "run, ex = exec_nb(fail_nb)\n",
    "assert not run, f\"Exception: {shell.exc}\""
   ]
  },
  {
   "cell_type": "code",
   "execution_count": null,
   "id": "36b268c9",
   "metadata": {},
   "outputs": [],
   "source": [
    "#| export\n",
    "@patch\n",
    "def prettytb(\n",
    "    self: CaptureShell, fname: Union[Path, str] = None, simple=False\n",
    "):  # filename to print alongside the traceback\n",
    "    \"Show a pretty traceback for notebooks, optionally printing `fname`.\"\n",
    "    fname = fname if fname else self._fname\n",
    "    _fence = \"=\" * 75\n",
    "    cell_intro_str = f\"While Executing Cell #{self._cell_idx}:\" if self._cell_idx else \"While Executing:\"\n",
    "    cell_str = f\"\\n{cell_intro_str}\\n{self.exc[-1]}\"\n",
    "    fname_str = f\" in {fname}\" if fname else \"\"\n",
    "    res = f\"{type(self.exc[1]).__name__}{fname_str}:\\n{_fence}\\n{cell_str}\\n\"\n",
    "    if simple:\n",
    "        ansi_escape = re.compile(r\"\\x1B(?:[@-Z\\\\-_]|\\[[0-?]*[ -/]*[@-~])\")\n",
    "        res = ansi_escape.sub(\"\", res)\n",
    "    return res"
   ]
  },
  {
   "cell_type": "code",
   "execution_count": null,
   "id": "4b973168",
   "metadata": {},
   "outputs": [
    {
     "name": "stdout",
     "output_type": "stream",
     "text": [
      "TypeError:\n",
      "===========================================================================\n",
      "\n",
      "While Executing Cell #4:\n",
      "\u001b[0;31m---------------------------------------------------------------------------\u001b[0m\n",
      "\u001b[0;31mTypeError\u001b[0m                                 Traceback (most recent call last)\n",
      "Input \u001b[0;32mIn [1]\u001b[0m, in \u001b[0;36m<cell line: 2>\u001b[0;34m()\u001b[0m\n",
      "\u001b[1;32m      1\u001b[0m \u001b[38;5;66;03m#|eval: false\u001b[39;00m\n",
      "\u001b[0;32m----> 2\u001b[0m \u001b[43mg\u001b[49m\u001b[43m(\u001b[49m\u001b[38;5;124;43m'\u001b[39;49m\u001b[38;5;124;43mhola\u001b[39;49m\u001b[38;5;124;43m'\u001b[39;49m\u001b[43m)\u001b[49m\n",
      "\n",
      "Input \u001b[0;32mIn [1]\u001b[0m, in \u001b[0;36mg\u001b[0;34m(x)\u001b[0m\n",
      "\u001b[1;32m      1\u001b[0m \u001b[38;5;28;01mdef\u001b[39;00m \u001b[38;5;21mg\u001b[39m(x):\n",
      "\u001b[0;32m----> 2\u001b[0m     \u001b[38;5;28;01mreturn\u001b[39;00m \u001b[43mf\u001b[49m\u001b[43m(\u001b[49m\u001b[43mx\u001b[49m\u001b[43m)\u001b[49m \u001b[38;5;241m*\u001b[39m \u001b[38;5;241m2\u001b[39m\n",
      "\n",
      "Input \u001b[0;32mIn [1]\u001b[0m, in \u001b[0;36mf\u001b[0;34m(x)\u001b[0m\n",
      "\u001b[1;32m      1\u001b[0m \u001b[38;5;28;01mdef\u001b[39;00m \u001b[38;5;21mf\u001b[39m(x:\u001b[38;5;28mint\u001b[39m):\n",
      "\u001b[0;32m----> 2\u001b[0m     \u001b[38;5;28;01mreturn\u001b[39;00m \u001b[43mx\u001b[49m\u001b[43m \u001b[49m\u001b[38;5;241;43m+\u001b[39;49m\u001b[43m \u001b[49m\u001b[38;5;241;43m1\u001b[39;49m\n",
      "\n",
      "\u001b[0;31mTypeError\u001b[0m: can only concatenate str (not \"int\") to str\n",
      "\n"
     ]
    }
   ],
   "source": [
    "print(ex.prettytb())"
   ]
  },
  {
   "cell_type": "code",
   "execution_count": null,
   "id": "02016a75",
   "metadata": {},
   "outputs": [],
   "source": [
    "#| export\n",
    "def run_one(\n",
    "    fname: Union[Path, str],\n",
    "    lib_name: str = None,\n",
    "    no_run: bool = False,\n",
    "    pip_install=False,\n",
    "    github_issue=False,\n",
    "    repo=None,\n",
    "    owner=None,\n",
    "):\n",
    "    \"Run nb `fname` and timeit, recover exception\"\n",
    "    did_run, skip, exec_time = False, False, time.time()\n",
    "\n",
    "    # read notebook as dict\n",
    "    notebook = read_nb(fname)\n",
    "\n",
    "    # check if notebooks has to be runned\n",
    "    skip = skip_nb(notebook, lib_name)\n",
    "\n",
    "    if skip or no_run:\n",
    "        return \"skip\", 0\n",
    "    else:\n",
    "        did_run, shell = exec_nb(fname, pip_install=pip_install)\n",
    "    if shell.exc:\n",
    "        print(shell.prettytb(fname))\n",
    "        logger.error(f\"Error in {fname}:{shell.exc[1]}\")\n",
    "        if github_issue:\n",
    "            create_issue_nb_fail(fname, shell.prettytb(fname, simple=True), repo=repo, owner=owner)\n",
    "    return \"ok\" if did_run else \"fail\", time.time() - exec_time"
   ]
  },
  {
   "cell_type": "code",
   "execution_count": null,
   "id": "2e90ba60",
   "metadata": {},
   "outputs": [
    {
     "name": "stdout",
     "output_type": "stream",
     "text": [
      "TypeError in test_data/fail_nb.ipynb:\n",
      "===========================================================================\n",
      "\n",
      "While Executing Cell #4:\n",
      "\u001b[0;31m---------------------------------------------------------------------------\u001b[0m\n",
      "\u001b[0;31mTypeError\u001b[0m                                 Traceback (most recent call last)\n",
      "Input \u001b[0;32mIn [1]\u001b[0m, in \u001b[0;36m<cell line: 2>\u001b[0;34m()\u001b[0m\n",
      "\u001b[1;32m      1\u001b[0m \u001b[38;5;66;03m#|eval: false\u001b[39;00m\n",
      "\u001b[0;32m----> 2\u001b[0m \u001b[43mg\u001b[49m\u001b[43m(\u001b[49m\u001b[38;5;124;43m'\u001b[39;49m\u001b[38;5;124;43mhola\u001b[39;49m\u001b[38;5;124;43m'\u001b[39;49m\u001b[43m)\u001b[49m\n",
      "\n",
      "Input \u001b[0;32mIn [1]\u001b[0m, in \u001b[0;36mg\u001b[0;34m(x)\u001b[0m\n",
      "\u001b[1;32m      1\u001b[0m \u001b[38;5;28;01mdef\u001b[39;00m \u001b[38;5;21mg\u001b[39m(x):\n",
      "\u001b[0;32m----> 2\u001b[0m     \u001b[38;5;28;01mreturn\u001b[39;00m \u001b[43mf\u001b[49m\u001b[43m(\u001b[49m\u001b[43mx\u001b[49m\u001b[43m)\u001b[49m \u001b[38;5;241m*\u001b[39m \u001b[38;5;241m2\u001b[39m\n",
      "\n",
      "Input \u001b[0;32mIn [1]\u001b[0m, in \u001b[0;36mf\u001b[0;34m(x)\u001b[0m\n",
      "\u001b[1;32m      1\u001b[0m \u001b[38;5;28;01mdef\u001b[39;00m \u001b[38;5;21mf\u001b[39m(x:\u001b[38;5;28mint\u001b[39m):\n",
      "\u001b[0;32m----> 2\u001b[0m     \u001b[38;5;28;01mreturn\u001b[39;00m \u001b[43mx\u001b[49m\u001b[43m \u001b[49m\u001b[38;5;241;43m+\u001b[39;49m\u001b[43m \u001b[49m\u001b[38;5;241;43m1\u001b[39;49m\n",
      "\n",
      "\u001b[0;31mTypeError\u001b[0m: can only concatenate str (not \"int\") to str\n",
      "\n"
     ]
    },
    {
     "data": {
      "text/plain": [
       "('fail', 0.04925894737243652)"
      ]
     },
     "execution_count": null,
     "metadata": {},
     "output_type": "execute_result"
    }
   ],
   "source": [
    "run_one(fail_nb)"
   ]
  },
  {
   "cell_type": "code",
   "execution_count": null,
   "id": "c2cfe21c",
   "metadata": {},
   "outputs": [],
   "source": [
    "#| export\n",
    "@call_parse\n",
    "def run_nbs(\n",
    "    path: Param(\"A path to nb files\", Path, nargs=\"?\", opt=False) = os.getcwd(),\n",
    "    verbose: Param(\"Print errors along the way\", store_true) = False,\n",
    "    lib_name: Param(\"Python lib names to filter, eg: tensorflow\", str) = None,\n",
    "    no_run: Param(\"Do not run any notebook\", store_true) = False,\n",
    "    pip_install: Param(\"Run cells with !pip install\", store_true) = False,\n",
    "    github_issue: Param(\"Create a github issue if notebook fails\", store_true) = False,\n",
    "    repo: Param(\"Github repo to create issue in\", str) = None,\n",
    "    owner: Param(\"Github owner to create issue in\", str) = None,\n",
    "):\n",
    "    if verbose:\n",
    "        logger.logger.setLevel(logging.DEBUG)\n",
    "    path = Path(path)\n",
    "    files = find_nbs(path)\n",
    "    branch = git_main_name(files[0])\n",
    "\n",
    "    with Progress(console=logger.console) as progress:\n",
    "        task_run_nbs = progress.add_task(\"Running nbs...\", total=len(files))\n",
    "        for fname in files:\n",
    "            progress.update(task_run_nbs, description=f\"Running nb: {str(fname.relative_to(fname.parent.parent))}\")\n",
    "            (run_status, runtime) = run_one(\n",
    "                fname,\n",
    "                lib_name=lib_name,\n",
    "                no_run=no_run,\n",
    "                pip_install=pip_install,\n",
    "                github_issue=github_issue,\n",
    "                repo=repo,\n",
    "                owner=owner,\n",
    "            )\n",
    "            progress.advance(task_run_nbs)\n",
    "            logger.writerow_incolor(fname, run_status, runtime, colab_link=get_colab_url(fname, branch))\n",
    "            time.sleep(0.1)\n",
    "\n",
    "    logger.to_table()\n",
    "    logger.to_md(\"run.md\")\n",
    "    return"
   ]
  },
  {
   "cell_type": "code",
   "execution_count": null,
   "id": "5d721341",
   "metadata": {},
   "outputs": [],
   "source": [
    "run_nbs(\"test_data\")"
   ]
  }
 ],
 "metadata": {
  "kernelspec": {
   "display_name": "Python 3 (ipykernel)",
   "language": "python",
   "name": "python3"
  }
 },
 "nbformat": 4,
 "nbformat_minor": 5
}
