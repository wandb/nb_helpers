{
 "cells": [
  {
   "cell_type": "markdown",
   "metadata": {},
   "source": [
    "<a href=\"https://colab.research.google.com/github/wandb/nb_helpers/blob/main/nbs/05_run.ipynb\" target=\"_parent\"><img src=\"https://colab.research.google.com/assets/colab-badge.svg\" alt=\"Open In Colab\"/></a>\n"
   ]
  },
  {
   "cell_type": "code",
   "execution_count": null,
   "id": "b64eb07f",
   "metadata": {},
   "outputs": [],
   "source": [
    "#| default_exp run"
   ]
  },
  {
   "cell_type": "markdown",
   "id": "7f178849",
   "metadata": {},
   "source": [
    "# Executing notebooks\n",
    "> Using execnb to run the notebooks"
   ]
  },
  {
   "cell_type": "code",
   "execution_count": null,
   "id": "54a81d95",
   "metadata": {},
   "outputs": [],
   "source": [
    "#| export\n",
    "import time, os, logging, re\n",
    "from pathlib import Path\n",
    "from typing import Union\n",
    "\n",
    "from fastcore.basics import patch\n",
    "from fastcore.script import call_parse, Param, store_true\n",
    "from rich.progress import Progress\n",
    "\n",
    "from execnb.nbio import read_nb\n",
    "from execnb.shell import *\n",
    "from nb_helpers.actions import create_issue_nb_fail\n",
    "\n",
    "from nb_helpers.utils import find_nbs, git_main_name, search_string_in_nb, RichLogger\n",
    "from nb_helpers.colab import get_colab_url"
   ]
  },
  {
   "cell_type": "code",
   "execution_count": null,
   "id": "dd05ad67",
   "metadata": {},
   "outputs": [],
   "source": [
    "test_nb = Path(\"test_data/test_nb.ipynb\")\n",
    "notebook = read_nb(test_nb)\n",
    "\n",
    "fail_nb = Path(\"test_data/fail_nb.ipynb\")\n",
    "fail_notebook = read_nb(fail_nb)"
   ]
  },
  {
   "cell_type": "code",
   "execution_count": null,
   "id": "7d359e2d",
   "metadata": {},
   "outputs": [],
   "source": [
    "#| export\n",
    "logger = RichLogger(columns=[\"fname\", \"status\", \"t[s]\"])"
   ]
  },
  {
   "cell_type": "code",
   "execution_count": null,
   "id": "b0237eed",
   "metadata": {},
   "outputs": [],
   "source": [
    "#| export\n",
    "def skip_nb(notebook, filters=None):\n",
    "    \"check for notebook filters: tensorflow, pytorch, ...\"\n",
    "    if filters is None: \n",
    "        return False\n",
    "    return search_string_in_nb(notebook, filters)"
   ]
  },
  {
   "cell_type": "code",
   "execution_count": null,
   "id": "d08c986f",
   "metadata": {},
   "outputs": [],
   "source": [
    "assert not skip_nb(notebook)\n",
    "assert search_string_in_nb(notebook, \"pathlib\")"
   ]
  },
  {
   "cell_type": "code",
   "execution_count": null,
   "id": "296b7b60",
   "metadata": {},
   "outputs": [],
   "source": [
    "#| export\n",
    "def exec_nb(fname, pip_install=True):\n",
    "    \"Execute tests in notebook in `fn`\"\n",
    "    nb = read_nb(fname)\n",
    "\n",
    "    def preproc(cell):\n",
    "        logger.info(cell.source)\n",
    "        if (cell.cell_type == \"code\" and \"!pip install\" in cell.source and not pip_install) :\n",
    "            return True\n",
    "        if cell.cell_type != \"code\":\n",
    "            return True\n",
    "        else:\n",
    "            return False\n",
    "\n",
    "    shell = CaptureShell(fname)\n",
    "    try:\n",
    "        shell.run_all(nb, exc_stop=True, preproc=preproc)\n",
    "    except Exception as e:\n",
    "        return False, shell\n",
    "    return True, shell"
   ]
  },
  {
   "cell_type": "code",
   "execution_count": null,
   "id": "d67e59a2",
   "metadata": {},
   "outputs": [],
   "source": [
    "run, shell = exec_nb(test_nb)\n",
    "# the utils notebooks should run\n",
    "\n",
    "assert run, f\"Exception: {shell.exc}\"\n",
    "\n",
    "run, ex = exec_nb(fail_nb)\n",
    "assert not run, f\"Exception: {shell.exc}\""
   ]
  },
  {
   "cell_type": "code",
   "execution_count": null,
   "id": "718aa206",
   "metadata": {},
   "outputs": [],
   "source": [
    "#| export\n",
    "@patch\n",
    "def prettytb(\n",
    "    self: CaptureShell, fname: Union[Path, str] = None, simple=False\n",
    "):  # filename to print alongside the traceback\n",
    "    \"Show a pretty traceback for notebooks, optionally printing `fname`.\"\n",
    "    fname = fname if fname else self._fname\n",
    "    _fence = \"=\" * 75\n",
    "    cell_intro_str = f\"While Executing Cell #{self._cell_idx}:\" if self._cell_idx else \"While Executing:\"\n",
    "    cell_str = f\"\\n{cell_intro_str}\\n{self.exc[-1]}\"\n",
    "    fname_str = f\" in {fname}\" if fname else \"\"\n",
    "    res = f\"{type(self.exc[1]).__name__}{fname_str}:\\n{_fence}\\n{cell_str}\\n\"\n",
    "    if simple:\n",
    "        ansi_escape = re.compile(r\"\\x1B(?:[@-Z\\\\-_]|\\[[0-?]*[ -/]*[@-~])\")\n",
    "        res = ansi_escape.sub(\"\", res)\n",
    "    return res"
   ]
  },
  {
   "cell_type": "code",
   "execution_count": null,
   "id": "032bd6b6",
   "metadata": {},
   "outputs": [],
   "source": [
    "print(ex.prettytb())"
   ]
  },
  {
   "cell_type": "code",
   "execution_count": null,
   "id": "882595db",
   "metadata": {},
   "outputs": [],
   "source": [
    "#| export\n",
    "def run_one(\n",
    "    fname: Union[Path, str],\n",
    "    lib_name: str = None,\n",
    "    no_run: bool = False,\n",
    "    pip_install=False,\n",
    "    github_issue=False,\n",
    "    repo=None,\n",
    "    owner=None,\n",
    "):\n",
    "    \"Run nb `fname` and timeit, recover exception\"\n",
    "    did_run, skip, exec_time = False, False, time.time()\n",
    "\n",
    "    # read notebook as dict\n",
    "    notebook = read_nb(fname)\n",
    "\n",
    "    # check if notebooks has to be runned\n",
    "    skip = skip_nb(notebook, lib_name)\n",
    "\n",
    "    if skip or no_run:\n",
    "        return \"skip\", 0\n",
    "    else:\n",
    "        did_run, shell = exec_nb(fname, pip_install=pip_install)\n",
    "    if shell.exc:\n",
    "        print(shell.prettytb(fname))\n",
    "        logger.error(f\"Error in {fname}:{shell.exc[1]}\")\n",
    "        if github_issue:\n",
    "            create_issue_nb_fail(fname, shell.prettytb(fname, simple=True), repo=repo, owner=owner)\n",
    "    return \"ok\" if did_run else \"fail\", time.time() - exec_time"
   ]
  },
  {
   "cell_type": "code",
   "execution_count": null,
   "id": "572d70f5",
   "metadata": {},
   "outputs": [],
   "source": [
    "run_one(fail_nb)"
   ]
  },
  {
   "cell_type": "code",
   "execution_count": null,
   "id": "fb4c00f8",
   "metadata": {},
   "outputs": [],
   "source": [
    "#| export\n",
    "@call_parse\n",
    "def run_nbs(\n",
    "    path: Param(\"A path to nb files\", Path, nargs=\"?\", opt=False) = os.getcwd(),\n",
    "    verbose: Param(\"Print errors along the way\", store_true) = False,\n",
    "    lib_name: Param(\"Python lib names to filter, eg: tensorflow\", str) = None,\n",
    "    no_run: Param(\"Do not run any notebook\", store_true) = False,\n",
    "    pip_install: Param(\"Run cells with !pip install\", store_true) = False,\n",
    "    github_issue: Param(\"Create a github issue if notebook fails\", store_true) = False,\n",
    "    repo: Param(\"Github repo to create issue in\", str) = None,\n",
    "    owner: Param(\"Github owner to create issue in\", str) = None,\n",
    "):\n",
    "    if verbose:\n",
    "        logger.logger.setLevel(logging.DEBUG)\n",
    "    path = Path(path)\n",
    "    files = find_nbs(path)\n",
    "    logger.info(f\"Found {len(files)} notebooks in {path}\")\n",
    "    branch = git_main_name(files[0])\n",
    "\n",
    "    with Progress(console=logger.console) as progress:\n",
    "        task_run_nbs = progress.add_task(\"Running nbs...\", total=len(files))\n",
    "        for fname in files:\n",
    "            progress.update(task_run_nbs, description=f\"Running nb: {str(fname.relative_to(fname.parent.parent))}\")\n",
    "            (run_status, runtime) = run_one(\n",
    "                fname,\n",
    "                lib_name=lib_name,\n",
    "                no_run=no_run,\n",
    "                pip_install=pip_install,\n",
    "                github_issue=github_issue,\n",
    "                repo=repo,\n",
    "                owner=owner,\n",
    "            )\n",
    "            progress.advance(task_run_nbs)\n",
    "            logger.writerow_incolor(fname, run_status, runtime, colab_link=get_colab_url(fname, branch))\n",
    "            time.sleep(0.1)\n",
    "\n",
    "    logger.to_table()\n",
    "    logger.to_md(\"run.md\")\n",
    "    return"
   ]
  },
  {
   "cell_type": "code",
   "execution_count": null,
   "id": "7e5fbc1c",
   "metadata": {},
   "outputs": [],
   "source": [
    "run_nbs(\"test_data\")"
   ]
  }
 ],
 "metadata": {
  "kernelspec": {
   "display_name": "python3",
   "name": "python3"
  }
 },
 "nbformat": 4,
 "nbformat_minor": 5
}
