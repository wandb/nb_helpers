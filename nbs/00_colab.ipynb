{
 "cells": [
  {
   "cell_type": "markdown",
   "metadata": {},
   "source": [
    "<a href=\"https://colab.research.google.com/github/wandb/nb_helpers/blob/main/nbs/00_colab.ipynb\" target=\"_parent\"><img src=\"https://colab.research.google.com/assets/colab-badge.svg\" alt=\"Open In Colab\"/></a>\n"
   ]
  },
  {
   "cell_type": "code",
   "execution_count": 46,
   "metadata": {},
   "outputs": [],
   "source": [
    "#| default_exp colab"
   ]
  },
  {
   "cell_type": "markdown",
   "metadata": {},
   "source": [
    "# Google Colab utils\n",
    "> Deal with colab specific format"
   ]
  },
  {
   "cell_type": "code",
   "execution_count": 47,
   "metadata": {},
   "outputs": [],
   "source": [
    "#| export\n",
    "from pathlib import Path\n",
    "from IPython import get_ipython\n",
    "from IPython.display import display, Markdown\n",
    "\n",
    "from fastcore.basics import ifnone\n",
    "\n",
    "from execnb.nbio import NbCell, read_nb\n",
    "\n",
    "from nb_helpers.utils import git_main_name, git_origin_repo, git_local_repo, search_cell, git_current_branch"
   ]
  },
  {
   "cell_type": "code",
   "execution_count": 48,
   "metadata": {},
   "outputs": [],
   "source": [
    "this_nb = Path(\"00_colab.ipynb\")\n",
    "notebook = read_nb(this_nb)"
   ]
  },
  {
   "cell_type": "code",
   "execution_count": 49,
   "metadata": {},
   "outputs": [
    {
     "data": {
      "text/plain": [
       "Path('/Users/tcapelle/work/nb_helpers/nbs/00_colab.ipynb')"
      ]
     },
     "execution_count": 49,
     "metadata": {},
     "output_type": "execute_result"
    }
   ],
   "source": [
    "this_nb.resolve()"
   ]
  },
  {
   "cell_type": "code",
   "execution_count": 50,
   "metadata": {},
   "outputs": [
    {
     "data": {
      "text/plain": [
       "'wandb/nb_helpers'"
      ]
     },
     "execution_count": 50,
     "metadata": {},
     "output_type": "execute_result"
    }
   ],
   "source": [
    "git_origin_repo(this_nb.resolve())"
   ]
  },
  {
   "cell_type": "code",
   "execution_count": 51,
   "metadata": {},
   "outputs": [],
   "source": [
    "#| export\n",
    "def get_colab_url(fname, branch):\n",
    "    \"Get git repo url, to append to colab\"\n",
    "    fname = Path(fname).resolve()\n",
    "    github_repo = git_origin_repo(fname)\n",
    "    fname = fname.relative_to(git_local_repo(fname))\n",
    "\n",
    "    return f\"https://colab.research.google.com/github/{github_repo}/blob/{branch}/{str(fname)}\""
   ]
  },
  {
   "cell_type": "code",
   "execution_count": 52,
   "metadata": {},
   "outputs": [
    {
     "data": {
      "text/plain": [
       "'https://colab.research.google.com/github/wandb/nb_helpers/blob/master/nbs/00_colab.ipynb'"
      ]
     },
     "execution_count": 52,
     "metadata": {},
     "output_type": "execute_result"
    }
   ],
   "source": [
    "get_colab_url(this_nb, branch=\"master\")"
   ]
  },
  {
   "cell_type": "code",
   "execution_count": 53,
   "metadata": {},
   "outputs": [],
   "source": [
    "#| exporti\n",
    "_badge_meta = {\"id\": \"view-in-github\", \"colab_type\": \"text\"}"
   ]
  },
  {
   "cell_type": "code",
   "execution_count": 54,
   "metadata": {},
   "outputs": [],
   "source": [
    "#| export\n",
    "def _create_colab_cell(url, meta={}, tracker=None):\n",
    "    \"Creates a notebook cell with the `Open In Colab` badge\"\n",
    "    tracker = ifnone(tracker, \"\")\n",
    "    data = {\n",
    "        \"cell_type\": \"markdown\",\n",
    "        \"metadata\": meta,\n",
    "        \"source\": f'<a href=\"{url}\" target=\"_parent\"><img src=\"https://colab.research.google.com/assets/colab-badge.svg\" alt=\"Open In Colab\"/></a>\\n'\n",
    "        + tracker,\n",
    "    }\n",
    "    return NbCell(-1, data)"
   ]
  },
  {
   "cell_type": "code",
   "execution_count": 55,
   "metadata": {},
   "outputs": [
    {
     "data": {
      "text/markdown": [
       "<a href=\"https://colab.research.google.com/github/wandb/nb_helpers/blob/master/nbs/00_colab.ipynb\" target=\"_parent\"><img src=\"https://colab.research.google.com/assets/colab-badge.svg\" alt=\"Open In Colab\"/></a>\n"
      ],
      "text/plain": [
       "<IPython.core.display.Markdown object>"
      ]
     },
     "metadata": {},
     "output_type": "display_data"
    }
   ],
   "source": [
    "url = get_colab_url(this_nb, branch=\"master\")\n",
    "cell = _create_colab_cell(url)\n",
    "display(Markdown(cell[\"source\"]))"
   ]
  },
  {
   "cell_type": "code",
   "execution_count": 56,
   "metadata": {},
   "outputs": [],
   "source": [
    "#| export\n",
    "def has_colab_badge(nb):\n",
    "    \"Check if notebook has colab badge, returns the cell position, -1 if not present\"\n",
    "    for i, cell in enumerate(nb[\"cells\"]):\n",
    "        if search_cell(cell, \"Open In Colab\") and cell['cell_type'] == 'markdown':\n",
    "            return i\n",
    "    return -1"
   ]
  },
  {
   "cell_type": "code",
   "execution_count": 57,
   "metadata": {},
   "outputs": [],
   "source": [
    "assert has_colab_badge(notebook) == 0"
   ]
  },
  {
   "cell_type": "code",
   "execution_count": 58,
   "metadata": {},
   "outputs": [],
   "source": [
    "def remove_colab_badges(notebook):\n",
    "    \"Remove all Colab badges from the notebook\"\n",
    "    for cell in notebook['cells']:\n",
    "        if cell['cell_type'] == 'markdown' and search_cell(cell, \"colab.research.google\"):\n",
    "            print(f\"Removing badge from cell {cell['source']}\")\n",
    "            lines = cell['source'].split('\\n')\n",
    "            new_lines = [line for line in lines if \"colab.research.google\" not in line]\n",
    "            cell['source'] = '\\n'.join(new_lines)\n",
    "    return notebook"
   ]
  },
  {
   "cell_type": "code",
   "execution_count": 59,
   "metadata": {},
   "outputs": [
    {
     "name": "stdout",
     "output_type": "stream",
     "text": [
      "Removing badge from cell <a href=\"https://colab.research.google.com/github/wandb/nb_helpers/blob/main/nbs/00_colab.ipynb\" target=\"_parent\"><img src=\"https://colab.research.google.com/assets/colab-badge.svg\" alt=\"Open In Colab\"/></a>\n",
      "\n"
     ]
    }
   ],
   "source": [
    "non_badged_nb = remove_colab_badges(notebook)\n",
    "assert has_colab_badge(non_badged_nb) == -1, \"Badge are still there?!\""
   ]
  },
  {
   "cell_type": "code",
   "execution_count": 60,
   "metadata": {},
   "outputs": [],
   "source": [
    "#| export\n",
    "def create_colab_badge_cell(fname, branch=None, meta={}, tracker=None):\n",
    "    \"Create a colab badge cell from `fname`\"\n",
    "    # get main/master name\n",
    "    branch = ifnone(branch, git_main_name(fname))\n",
    "    url = get_colab_url(fname, branch)\n",
    "    colab_cell = _create_colab_cell(url, meta, tracker)\n",
    "    return colab_cell"
   ]
  },
  {
   "cell_type": "code",
   "execution_count": 61,
   "metadata": {},
   "outputs": [
    {
     "data": {
      "text/markdown": [
       "```json\n",
       "{ 'cell_type': 'markdown',\n",
       "  'idx_': -1,\n",
       "  'metadata': {},\n",
       "  'source': '<a '\n",
       "            'href=\"https://colab.research.google.com/github/wandb/nb_helpers/blob/main/nbs/00_colab.ipynb\" '\n",
       "            'target=\"_parent\"><img '\n",
       "            'src=\"https://colab.research.google.com/assets/colab-badge.svg\" '\n",
       "            'alt=\"Open In Colab\"/></a>\\n'}\n",
       "```"
      ],
      "text/plain": [
       "{'cell_type': 'markdown',\n",
       " 'metadata': {},\n",
       " 'source': '<a href=\"https://colab.research.google.com/github/wandb/nb_helpers/blob/main/nbs/00_colab.ipynb\" target=\"_parent\"><img src=\"https://colab.research.google.com/assets/colab-badge.svg\" alt=\"Open In Colab\"/></a>\\n',\n",
       " 'idx_': -1}"
      ]
     },
     "execution_count": 61,
     "metadata": {},
     "output_type": "execute_result"
    }
   ],
   "source": [
    "create_colab_badge_cell(this_nb)"
   ]
  },
  {
   "cell_type": "code",
   "execution_count": 62,
   "metadata": {},
   "outputs": [],
   "source": [
    "#| export\n",
    "def add_colab_badge(notebook, fname, branch=None, idx=0, meta=_badge_meta, tracker=None):\n",
    "    \"Add a badge to Open In Colab in the `idx` cell\"\n",
    "    notebook = remove_colab_badges(notebook)\n",
    "    colab_cell = create_colab_badge_cell(fname, branch, meta, tracker)\n",
    "    notebook[\"cells\"].insert(idx, colab_cell)\n",
    "    return notebook"
   ]
  },
  {
   "cell_type": "code",
   "execution_count": 63,
   "metadata": {},
   "outputs": [],
   "source": [
    "nb_with_colab_badge = add_colab_badge(notebook, fname=this_nb)"
   ]
  },
  {
   "cell_type": "markdown",
   "metadata": {},
   "source": [
    "it should have the colab badge in the first cell now"
   ]
  },
  {
   "cell_type": "code",
   "execution_count": 64,
   "metadata": {},
   "outputs": [],
   "source": [
    "assert has_colab_badge(nb_with_colab_badge) == 0"
   ]
  },
  {
   "cell_type": "markdown",
   "metadata": {},
   "source": [
    "Let's also activate the GPU on colab"
   ]
  },
  {
   "cell_type": "code",
   "execution_count": 65,
   "metadata": {},
   "outputs": [],
   "source": [
    "d = dict(a=1, b=2)"
   ]
  },
  {
   "cell_type": "code",
   "execution_count": 66,
   "metadata": {},
   "outputs": [],
   "source": [
    "d.update({\"c\": 3})"
   ]
  },
  {
   "cell_type": "code",
   "execution_count": 67,
   "metadata": {},
   "outputs": [],
   "source": [
    "#| exporti\n",
    "_colab_meta = {\n",
    "    \"colab\": {\n",
    "        \"include_colab_link\": True, \n",
    "        \"toc_visible\": True,\n",
    "        \"provenance\": []\n",
    "        },\n",
    "    \"kernelspec\": {\n",
    "      \"name\": \"python3\",\n",
    "      \"display_name\": \"Python 3\"\n",
    "      },\n",
    "    \"language_info\": {\n",
    "      \"name\": \"python\"\n",
    "      },\n",
    "    \"accelerator\": \"GPU\",\n",
    "    \"gpuClass\": \"standard\"\n",
    "    }\n"
   ]
  },
  {
   "cell_type": "code",
   "execution_count": 68,
   "metadata": {},
   "outputs": [],
   "source": [
    "#| export\n",
    "def add_colab_metadata(notebook, meta=_colab_meta):\n",
    "    \"Adds GPU and colab meta to `notebook`\"\n",
    "    if \"accelerator\" in notebook: # old colaboratory standard\n",
    "        del notebook[\"accelerator\"]\n",
    "    notebook[\"metadata\"].update(_colab_meta)\n",
    "    return notebook"
   ]
  },
  {
   "cell_type": "code",
   "execution_count": 69,
   "metadata": {},
   "outputs": [
    {
     "data": {
      "text/markdown": [
       "```json\n",
       "{ 'accelerator': 'GPU',\n",
       "  'colab': {'include_colab_link': True, 'provenance': [], 'toc_visible': True},\n",
       "  'gpuClass': 'standard',\n",
       "  'kernelspec': {'display_name': 'Python 3', 'name': 'python3'},\n",
       "  'language_info': {'name': 'python'}}\n",
       "```"
      ],
      "text/plain": [
       "{'kernelspec': {'name': 'python3', 'display_name': 'Python 3'},\n",
       " 'language_info': {'name': 'python'},\n",
       " 'colab': {'include_colab_link': True, 'toc_visible': True, 'provenance': []},\n",
       " 'accelerator': 'GPU',\n",
       " 'gpuClass': 'standard'}"
      ]
     },
     "execution_count": 69,
     "metadata": {},
     "output_type": "execute_result"
    }
   ],
   "source": [
    "add_colab_metadata(notebook)[\"metadata\"]"
   ]
  },
  {
   "cell_type": "markdown",
   "metadata": {},
   "source": [
    "## Export -"
   ]
  },
  {
   "cell_type": "code",
   "execution_count": 70,
   "metadata": {},
   "outputs": [],
   "source": [
    "#|hide\n",
    "from nbdev import *\n",
    "nbdev_export()"
   ]
  }
 ],
 "metadata": {
  "kernelspec": {
   "display_name": "python3",
   "name": "python3"
  },
  "language_info": {
   "codemirror_mode": {
    "name": "ipython",
    "version": 3
   },
   "file_extension": ".py",
   "mimetype": "text/x-python",
   "name": "python",
   "nbconvert_exporter": "python",
   "pygments_lexer": "ipython3",
   "version": "3.10.6"
  }
 },
 "nbformat": 4,
 "nbformat_minor": 4
}
