{
 "cells": [
  {
   "cell_type": "markdown",
   "metadata": {},
   "source": [
    "<a href=\"https://colab.research.google.com/github/wandb/nb_helpers/blob/main/nbs/04_clean.ipynb\" target=\"_parent\"><img src=\"https://colab.research.google.com/assets/colab-badge.svg\" alt=\"Open In Colab\"/></a>\n"
   ]
  },
  {
   "cell_type": "code",
   "execution_count": null,
   "metadata": {},
   "outputs": [],
   "source": [
    "#| default_exp clean"
   ]
  },
  {
   "cell_type": "markdown",
   "metadata": {},
   "source": [
    "# Clean notebooks\n",
    "> Striping notebooks out of metadata (comes from nbdev)"
   ]
  },
  {
   "cell_type": "code",
   "execution_count": null,
   "metadata": {},
   "outputs": [],
   "source": [
    "#| export\n",
    "import io, json, os\n",
    "from pathlib import Path\n",
    "\n",
    "from rich import print\n",
    "from rich.console import Console\n",
    "from rich.table import Table\n",
    "from rich.progress import track\n",
    "from fastcore.script import call_parse, Param, store_true\n",
    "from execnb.nbio import read_nb\n",
    "\n",
    "from nb_helpers.utils import print_output, is_nb, find_nbs"
   ]
  },
  {
   "cell_type": "code",
   "execution_count": null,
   "metadata": {},
   "outputs": [],
   "source": [
    "this_nb = Path(\"04_clean.ipynb\")\n",
    "notebook = read_nb(this_nb)"
   ]
  },
  {
   "cell_type": "code",
   "execution_count": null,
   "metadata": {},
   "outputs": [],
   "source": [
    "#| exporti\n",
    "def _create_table():\n",
    "    table = Table(show_header=True, header_style=\"bold magenta\")\n",
    "    table.add_column(\"Notebook Path\", style=\"dim\")\n",
    "    table.add_column(\"Status\")\n",
    "    return table"
   ]
  },
  {
   "cell_type": "code",
   "execution_count": null,
   "metadata": {},
   "outputs": [],
   "source": [
    "#| export\n",
    "CONSOLE = Console()"
   ]
  },
  {
   "cell_type": "code",
   "execution_count": null,
   "metadata": {},
   "outputs": [],
   "source": [
    "#| export\n",
    "CLEAN_TABLE = _create_table()"
   ]
  },
  {
   "cell_type": "markdown",
   "metadata": {},
   "source": [
    "## from nbdev.clean"
   ]
  },
  {
   "cell_type": "code",
   "execution_count": null,
   "metadata": {},
   "outputs": [],
   "source": [
    "#| export\n",
    "def rm_execution_count(o):\n",
    "    \"Remove execution count in `o`\"\n",
    "    if \"execution_count\" in o:\n",
    "        o[\"execution_count\"] = None"
   ]
  },
  {
   "cell_type": "code",
   "execution_count": null,
   "metadata": {},
   "outputs": [],
   "source": [
    "#| export\n",
    "colab_json = \"application/vnd.google.colaboratory.intrinsic+json\""
   ]
  },
  {
   "cell_type": "code",
   "execution_count": null,
   "metadata": {},
   "outputs": [],
   "source": [
    "#| export\n",
    "def clean_output_data_vnd(o):\n",
    "    \"Remove `application/vnd.google.colaboratory.intrinsic+json` in data entries\"\n",
    "    if \"data\" in o:\n",
    "        data = o[\"data\"]\n",
    "        if colab_json in data:\n",
    "            new_data = {k: v for k, v in data.items() if k != colab_json}\n",
    "            o[\"data\"] = new_data"
   ]
  },
  {
   "cell_type": "code",
   "execution_count": null,
   "metadata": {},
   "outputs": [],
   "source": [
    "#| export\n",
    "def clean_cell_output(cell):\n",
    "    \"Remove execution count in `cell`\"\n",
    "    if \"outputs\" in cell:\n",
    "        for o in cell[\"outputs\"]:\n",
    "            rm_execution_count(o)\n",
    "            clean_output_data_vnd(o)\n",
    "            o.get(\"metadata\", o).pop(\"tags\", None)"
   ]
  },
  {
   "cell_type": "code",
   "execution_count": null,
   "metadata": {},
   "outputs": [],
   "source": [
    "#| export\n",
    "cell_metadata_keep = [\"hide_input\"]"
   ]
  },
  {
   "cell_type": "code",
   "execution_count": null,
   "metadata": {},
   "outputs": [],
   "source": [
    "#| export\n",
    "nb_metadata_keep = [\"kernelspec\", \"accelerator\", \"colab\"]"
   ]
  },
  {
   "cell_type": "code",
   "execution_count": null,
   "metadata": {},
   "outputs": [],
   "source": [
    "#| export\n",
    "def clean_cell(cell, clear_all=False):\n",
    "    \"Clean `cell` by removing superfluous metadata or everything except the input if `clear_all`\"\n",
    "    rm_execution_count(cell)\n",
    "    if \"outputs\" in cell:\n",
    "        if clear_all:\n",
    "            cell[\"outputs\"] = []\n",
    "        else:\n",
    "            clean_cell_output(cell)\n",
    "    if cell[\"source\"] == [\"\"]:\n",
    "        cell[\"source\"] = []\n",
    "    cell[\"metadata\"] = {} if clear_all else {k: v for k, v in cell[\"metadata\"].items() if k in cell_metadata_keep}"
   ]
  },
  {
   "cell_type": "code",
   "execution_count": null,
   "metadata": {},
   "outputs": [],
   "source": [
    "#| export\n",
    "def clean_nb(nb, clear_all=False):\n",
    "    \"Clean `nb` from superfluous metadata, passing `clear_all` to `clean_cell`\"\n",
    "    for c in nb[\"cells\"]:\n",
    "        clean_cell(c, clear_all=clear_all)\n",
    "    nb[\"metadata\"] = {k: v for k, v in nb[\"metadata\"].items() if k in nb_metadata_keep}"
   ]
  },
  {
   "cell_type": "markdown",
   "metadata": {},
   "source": [
    "Let's try to make this work"
   ]
  },
  {
   "cell_type": "code",
   "execution_count": null,
   "metadata": {},
   "outputs": [],
   "source": [
    "#| export\n",
    "def clean_one(fname: Path, clear_outs: bool = False, disp: bool = False):\n",
    "    \"\"\"Clean notebook metadata:\n",
    "    - `clear_all` removes also outputs\n",
    "    - `disp` prints to stdout\n",
    "    \"\"\"\n",
    "    if not is_nb(fname):\n",
    "        print(f\"This {fname}: is not a notebook my friend\")\n",
    "        return\n",
    "    notebook = json.load(open(str(fname), \"r\", encoding=\"utf-8\"))\n",
    "    clean_nb(notebook, clear_all=clear_outs)\n",
    "    if disp:\n",
    "        print_output(notebook)\n",
    "    else:\n",
    "        x = json.dumps(notebook, sort_keys=True, indent=1, ensure_ascii=False)\n",
    "        with io.open(fname, \"w\", encoding=\"utf-8\") as f:\n",
    "            f.write(x)\n",
    "            f.write(\"\\n\")"
   ]
  },
  {
   "cell_type": "code",
   "execution_count": null,
   "metadata": {},
   "outputs": [],
   "source": [
    "clean_one(this_nb)"
   ]
  },
  {
   "cell_type": "code",
   "execution_count": null,
   "metadata": {},
   "outputs": [],
   "source": [
    "#| export\n",
    "def clean_all(path: Path, clear_outs=True, disp=False):\n",
    "    \"Apply clean to all nbs inside path recursvely\"\n",
    "\n",
    "    for nb in track(find_nbs(path), \"Cleaning nbs...\"):\n",
    "        try:\n",
    "            clean_one(nb, clear_outs, disp)\n",
    "            CLEAN_TABLE.add_row(str(nb), \"[green]Ok[/green]:heavy_check_mark:\")\n",
    "        except:\n",
    "            CLEAN_TABLE.add_row(str(nb), \"[red]Failed[/red]\")"
   ]
  },
  {
   "cell_type": "markdown",
   "metadata": {},
   "source": [
    "Let's create a console script to use on the terminal"
   ]
  },
  {
   "cell_type": "code",
   "execution_count": null,
   "metadata": {},
   "outputs": [],
   "source": [
    "#| export\n",
    "@call_parse\n",
    "def clean_nbs(\n",
    "    path: Param(\"A path to nb files\", Path, nargs=\"?\", opt=False) = os.getcwd(),\n",
    "    clear_outs: Param(\"Remove cell outputs\", store_true) = False,\n",
    "    verbose: Param(\"Rnun on verbose mdoe\", store_true) = False,\n",
    "):\n",
    "    \"Clean notebooks on `path` from useless metadata\"\n",
    "    path = Path(path)\n",
    "    clean_all(path, clear_outs, disp=verbose)\n",
    "    CONSOLE.print(CLEAN_TABLE)"
   ]
  },
  {
   "cell_type": "markdown",
   "metadata": {},
   "source": [
    "You can now call `nb_helpers.clean_nbs` from the terminal to clean up your notebooks"
   ]
  }
 ],
 "metadata": {
  "kernelspec": {
   "display_name": "python3",
   "name": "python3"
  }
 },
 "nbformat": 4,
 "nbformat_minor": 4
}
