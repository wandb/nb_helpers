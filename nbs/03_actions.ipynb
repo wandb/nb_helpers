{
 "cells": [
  {
   "cell_type": "markdown",
   "metadata": {},
   "source": [
    "<a href=\"https://colab.research.google.com/github/wandb/nb_helpers/blob/main/nbs/03_actions.ipynb\" target=\"_parent\"><img src=\"https://colab.research.google.com/assets/colab-badge.svg\" alt=\"Open In Colab\"/></a>\n"
   ]
  },
  {
   "cell_type": "code",
   "execution_count": null,
   "metadata": {},
   "outputs": [],
   "source": [
    "#| default_exp actions"
   ]
  },
  {
   "attachments": {},
   "cell_type": "markdown",
   "metadata": {},
   "source": [
    "# Github Actions\n",
    "> Some simple actions to keep stuff working."
   ]
  },
  {
   "cell_type": "code",
   "execution_count": null,
   "metadata": {},
   "outputs": [],
   "source": [
    "#| export\n",
    "import json\n",
    "from fastcore.all import *\n",
    "from ghapi.all import *\n",
    "\n",
    "from nb_helpers.utils import git_main_name, is_nb, git_origin_repo, git_local_repo"
   ]
  },
  {
   "cell_type": "code",
   "execution_count": null,
   "metadata": {},
   "outputs": [],
   "source": [
    "this_nb = Path(\"03_actions.ipynb\")"
   ]
  },
  {
   "cell_type": "code",
   "execution_count": null,
   "metadata": {},
   "outputs": [],
   "source": [
    "#| export\n",
    "def get_colab_url2md(fname: Path, branch=\"main\", github_repo=\"nb_helpers\", as_badge=False) -> str:\n",
    "    \"Create colab links in md\"\n",
    "    colab_url = f\"https://colab.research.google.com/github/{github_repo}/blob/{branch}/{str(fname)}\"\n",
    "    if not as_badge:\n",
    "        return f\"[{fname}]({colab_url})\"\n",
    "    return f\"[![badge](https://colab.research.google.com/assets/colab-badge.svg)]({colab_url})\""
   ]
  },
  {
   "cell_type": "code",
   "execution_count": null,
   "metadata": {},
   "outputs": [],
   "source": [
    "from IPython.display import display, Markdown"
   ]
  },
  {
   "cell_type": "code",
   "execution_count": null,
   "metadata": {},
   "outputs": [
    {
     "data": {
      "text/plain": [
       "'[03_actions.ipynb](https://colab.research.google.com/github/nb_helpers/blob/main/03_actions.ipynb)'"
      ]
     },
     "execution_count": null,
     "metadata": {},
     "output_type": "execute_result"
    }
   ],
   "source": [
    "link = get_colab_url2md(this_nb)\n",
    "link"
   ]
  },
  {
   "cell_type": "code",
   "execution_count": null,
   "metadata": {},
   "outputs": [
    {
     "data": {
      "text/markdown": [
       "[03_actions.ipynb](https://colab.research.google.com/github/nb_helpers/blob/main/03_actions.ipynb)"
      ],
      "text/plain": [
       "<IPython.core.display.Markdown object>"
      ]
     },
     "metadata": {},
     "output_type": "display_data"
    }
   ],
   "source": [
    "display(Markdown(link))"
   ]
  },
  {
   "cell_type": "code",
   "execution_count": null,
   "metadata": {},
   "outputs": [
    {
     "data": {
      "text/markdown": [
       "[![badge](https://colab.research.google.com/assets/colab-badge.svg)](https://colab.research.google.com/github/nb_helpers/blob/main/03_actions.ipynb)"
      ],
      "text/plain": [
       "<IPython.core.display.Markdown object>"
      ]
     },
     "metadata": {},
     "output_type": "display_data"
    }
   ],
   "source": [
    "display(Markdown(get_colab_url2md(this_nb, as_badge=True)))"
   ]
  },
  {
   "cell_type": "code",
   "execution_count": null,
   "metadata": {},
   "outputs": [],
   "source": [
    "#| export\n",
    "def create_comment_body(title, nb_files, branch, github_repo) -> str:\n",
    "    \"Creates a MD list of fnames with links to colab\"\n",
    "    colab_links = tuple(get_colab_url2md(f, branch, github_repo) for f in nb_files)\n",
    "    body = tuplify(title) + colab_links\n",
    "    return \"\\n -\".join(body)"
   ]
  },
  {
   "cell_type": "code",
   "execution_count": null,
   "metadata": {},
   "outputs": [
    {
     "name": "stdout",
     "output_type": "stream",
     "text": [
      "Title\n",
      " -[03_actions.ipynb](https://colab.research.google.com/github/my_repo/blob/main/03_actions.ipynb)\n",
      " -[03_actions.ipynb](https://colab.research.google.com/github/my_repo/blob/main/03_actions.ipynb)\n",
      " -[03_actions.ipynb](https://colab.research.google.com/github/my_repo/blob/main/03_actions.ipynb)\n"
     ]
    }
   ],
   "source": [
    "print(create_comment_body(\"Title\", [this_nb, this_nb, this_nb], \"main\", \"my_repo\"))"
   ]
  },
  {
   "cell_type": "code",
   "execution_count": null,
   "metadata": {},
   "outputs": [],
   "source": [
    "#| export\n",
    "def get_api(owner=\"wandb\", repo=\"nb_helpers\", token=None):\n",
    "    api = GhApi(owner=owner, repo=repo, token=ifnone(token, github_token()))\n",
    "    payload = context_github.event\n",
    "    return api, payload"
   ]
  },
  {
   "cell_type": "code",
   "execution_count": null,
   "metadata": {},
   "outputs": [],
   "source": [
    "api, payload = get_api()"
   ]
  },
  {
   "cell_type": "code",
   "execution_count": null,
   "metadata": {},
   "outputs": [],
   "source": [
    "#| export\n",
    "def upload_modified_nbs(owner=\"wandb\", repo=\"nb_helpers\", token=None, pr_message=None):\n",
    "    \"On PR post a comment with links to open in colab for each changed nb\"\n",
    "    api, payload = get_api(owner, repo, token)\n",
    "\n",
    "    if \"workflow\" in payload:\n",
    "        issue = 1\n",
    "    else:\n",
    "        issue = payload.number\n",
    "    pr = payload.pull_request\n",
    "    github_repo = pr.head.repo.full_name\n",
    "    branch = pr.head.ref\n",
    "    pr_files = [Path(f.filename) for f in api.pulls.list_files(issue)]\n",
    "    print(f\"pr_files: {pr_files}\")\n",
    "\n",
    "    # filter nbs\n",
    "    nb_files = [f for f in pr_files if is_nb(f)]\n",
    "\n",
    "    if pr_message is not None:\n",
    "        with open(pr_message) as pre_title:\n",
    "            pre_title_md = pre_title.read() + \"\\n\"\n",
    "    else:\n",
    "        pre_title_md = \"\"\n",
    "\n",
    "    title = pre_title_md + \"The following colabs were changed\"\n",
    "\n",
    "    def _get_comment_id(issue):\n",
    "        comments = api.issues.list_comments(issue)\n",
    "        candidates = [c for c in comments if title in c.body]\n",
    "        if len(candidates) == 1:\n",
    "            comment_id = candidates[0].id\n",
    "        else:\n",
    "            comment_id = -1\n",
    "        return comment_id\n",
    "\n",
    "    if len(nb_files) > 0:\n",
    "        body = create_comment_body(title, nb_files, branch, github_repo)\n",
    "        comment_id = _get_comment_id(issue)\n",
    "        json.dump( {\"pr\":issue, \n",
    "                    \"comment_id\":comment_id, \n",
    "                    \"body\": body}, open(\"modified_colabs.json\", 'w' ))"
   ]
  },
  {
   "cell_type": "code",
   "execution_count": null,
   "metadata": {},
   "outputs": [],
   "source": [
    "p = example_payload(\"workflow_run\")"
   ]
  },
  {
   "cell_type": "markdown",
   "metadata": {},
   "source": [
    "## Dummy action to test behaviour"
   ]
  },
  {
   "cell_type": "code",
   "execution_count": null,
   "metadata": {},
   "outputs": [],
   "source": [
    "#| export\n",
    "def open_zip(zf, file=\"reply.json\"):\n",
    "    from zipfile import ZipFile\n",
    "    from io import BytesIO\n",
    "\n",
    "    zip_file = ZipFile(BytesIO(zf))\n",
    "    f = zip_file.open(file)\n",
    "    return f\n",
    "\n",
    "def upload_at(owner=\"wandb\", repo=\"nb_helpers\", token=None):\n",
    "    api, payload = get_api(owner, repo, token)\n",
    "    print(\"Uploading file to artifact\\n=============\")\n",
    "    json.dump( {0: \"My dummy issue reply\"}, open(\"reply.json\", 'w' ))\n",
    "    \n",
    "def download(owner=\"wandb\", repo=\"nb_helpers\", token=None):\n",
    "    api, payload = get_api(owner, repo, token)\n",
    "    print(\"HERE IS THE PAYLOAD\\n=============\")\n",
    "    print(payload)\n",
    "    print(\"=============\\n\\n\")\n",
    "    at = api.actions.list_workflow_run_artifacts(payload.workflow_run.id)[\"artifacts\"][0]\n",
    "    print(\"HERE IS THE Artifact\\n=============\")\n",
    "    print(at)\n",
    "    print(\"=============\\n\\n\")\n",
    "    at_id = at[\"id\"]\n",
    "    print(\"=============\\n\\n\")\n",
    "    print(f\"Downloading AT {at_id}\\n\")\n",
    "    zf = api.actions.download_artifact(at_id, \"zip\")\n",
    "    print(f\"Extracting reply.json: {at_id}\")\n",
    "    unzipped_file = open_zip(zf)\n",
    "    print(unzipped_file, type(unzipped_file))\n",
    "    line = unzipped_file.readline()\n",
    "    f_dict = json.loads(line)\n",
    "    print(f\"Content of reply.json: {f_dict}\")\n",
    "    print(\"Finished\")"
   ]
  },
  {
   "cell_type": "code",
   "execution_count": null,
   "metadata": {},
   "outputs": [],
   "source": [
    "# api, payload = get_api(\"tcapelle\")\n",
    "# # at = api.actions.list_workflow_run_artifacts(payload.workflow_run.id)[\"artifacts\"][0]\n",
    "# zf = api.actions.download_artifact(\"611101444\", \"zip\")\n"
   ]
  },
  {
   "cell_type": "code",
   "execution_count": null,
   "metadata": {},
   "outputs": [
    {
     "data": {
      "text/plain": [
       "{'0': 'My dummy issue reply'}"
      ]
     },
     "execution_count": null,
     "metadata": {},
     "output_type": "execute_result"
    }
   ],
   "source": [
    "# f = open_zip(zf)\n",
    "\n",
    "# line = f.readline()\n",
    "\n",
    "# json.loads(line)"
   ]
  },
  {
   "cell_type": "markdown",
   "metadata": {},
   "source": [
    "## Real Deal"
   ]
  },
  {
   "cell_type": "markdown",
   "metadata": {},
   "source": [
    "Let's download the artifact from the previous runm"
   ]
  },
  {
   "cell_type": "code",
   "execution_count": null,
   "metadata": {},
   "outputs": [],
   "source": [
    "#| export\n",
    "def download_payload(owner=\"wandb\", repo=\"nb_helpers\", token=None):\n",
    "    \"Get artifact with text and create comment\"\n",
    "    api, payload = get_api(owner, repo, token)\n",
    "    print(\"HERE IS THE PAYLOAD\\n=============\")\n",
    "    print(payload)\n",
    "    print(\"=============\\n\\n\")\n",
    "    at = api.actions.list_workflow_run_artifacts(payload.workflow_run.id)[\"artifacts\"][0]\n",
    "    print(\"HERE IS THE Artifact\\n=============\")\n",
    "    print(at)\n",
    "    print(\"=============\\n\\n\")\n",
    "    at_id = at[\"id\"]\n",
    "    print(\"=============\\n\\n\")\n",
    "    print(f\"Downloading AT {at_id}\\n\")\n",
    "    zf = api.actions.download_artifact(at_id, \"zip\")\n",
    "    print(f\"Extracting reply.json\\n\")\n",
    "    f = open_zip(zf, file=\"modified_colabs.json\")\n",
    "    return json.loads(f.readline())"
   ]
  },
  {
   "cell_type": "markdown",
   "metadata": {},
   "source": [
    "with this artifact we can create the comment on the PR"
   ]
  },
  {
   "cell_type": "code",
   "execution_count": null,
   "metadata": {},
   "outputs": [],
   "source": [
    "#| export\n",
    "def post_colab_links(owner=\"wandb\", repo=\"nb_helpers\", token=None):\n",
    "    api, _ = get_api(owner, repo, token)\n",
    "    message = download_payload(owner, repo, token)\n",
    "    pr, comment_id, body = message[\"pr\"], message[\"comment_id\"], message[\"body\"]\n",
    "    if comment_id > 0:\n",
    "        print(f\">> Updating comment on PR #{pr}\\n{body}\\n\")\n",
    "        api.issues.update_comment(comment_id, body)\n",
    "    else:\n",
    "        print(f\">> Creating comment on PR #{pr}\\n{body}\\n\")\n",
    "        api.issues.create_comment(issue_number=pr, body=body)"
   ]
  },
  {
   "cell_type": "code",
   "execution_count": null,
   "metadata": {},
   "outputs": [],
   "source": [
    "#| export\n",
    "def update_comment(issue, body, comment_id, owner=\"wandb\", repo=\"nb_helpers\", token=None):\n",
    "    api, payload = get_api(owner, repo, token)\n",
    "    \n",
    "    if \"workflow\" in payload:\n",
    "        issue = 1\n",
    "    else:\n",
    "        issue = payload.number\n",
    "        \n",
    "    if comment_id > 0:\n",
    "        print(f\">> Updating comment on PR #{issue}\\n{body}\\n\")\n",
    "        api.issues.update_comment(comment_id, body)\n",
    "    else:\n",
    "        print(f\">> Creating comment on PR #{issue}\\n{body}\\n\")\n",
    "        api.issues.create_comment(issue_number=issue, body=body)"
   ]
  },
  {
   "cell_type": "markdown",
   "metadata": {},
   "source": [
    "## Running and testing"
   ]
  },
  {
   "cell_type": "code",
   "execution_count": null,
   "metadata": {},
   "outputs": [],
   "source": [
    "#| export\n",
    "def create_issue_nb_fail(fname, traceback=None, owner=\"wandb\", repo=\"nb_helpers\", token=None):\n",
    "    \"Creates issue of failing nb\"\n",
    "    print(\"=\"*75)\n",
    "    api, _ = get_api(owner, repo, token)\n",
    "    fname = fname.resolve()\n",
    "    github_repo = git_origin_repo(fname)\n",
    "    title = f\"Failed to run {fname}\"\n",
    "    branch = git_main_name(fname)\n",
    "    fname = fname.relative_to(git_local_repo(fname))\n",
    "    repo_url = f\"[{str(fname)}](https://github.com/{github_repo}/blob/{branch}/{str(fname)})\"\n",
    "    colab_url = get_colab_url2md(fname, branch, github_repo, as_badge=True)\n",
    "    traceback = ifnone(traceback, \"\")\n",
    "    body = (\n",
    "        \"The following notebooks failed to run:\\n\\n\"\n",
    "        \"|notebook name|               |\\n\"\n",
    "        \"|-------------|---------------|\\n\"\n",
    "        f\"| {repo_url}   | {colab_url} |\\n\\n\"\n",
    "        \"------------------------------\\n\"\n",
    "        \"The recovered traceback is:\\n\\n\"\n",
    "        \"```python\\n\"\n",
    "        f\"{traceback}\\n\"\n",
    "        \"```\"\n",
    "    )\n",
    "    api.issues.create(title=title, body=body, labels=[\"bug\"])"
   ]
  },
  {
   "cell_type": "code",
   "execution_count": null,
   "metadata": {},
   "outputs": [],
   "source": []
  }
 ],
 "metadata": {
  "jupytext": {
   "split_at_heading": true
  },
  "kernelspec": {
   "display_name": "python3",
   "language": "python",
   "name": "python3"
  }
 },
 "nbformat": 4,
 "nbformat_minor": 4
}
