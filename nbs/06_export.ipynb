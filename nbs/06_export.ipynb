{
 "cells": [
  {
   "cell_type": "markdown",
   "id": "fa8cdbb6",
   "metadata": {},
   "source": [
    "<a href=\"https://colab.research.google.com/github/wandb/nb_helpers/blob/main/nbs/05_run.ipynb\" target=\"_parent\"><img src=\"https://colab.research.google.com/assets/colab-badge.svg\" alt=\"Open In Colab\"/></a>\n"
   ]
  },
  {
   "cell_type": "code",
   "execution_count": null,
   "id": "7aca51d4",
   "metadata": {},
   "outputs": [],
   "source": [
    "#| default_exp export"
   ]
  },
  {
   "cell_type": "markdown",
   "id": "fdce510b",
   "metadata": {},
   "source": [
    "# Exporting Notebooks to MD\n",
    "> Exporting notebooks to markdown for use in blog posts and W&B documentation"
   ]
  },
  {
   "cell_type": "code",
   "execution_count": null,
   "id": "c928ee8b",
   "metadata": {},
   "outputs": [],
   "source": [
    "#| export\n",
    "import os\n",
    "from pathlib import Path\n",
    "from rich.markdown import Markdown\n",
    "from fastcore.script import call_parse, Param, store_true\n",
    "\n",
    "from nb_helpers.colab import has_colab_badge, get_colab_url\n",
    "from nb_helpers.utils import find_nbs, read_nb, is_nb"
   ]
  },
  {
   "cell_type": "code",
   "execution_count": null,
   "id": "0203b8c0",
   "metadata": {},
   "outputs": [],
   "source": [
    "test_nb = Path(\"test_data/test_nb.ipynb\")\n",
    "notebook = read_nb(test_nb)"
   ]
  },
  {
   "cell_type": "code",
   "execution_count": null,
   "id": "0e66d828",
   "metadata": {},
   "outputs": [
    {
     "data": {
      "text/plain": [
       "0"
      ]
     },
     "execution_count": null,
     "metadata": {},
     "output_type": "execute_result"
    }
   ],
   "source": [
    "has_colab_badge(notebook)"
   ]
  },
  {
   "cell_type": "code",
   "execution_count": null,
   "id": "ffd16027",
   "metadata": {},
   "outputs": [],
   "source": [
    "cells = notebook[\"cells\"]"
   ]
  },
  {
   "cell_type": "code",
   "execution_count": null,
   "id": "73d47696",
   "metadata": {},
   "outputs": [
    {
     "data": {
      "text/plain": [
       "[{'cell_type': 'markdown',\n",
       "  'metadata': {},\n",
       "  'source': '<a href=\"https://colab.research.google.com/github/wandb/nb_helpers/blob/main/nbs/test_data/test_nb.ipynb\" target=\"_parent\"><img src=\"https://colab.research.google.com/assets/colab-badge.svg\" alt=\"Open In Colab\"/></a>\\n<!--- @wandbcode{tracker} -->',\n",
       "  'idx_': 0},\n",
       " {'cell_type': 'markdown',\n",
       "  'metadata': {},\n",
       "  'source': '# This is a Test NB \\n<!--- @wandbcode{tracker} -->',\n",
       "  'idx_': 1},\n",
       " {'cell_type': 'markdown',\n",
       "  'metadata': {},\n",
       "  'source': 'this notebooks has code and text and this fancy walala',\n",
       "  'idx_': 2},\n",
       " {'cell_type': 'code',\n",
       "  'execution_count': None,\n",
       "  'metadata': {},\n",
       "  'outputs': [],\n",
       "  'source': 'import os, sys\\nimport logging as log\\nfrom pathlib import Path\\nfrom fastcore.basics import ifnone\\n\\ndef f(x): \\n    return x',\n",
       "  'idx_': 3},\n",
       " {'cell_type': 'code',\n",
       "  'execution_count': None,\n",
       "  'metadata': {},\n",
       "  'outputs': [],\n",
       "  'source': 'f(2)',\n",
       "  'idx_': 4},\n",
       " {'cell_type': 'code',\n",
       "  'execution_count': None,\n",
       "  'metadata': {},\n",
       "  'outputs': [],\n",
       "  'source': 'with open(\"file.txt\", \"w\") as writer:\\n    writer.write(\\'one line\\')',\n",
       "  'idx_': 5},\n",
       " {'cell_type': 'code',\n",
       "  'execution_count': None,\n",
       "  'metadata': {},\n",
       "  'outputs': [],\n",
       "  'source': 'from itertools import chain',\n",
       "  'idx_': 6}]"
      ]
     },
     "execution_count": null,
     "metadata": {},
     "output_type": "execute_result"
    }
   ],
   "source": [
    "cells"
   ]
  },
  {
   "cell_type": "code",
   "execution_count": null,
   "id": "55628290",
   "metadata": {},
   "outputs": [],
   "source": [
    "#| export\n",
    "def _export_code_cell(source):\n",
    "    \"Wrap code around python\"\n",
    "    return f\"\\n```python\\n{source}\\n```\\n\\n\"\n",
    "\n",
    "def default_line_filter(line):\n",
    "    if \"colab.research\" in line:\n",
    "        return False\n",
    "    elif \"@wandbcode\" in line:\n",
    "        return False\n",
    "    else: \n",
    "        return True\n",
    "\n",
    "def filter_out_lines(source, f=default_line_filter):\n",
    "    \"Filter lines from source with filter f\"\n",
    "    lines = source.split(\"\\n\")\n",
    "    return \"\\n\".join(filter(f, lines))\n",
    "\n",
    "def _export_md_cell(source):\n",
    "    source = filter_out_lines(source)\n",
    "    return f\"{source} \\n\""
   ]
  },
  {
   "cell_type": "code",
   "execution_count": null,
   "id": "cbda8853",
   "metadata": {},
   "outputs": [],
   "source": [
    "#| export\n",
    "def export_cell(cell, debug=False):\n",
    "    \"Export cell source to string\"\n",
    "    source = cell[\"source\"]\n",
    "    if debug:\n",
    "        print(source)\n",
    "    if cell[\"cell_type\"] == \"markdown\":\n",
    "        return _export_md_cell(source)\n",
    "        \n",
    "    elif cell[\"cell_type\"] == \"code\":\n",
    "        return  _export_code_cell(source)\n",
    "    else:\n",
    "        return \"\""
   ]
  },
  {
   "cell_type": "code",
   "execution_count": null,
   "id": "ff195fda",
   "metadata": {},
   "outputs": [],
   "source": [
    "exported_file = \"test_nb.md\""
   ]
  },
  {
   "cell_type": "code",
   "execution_count": null,
   "id": "78db19e5",
   "metadata": {},
   "outputs": [],
   "source": [
    "export_cells = [export_cell(c) for c in cells]"
   ]
  },
  {
   "cell_type": "code",
   "execution_count": null,
   "id": "0c3bccd9",
   "metadata": {},
   "outputs": [],
   "source": [
    "#| export\n",
    "def colab_url(file):\n",
    "    \"Create a fresh colab URL from file, must be on github repo\"\n",
    "    url = get_colab_url(file, branch=\"master\")\n",
    "    return f'\\n[![](https://colab.research.google.com/assets/colab-badge.svg)]({url})\\n\\n'"
   ]
  },
  {
   "cell_type": "code",
   "execution_count": null,
   "id": "59424130",
   "metadata": {},
   "outputs": [],
   "source": [
    "colab_link_md = colab_url(test_nb)"
   ]
  },
  {
   "cell_type": "code",
   "execution_count": null,
   "id": "fdcf28d0",
   "metadata": {},
   "outputs": [
    {
     "data": {
      "text/plain": [
       "[' \\n',\n",
       " '# This is a Test NB  \\n',\n",
       " 'this notebooks has code and text and this fancy walala \\n',\n",
       " '\\n```python\\nimport os, sys\\nimport logging as log\\nfrom pathlib import Path\\nfrom fastcore.basics import ifnone\\n\\ndef f(x): \\n    return x\\n```\\n\\n',\n",
       " '\\n```python\\nf(2)\\n```\\n\\n',\n",
       " '\\n```python\\nwith open(\"file.txt\", \"w\") as writer:\\n    writer.write(\\'one line\\')\\n```\\n\\n',\n",
       " '\\n```python\\nfrom itertools import chain\\n```\\n\\n']"
      ]
     },
     "execution_count": null,
     "metadata": {},
     "output_type": "execute_result"
    }
   ],
   "source": [
    "export_cells"
   ]
  },
  {
   "cell_type": "code",
   "execution_count": null,
   "id": "18ca28d3",
   "metadata": {},
   "outputs": [],
   "source": [
    "export_cells.insert(2, colab_link_md)"
   ]
  },
  {
   "cell_type": "code",
   "execution_count": null,
   "id": "e50a153a",
   "metadata": {},
   "outputs": [
    {
     "data": {
      "text/html": [
       "<pre style=\"white-space:pre;overflow-x:auto;line-height:normal;font-family:Menlo,'DejaVu Sans Mono',consolas,'Courier New',monospace\">╔═════════════════════════════════════════════════════════════════════════════════════════════════════════════════╗\n",
       "║                                                <span style=\"font-weight: bold\">This is a Test NB</span>                                                ║\n",
       "╚═════════════════════════════════════════════════════════════════════════════════════════════════════════════════╝\n",
       "\n",
       "🌆 <a href=\"https://colab.research.google.com/github/wandb/nb_helpers/blob/master/nbs/test_data/test_nb.ipynb\" target=\"_blank\">colab-badge.svg</a>                                                                                                                    \n",
       "\n",
       "this notebooks has code and text and this fancy walala                                                             \n",
       "\n",
       "<span style=\"color: #7f7f7f; text-decoration-color: #7f7f7f\">┌─────────────────────────────────────────────────────────────────────────────────────────────────────────────────┐</span>\n",
       "<span style=\"color: #7f7f7f; text-decoration-color: #7f7f7f\">│</span> <span style=\"color: #f92672; text-decoration-color: #f92672; background-color: #272822\">import</span><span style=\"color: #f8f8f2; text-decoration-color: #f8f8f2; background-color: #272822\"> os</span><span style=\"color: #f92672; text-decoration-color: #f92672; background-color: #272822\">,</span><span style=\"color: #f8f8f2; text-decoration-color: #f8f8f2; background-color: #272822\"> sys</span><span style=\"background-color: #272822\">                                                                                                 </span> <span style=\"color: #7f7f7f; text-decoration-color: #7f7f7f\">│</span>\n",
       "<span style=\"color: #7f7f7f; text-decoration-color: #7f7f7f\">│</span> <span style=\"color: #f92672; text-decoration-color: #f92672; background-color: #272822\">import</span><span style=\"color: #f8f8f2; text-decoration-color: #f8f8f2; background-color: #272822\"> logging </span><span style=\"color: #66d9ef; text-decoration-color: #66d9ef; background-color: #272822\">as</span><span style=\"color: #f8f8f2; text-decoration-color: #f8f8f2; background-color: #272822\"> log</span><span style=\"background-color: #272822\">                                                                                          </span> <span style=\"color: #7f7f7f; text-decoration-color: #7f7f7f\">│</span>\n",
       "<span style=\"color: #7f7f7f; text-decoration-color: #7f7f7f\">│</span> <span style=\"color: #f92672; text-decoration-color: #f92672; background-color: #272822\">from</span><span style=\"color: #f8f8f2; text-decoration-color: #f8f8f2; background-color: #272822\"> pathlib </span><span style=\"color: #f92672; text-decoration-color: #f92672; background-color: #272822\">import</span><span style=\"color: #f8f8f2; text-decoration-color: #f8f8f2; background-color: #272822\"> Path</span><span style=\"background-color: #272822\">                                                                                       </span> <span style=\"color: #7f7f7f; text-decoration-color: #7f7f7f\">│</span>\n",
       "<span style=\"color: #7f7f7f; text-decoration-color: #7f7f7f\">│</span> <span style=\"color: #f92672; text-decoration-color: #f92672; background-color: #272822\">from</span><span style=\"color: #f8f8f2; text-decoration-color: #f8f8f2; background-color: #272822\"> fastcore.basics </span><span style=\"color: #f92672; text-decoration-color: #f92672; background-color: #272822\">import</span><span style=\"color: #f8f8f2; text-decoration-color: #f8f8f2; background-color: #272822\"> ifnone</span><span style=\"background-color: #272822\">                                                                             </span> <span style=\"color: #7f7f7f; text-decoration-color: #7f7f7f\">│</span>\n",
       "<span style=\"color: #7f7f7f; text-decoration-color: #7f7f7f\">│</span> <span style=\"background-color: #272822\">                                                                                                               </span> <span style=\"color: #7f7f7f; text-decoration-color: #7f7f7f\">│</span>\n",
       "<span style=\"color: #7f7f7f; text-decoration-color: #7f7f7f\">│</span> <span style=\"color: #66d9ef; text-decoration-color: #66d9ef; background-color: #272822\">def</span><span style=\"color: #f8f8f2; text-decoration-color: #f8f8f2; background-color: #272822\"> </span><span style=\"color: #a6e22e; text-decoration-color: #a6e22e; background-color: #272822\">f</span><span style=\"color: #f8f8f2; text-decoration-color: #f8f8f2; background-color: #272822\">(x): </span><span style=\"background-color: #272822\">                                                                                                     </span> <span style=\"color: #7f7f7f; text-decoration-color: #7f7f7f\">│</span>\n",
       "<span style=\"color: #7f7f7f; text-decoration-color: #7f7f7f\">│</span> <span style=\"color: #f8f8f2; text-decoration-color: #f8f8f2; background-color: #272822\">    </span><span style=\"color: #66d9ef; text-decoration-color: #66d9ef; background-color: #272822\">return</span><span style=\"color: #f8f8f2; text-decoration-color: #f8f8f2; background-color: #272822\"> x</span><span style=\"background-color: #272822\">                                                                                                   </span> <span style=\"color: #7f7f7f; text-decoration-color: #7f7f7f\">│</span>\n",
       "<span style=\"color: #7f7f7f; text-decoration-color: #7f7f7f\">└─────────────────────────────────────────────────────────────────────────────────────────────────────────────────┘</span>\n",
       "\n",
       "<span style=\"color: #7f7f7f; text-decoration-color: #7f7f7f\">┌─────────────────────────────────────────────────────────────────────────────────────────────────────────────────┐</span>\n",
       "<span style=\"color: #7f7f7f; text-decoration-color: #7f7f7f\">│</span> <span style=\"color: #f8f8f2; text-decoration-color: #f8f8f2; background-color: #272822\">f(</span><span style=\"color: #ae81ff; text-decoration-color: #ae81ff; background-color: #272822\">2</span><span style=\"color: #f8f8f2; text-decoration-color: #f8f8f2; background-color: #272822\">)</span><span style=\"background-color: #272822\">                                                                                                           </span> <span style=\"color: #7f7f7f; text-decoration-color: #7f7f7f\">│</span>\n",
       "<span style=\"color: #7f7f7f; text-decoration-color: #7f7f7f\">└─────────────────────────────────────────────────────────────────────────────────────────────────────────────────┘</span>\n",
       "\n",
       "<span style=\"color: #7f7f7f; text-decoration-color: #7f7f7f\">┌─────────────────────────────────────────────────────────────────────────────────────────────────────────────────┐</span>\n",
       "<span style=\"color: #7f7f7f; text-decoration-color: #7f7f7f\">│</span> <span style=\"color: #66d9ef; text-decoration-color: #66d9ef; background-color: #272822\">with</span><span style=\"color: #f8f8f2; text-decoration-color: #f8f8f2; background-color: #272822\"> open(</span><span style=\"color: #e6db74; text-decoration-color: #e6db74; background-color: #272822\">\"file.txt\"</span><span style=\"color: #f8f8f2; text-decoration-color: #f8f8f2; background-color: #272822\">, </span><span style=\"color: #e6db74; text-decoration-color: #e6db74; background-color: #272822\">\"w\"</span><span style=\"color: #f8f8f2; text-decoration-color: #f8f8f2; background-color: #272822\">) </span><span style=\"color: #66d9ef; text-decoration-color: #66d9ef; background-color: #272822\">as</span><span style=\"color: #f8f8f2; text-decoration-color: #f8f8f2; background-color: #272822\"> writer:</span><span style=\"background-color: #272822\">                                                                          </span> <span style=\"color: #7f7f7f; text-decoration-color: #7f7f7f\">│</span>\n",
       "<span style=\"color: #7f7f7f; text-decoration-color: #7f7f7f\">│</span> <span style=\"color: #f8f8f2; text-decoration-color: #f8f8f2; background-color: #272822\">    writer</span><span style=\"color: #f92672; text-decoration-color: #f92672; background-color: #272822\">.</span><span style=\"color: #f8f8f2; text-decoration-color: #f8f8f2; background-color: #272822\">write(</span><span style=\"color: #e6db74; text-decoration-color: #e6db74; background-color: #272822\">'one line'</span><span style=\"color: #f8f8f2; text-decoration-color: #f8f8f2; background-color: #272822\">)</span><span style=\"background-color: #272822\">                                                                                   </span> <span style=\"color: #7f7f7f; text-decoration-color: #7f7f7f\">│</span>\n",
       "<span style=\"color: #7f7f7f; text-decoration-color: #7f7f7f\">└─────────────────────────────────────────────────────────────────────────────────────────────────────────────────┘</span>\n",
       "\n",
       "<span style=\"color: #7f7f7f; text-decoration-color: #7f7f7f\">┌─────────────────────────────────────────────────────────────────────────────────────────────────────────────────┐</span>\n",
       "<span style=\"color: #7f7f7f; text-decoration-color: #7f7f7f\">│</span> <span style=\"color: #f92672; text-decoration-color: #f92672; background-color: #272822\">from</span><span style=\"color: #f8f8f2; text-decoration-color: #f8f8f2; background-color: #272822\"> itertools </span><span style=\"color: #f92672; text-decoration-color: #f92672; background-color: #272822\">import</span><span style=\"color: #f8f8f2; text-decoration-color: #f8f8f2; background-color: #272822\"> chain</span><span style=\"background-color: #272822\">                                                                                    </span> <span style=\"color: #7f7f7f; text-decoration-color: #7f7f7f\">│</span>\n",
       "<span style=\"color: #7f7f7f; text-decoration-color: #7f7f7f\">└─────────────────────────────────────────────────────────────────────────────────────────────────────────────────┘</span>\n",
       "</pre>\n"
      ],
      "text/plain": [
       "╔═════════════════════════════════════════════════════════════════════════════════════════════════════════════════╗\n",
       "║                                                \u001b[1mThis is a Test NB\u001b[0m                                                ║\n",
       "╚═════════════════════════════════════════════════════════════════════════════════════════════════════════════════╝\n",
       "\n",
       "🌆 \u001b]8;id=890167;https://colab.research.google.com/github/wandb/nb_helpers/blob/master/nbs/test_data/test_nb.ipynb\u001b\\colab-badge.svg\u001b]8;;\u001b\\                                                                                                                    \n",
       "\n",
       "this notebooks has code and text and this fancy walala                                                             \n",
       "\n",
       "\u001b[2m┌─────────────────────────────────────────────────────────────────────────────────────────────────────────────────┐\u001b[0m\n",
       "\u001b[2m│\u001b[0m \u001b[38;2;249;38;114;48;2;39;40;34mimport\u001b[0m\u001b[38;2;248;248;242;48;2;39;40;34m \u001b[0m\u001b[38;2;248;248;242;48;2;39;40;34mos\u001b[0m\u001b[38;2;249;38;114;48;2;39;40;34m,\u001b[0m\u001b[38;2;248;248;242;48;2;39;40;34m \u001b[0m\u001b[38;2;248;248;242;48;2;39;40;34msys\u001b[0m\u001b[48;2;39;40;34m                                                                                                 \u001b[0m \u001b[2m│\u001b[0m\n",
       "\u001b[2m│\u001b[0m \u001b[38;2;249;38;114;48;2;39;40;34mimport\u001b[0m\u001b[38;2;248;248;242;48;2;39;40;34m \u001b[0m\u001b[38;2;248;248;242;48;2;39;40;34mlogging\u001b[0m\u001b[38;2;248;248;242;48;2;39;40;34m \u001b[0m\u001b[38;2;102;217;239;48;2;39;40;34mas\u001b[0m\u001b[38;2;248;248;242;48;2;39;40;34m \u001b[0m\u001b[38;2;248;248;242;48;2;39;40;34mlog\u001b[0m\u001b[48;2;39;40;34m                                                                                          \u001b[0m \u001b[2m│\u001b[0m\n",
       "\u001b[2m│\u001b[0m \u001b[38;2;249;38;114;48;2;39;40;34mfrom\u001b[0m\u001b[38;2;248;248;242;48;2;39;40;34m \u001b[0m\u001b[38;2;248;248;242;48;2;39;40;34mpathlib\u001b[0m\u001b[38;2;248;248;242;48;2;39;40;34m \u001b[0m\u001b[38;2;249;38;114;48;2;39;40;34mimport\u001b[0m\u001b[38;2;248;248;242;48;2;39;40;34m \u001b[0m\u001b[38;2;248;248;242;48;2;39;40;34mPath\u001b[0m\u001b[48;2;39;40;34m                                                                                       \u001b[0m \u001b[2m│\u001b[0m\n",
       "\u001b[2m│\u001b[0m \u001b[38;2;249;38;114;48;2;39;40;34mfrom\u001b[0m\u001b[38;2;248;248;242;48;2;39;40;34m \u001b[0m\u001b[38;2;248;248;242;48;2;39;40;34mfastcore\u001b[0m\u001b[38;2;248;248;242;48;2;39;40;34m.\u001b[0m\u001b[38;2;248;248;242;48;2;39;40;34mbasics\u001b[0m\u001b[38;2;248;248;242;48;2;39;40;34m \u001b[0m\u001b[38;2;249;38;114;48;2;39;40;34mimport\u001b[0m\u001b[38;2;248;248;242;48;2;39;40;34m \u001b[0m\u001b[38;2;248;248;242;48;2;39;40;34mifnone\u001b[0m\u001b[48;2;39;40;34m                                                                             \u001b[0m \u001b[2m│\u001b[0m\n",
       "\u001b[2m│\u001b[0m \u001b[48;2;39;40;34m                                                                                                               \u001b[0m \u001b[2m│\u001b[0m\n",
       "\u001b[2m│\u001b[0m \u001b[38;2;102;217;239;48;2;39;40;34mdef\u001b[0m\u001b[38;2;248;248;242;48;2;39;40;34m \u001b[0m\u001b[38;2;166;226;46;48;2;39;40;34mf\u001b[0m\u001b[38;2;248;248;242;48;2;39;40;34m(\u001b[0m\u001b[38;2;248;248;242;48;2;39;40;34mx\u001b[0m\u001b[38;2;248;248;242;48;2;39;40;34m)\u001b[0m\u001b[38;2;248;248;242;48;2;39;40;34m:\u001b[0m\u001b[38;2;248;248;242;48;2;39;40;34m \u001b[0m\u001b[48;2;39;40;34m                                                                                                     \u001b[0m \u001b[2m│\u001b[0m\n",
       "\u001b[2m│\u001b[0m \u001b[38;2;248;248;242;48;2;39;40;34m    \u001b[0m\u001b[38;2;102;217;239;48;2;39;40;34mreturn\u001b[0m\u001b[38;2;248;248;242;48;2;39;40;34m \u001b[0m\u001b[38;2;248;248;242;48;2;39;40;34mx\u001b[0m\u001b[48;2;39;40;34m                                                                                                   \u001b[0m \u001b[2m│\u001b[0m\n",
       "\u001b[2m└─────────────────────────────────────────────────────────────────────────────────────────────────────────────────┘\u001b[0m\n",
       "\n",
       "\u001b[2m┌─────────────────────────────────────────────────────────────────────────────────────────────────────────────────┐\u001b[0m\n",
       "\u001b[2m│\u001b[0m \u001b[38;2;248;248;242;48;2;39;40;34mf\u001b[0m\u001b[38;2;248;248;242;48;2;39;40;34m(\u001b[0m\u001b[38;2;174;129;255;48;2;39;40;34m2\u001b[0m\u001b[38;2;248;248;242;48;2;39;40;34m)\u001b[0m\u001b[48;2;39;40;34m                                                                                                           \u001b[0m \u001b[2m│\u001b[0m\n",
       "\u001b[2m└─────────────────────────────────────────────────────────────────────────────────────────────────────────────────┘\u001b[0m\n",
       "\n",
       "\u001b[2m┌─────────────────────────────────────────────────────────────────────────────────────────────────────────────────┐\u001b[0m\n",
       "\u001b[2m│\u001b[0m \u001b[38;2;102;217;239;48;2;39;40;34mwith\u001b[0m\u001b[38;2;248;248;242;48;2;39;40;34m \u001b[0m\u001b[38;2;248;248;242;48;2;39;40;34mopen\u001b[0m\u001b[38;2;248;248;242;48;2;39;40;34m(\u001b[0m\u001b[38;2;230;219;116;48;2;39;40;34m\"\u001b[0m\u001b[38;2;230;219;116;48;2;39;40;34mfile.txt\u001b[0m\u001b[38;2;230;219;116;48;2;39;40;34m\"\u001b[0m\u001b[38;2;248;248;242;48;2;39;40;34m,\u001b[0m\u001b[38;2;248;248;242;48;2;39;40;34m \u001b[0m\u001b[38;2;230;219;116;48;2;39;40;34m\"\u001b[0m\u001b[38;2;230;219;116;48;2;39;40;34mw\u001b[0m\u001b[38;2;230;219;116;48;2;39;40;34m\"\u001b[0m\u001b[38;2;248;248;242;48;2;39;40;34m)\u001b[0m\u001b[38;2;248;248;242;48;2;39;40;34m \u001b[0m\u001b[38;2;102;217;239;48;2;39;40;34mas\u001b[0m\u001b[38;2;248;248;242;48;2;39;40;34m \u001b[0m\u001b[38;2;248;248;242;48;2;39;40;34mwriter\u001b[0m\u001b[38;2;248;248;242;48;2;39;40;34m:\u001b[0m\u001b[48;2;39;40;34m                                                                          \u001b[0m \u001b[2m│\u001b[0m\n",
       "\u001b[2m│\u001b[0m \u001b[38;2;248;248;242;48;2;39;40;34m    \u001b[0m\u001b[38;2;248;248;242;48;2;39;40;34mwriter\u001b[0m\u001b[38;2;249;38;114;48;2;39;40;34m.\u001b[0m\u001b[38;2;248;248;242;48;2;39;40;34mwrite\u001b[0m\u001b[38;2;248;248;242;48;2;39;40;34m(\u001b[0m\u001b[38;2;230;219;116;48;2;39;40;34m'\u001b[0m\u001b[38;2;230;219;116;48;2;39;40;34mone line\u001b[0m\u001b[38;2;230;219;116;48;2;39;40;34m'\u001b[0m\u001b[38;2;248;248;242;48;2;39;40;34m)\u001b[0m\u001b[48;2;39;40;34m                                                                                   \u001b[0m \u001b[2m│\u001b[0m\n",
       "\u001b[2m└─────────────────────────────────────────────────────────────────────────────────────────────────────────────────┘\u001b[0m\n",
       "\n",
       "\u001b[2m┌─────────────────────────────────────────────────────────────────────────────────────────────────────────────────┐\u001b[0m\n",
       "\u001b[2m│\u001b[0m \u001b[38;2;249;38;114;48;2;39;40;34mfrom\u001b[0m\u001b[38;2;248;248;242;48;2;39;40;34m \u001b[0m\u001b[38;2;248;248;242;48;2;39;40;34mitertools\u001b[0m\u001b[38;2;248;248;242;48;2;39;40;34m \u001b[0m\u001b[38;2;249;38;114;48;2;39;40;34mimport\u001b[0m\u001b[38;2;248;248;242;48;2;39;40;34m \u001b[0m\u001b[38;2;248;248;242;48;2;39;40;34mchain\u001b[0m\u001b[48;2;39;40;34m                                                                                    \u001b[0m \u001b[2m│\u001b[0m\n",
       "\u001b[2m└─────────────────────────────────────────────────────────────────────────────────────────────────────────────────┘\u001b[0m\n"
      ]
     },
     "execution_count": null,
     "metadata": {},
     "output_type": "execute_result"
    }
   ],
   "source": [
    "Markdown(\"\".join(export_cells))"
   ]
  },
  {
   "cell_type": "code",
   "execution_count": null,
   "id": "14d5e1eb",
   "metadata": {},
   "outputs": [],
   "source": [
    "#| export\n",
    "@call_parse\n",
    "def export(\n",
    "    path: Param(\"A path to nb files\", Path, nargs=\"?\", opt=False) = os.getcwd(),\n",
    "    verbose: Param(\"Print errors along the way\", store_true) = False,\n",
    "    outfile: Param(\"An output file to save\") = None,\n",
    "):\n",
    "    if is_nb(path):\n",
    "        nb = read_nb(path)\n",
    "    else:\n",
    "        raise Error(f\"This {path} is not a notebook!\")\n",
    "    \n",
    "    if outfile is None:\n",
    "        outfile = path.with_suffix(\".md\")\n",
    "        print(f\"Exporting notebook {path} -> {outfile}\")\n",
    "    \n",
    "    cells = notebook[\"cells\"]\n",
    "    export_cells = [export_cell(c) for c in cells]\n",
    "    \n",
    "    with open(outfile, \"w\") as f:\n",
    "        f.writelines(export_cells)"
   ]
  },
  {
   "cell_type": "code",
   "execution_count": null,
   "id": "480efa76",
   "metadata": {},
   "outputs": [
    {
     "name": "stdout",
     "output_type": "stream",
     "text": [
      "Exporting notebook test_data/test_nb.ipynb -> test_data/test_nb.md\n"
     ]
    }
   ],
   "source": [
    "export(test_nb)"
   ]
  }
 ],
 "metadata": {
  "kernelspec": {
   "display_name": "Python 3 (ipykernel)",
   "language": "python",
   "name": "python3"
  }
 },
 "nbformat": 4,
 "nbformat_minor": 5
}
