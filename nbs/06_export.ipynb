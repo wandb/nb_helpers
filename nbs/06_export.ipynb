{
 "cells": [
  {
   "cell_type": "markdown",
   "id": "ae9790a8",
   "metadata": {},
   "source": [
    "<a href=\"https://colab.research.google.com/github/wandb/nb_helpers/blob/main/nbs/06_export.ipynb\" target=\"_parent\"><img src=\"https://colab.research.google.com/assets/colab-badge.svg\" alt=\"Open In Colab\"/></a>\n"
   ]
  },
  {
   "cell_type": "code",
   "execution_count": null,
   "id": "06839c64",
   "metadata": {},
   "outputs": [],
   "source": [
    "#| default_exp export"
   ]
  },
  {
   "cell_type": "markdown",
   "id": "78927aad",
   "metadata": {},
   "source": [
    "# Exporting Notebooks to MD\n",
    "> Exporting notebooks to markdown for use in blog posts and W&B documentation"
   ]
  },
  {
   "cell_type": "code",
   "execution_count": null,
   "id": "91059dc6",
   "metadata": {},
   "outputs": [],
   "source": [
    "#| export\n",
    "import os\n",
    "from pathlib import Path\n",
    "from rich.markdown import Markdown\n",
    "from fastcore.script import call_parse, Param, store_true\n",
    "\n",
    "from nb_helpers.colab import has_colab_badge, get_colab_url\n",
    "from nb_helpers.utils import find_nbs, read_nb, is_nb"
   ]
  },
  {
   "cell_type": "code",
   "execution_count": null,
   "id": "a89cc9f5",
   "metadata": {},
   "outputs": [],
   "source": [
    "test_nb = Path(\"test_data/test_nb.ipynb\")\n",
    "notebook = read_nb(test_nb)"
   ]
  },
  {
   "cell_type": "code",
   "execution_count": null,
   "id": "d96b0a79",
   "metadata": {},
   "outputs": [
    {
     "data": {
      "text/plain": [
       "0"
      ]
     },
     "execution_count": null,
     "metadata": {},
     "output_type": "execute_result"
    }
   ],
   "source": [
    "has_colab_badge(notebook)"
   ]
  },
  {
   "cell_type": "code",
   "execution_count": null,
   "id": "86171a3e",
   "metadata": {},
   "outputs": [],
   "source": [
    "cells = notebook[\"cells\"]"
   ]
  },
  {
   "cell_type": "code",
   "execution_count": null,
   "id": "ff4f02de",
   "metadata": {},
   "outputs": [
    {
     "data": {
      "text/plain": [
       "[{'cell_type': 'markdown',\n",
       "  'metadata': {},\n",
       "  'source': '<a href=\"https://colab.research.google.com/github/wandb/nb_helpers/blob/main/nbs/test_data/test_nb.ipynb\" target=\"_parent\"><img src=\"https://colab.research.google.com/assets/colab-badge.svg\" alt=\"Open In Colab\"/></a>\\n<!--- @wandbcode{tracker} -->',\n",
       "  'idx_': 0},\n",
       " {'cell_type': 'markdown',\n",
       "  'metadata': {},\n",
       "  'source': '# This is a Test NB \\n<!--- @wandbcode{tracker} -->',\n",
       "  'idx_': 1},\n",
       " {'cell_type': 'markdown',\n",
       "  'metadata': {},\n",
       "  'source': 'this notebooks has code and text and this fancy walala',\n",
       "  'idx_': 2},\n",
       " {'cell_type': 'code',\n",
       "  'execution_count': None,\n",
       "  'metadata': {},\n",
       "  'outputs': [],\n",
       "  'source': 'import os, sys\\nimport logging as log\\nfrom pathlib import Path\\nfrom fastcore.basics import ifnone\\n\\ndef f(x): \\n    return x',\n",
       "  'idx_': 3},\n",
       " {'cell_type': 'code',\n",
       "  'execution_count': None,\n",
       "  'metadata': {},\n",
       "  'outputs': [],\n",
       "  'source': 'f(2)',\n",
       "  'idx_': 4},\n",
       " {'cell_type': 'code',\n",
       "  'execution_count': None,\n",
       "  'metadata': {},\n",
       "  'outputs': [],\n",
       "  'source': 'with open(\"file.txt\", \"w\") as writer:\\n    writer.write(\\'one line\\')',\n",
       "  'idx_': 5},\n",
       " {'cell_type': 'code',\n",
       "  'execution_count': None,\n",
       "  'metadata': {},\n",
       "  'outputs': [],\n",
       "  'source': 'from itertools import chain',\n",
       "  'idx_': 6}]"
      ]
     },
     "execution_count": null,
     "metadata": {},
     "output_type": "execute_result"
    }
   ],
   "source": [
    "cells"
   ]
  },
  {
   "cell_type": "code",
   "execution_count": null,
   "id": "1f67ffd5",
   "metadata": {},
   "outputs": [],
   "source": [
    "#| export\n",
    "def _export_code_cell(source):\n",
    "    \"Wrap code around python\"\n",
    "    return f\"\\n```python\\n{source}\\n```\\n\\n\"\n",
    "\n",
    "def default_line_filter(line):\n",
    "    if \"colab.research\" in line:\n",
    "        return False\n",
    "    elif \"@wandbcode\" in line:\n",
    "        return False\n",
    "    else: \n",
    "        return True\n",
    "\n",
    "def filter_out_lines(source, f=default_line_filter):\n",
    "    \"Filter lines from source with filter f\"\n",
    "    lines = source.split(\"\\n\")\n",
    "    return \"\\n\".join(filter(f, lines))\n",
    "\n",
    "def _export_md_cell(source):\n",
    "    source = filter_out_lines(source)\n",
    "    return f\"{source} \\n\""
   ]
  },
  {
   "cell_type": "code",
   "execution_count": null,
   "id": "592a1ee0",
   "metadata": {},
   "outputs": [],
   "source": [
    "#| export\n",
    "def export_cell(cell, debug=False):\n",
    "    \"Export cell source to string\"\n",
    "    source = cell[\"source\"]\n",
    "    if debug:\n",
    "        print(source)\n",
    "    if cell[\"cell_type\"] == \"markdown\":\n",
    "        return _export_md_cell(source)\n",
    "        \n",
    "    elif cell[\"cell_type\"] == \"code\":\n",
    "        return  _export_code_cell(source)\n",
    "    else:\n",
    "        return \"\""
   ]
  },
  {
   "cell_type": "code",
   "execution_count": null,
   "id": "a509320b",
   "metadata": {},
   "outputs": [],
   "source": [
    "exported_file = \"test_nb.md\""
   ]
  },
  {
   "cell_type": "code",
   "execution_count": null,
   "id": "e19ed052",
   "metadata": {},
   "outputs": [],
   "source": [
    "export_cells = [export_cell(c) for c in cells]"
   ]
  },
  {
   "cell_type": "code",
   "execution_count": null,
   "id": "ea97d1d4",
   "metadata": {},
   "outputs": [],
   "source": [
    "#| export\n",
    "def colab_url(file):\n",
    "    \"Create a fresh colab URL from file, must be on github repo\"\n",
    "    url = get_colab_url(file, branch=\"master\")\n",
    "    return f'\\n[![](https://colab.research.google.com/assets/colab-badge.svg)]({url})\\n\\n'"
   ]
  },
  {
   "cell_type": "code",
   "execution_count": null,
   "id": "d41a8329",
   "metadata": {},
   "outputs": [],
   "source": [
    "colab_link_md = colab_url(test_nb)"
   ]
  },
  {
   "cell_type": "code",
   "execution_count": null,
   "id": "7720c0cd",
   "metadata": {},
   "outputs": [
    {
     "data": {
      "text/plain": [
       "[' \\n',\n",
       " '# This is a Test NB  \\n',\n",
       " 'this notebooks has code and text and this fancy walala \\n',\n",
       " '\\n```python\\nimport os, sys\\nimport logging as log\\nfrom pathlib import Path\\nfrom fastcore.basics import ifnone\\n\\ndef f(x): \\n    return x\\n```\\n\\n',\n",
       " '\\n```python\\nf(2)\\n```\\n\\n',\n",
       " '\\n```python\\nwith open(\"file.txt\", \"w\") as writer:\\n    writer.write(\\'one line\\')\\n```\\n\\n',\n",
       " '\\n```python\\nfrom itertools import chain\\n```\\n\\n']"
      ]
     },
     "execution_count": null,
     "metadata": {},
     "output_type": "execute_result"
    }
   ],
   "source": [
    "export_cells"
   ]
  },
  {
   "cell_type": "code",
   "execution_count": null,
   "id": "a9ec2edd",
   "metadata": {},
   "outputs": [],
   "source": [
    "export_cells.insert(2, colab_link_md)"
   ]
  },
  {
   "cell_type": "code",
   "execution_count": null,
   "id": "71c3ff04",
   "metadata": {},
   "outputs": [
    {
     "data": {
      "text/html": [
       "<pre style=\"white-space:pre;overflow-x:auto;line-height:normal;font-family:Menlo,'DejaVu Sans Mono',consolas,'Courier New',monospace\">╔═════════════════════════════════════════════════════════════════════════════════════════════════════════════════╗\n",
       "║                                                <span style=\"font-weight: bold\">This is a Test NB</span>                                                ║\n",
       "╚═════════════════════════════════════════════════════════════════════════════════════════════════════════════════╝\n",
       "\n",
       "🌆 <a href=\"https://colab.research.google.com/github/wandb/nb_helpers/blob/master/nbs/test_data/test_nb.ipynb\" target=\"_blank\">colab-badge.svg</a>                                                                                                                    \n",
       "\n",
       "this notebooks has code and text and this fancy walala                                                             \n",
       "\n",
       "<span style=\"color: #7f7f7f; text-decoration-color: #7f7f7f\">┌─────────────────────────────────────────────────────────────────────────────────────────────────────────────────┐</span>\n",
       "<span style=\"color: #7f7f7f; text-decoration-color: #7f7f7f\">│</span> <span style=\"color: #f92672; text-decoration-color: #f92672; background-color: #272822\">import</span><span style=\"color: #f8f8f2; text-decoration-color: #f8f8f2; background-color: #272822\"> os</span><span style=\"color: #f92672; text-decoration-color: #f92672; background-color: #272822\">,</span><span style=\"color: #f8f8f2; text-decoration-color: #f8f8f2; background-color: #272822\"> sys</span><span style=\"background-color: #272822\">                                                                                                 </span> <span style=\"color: #7f7f7f; text-decoration-color: #7f7f7f\">│</span>\n",
       "<span style=\"color: #7f7f7f; text-decoration-color: #7f7f7f\">│</span> <span style=\"color: #f92672; text-decoration-color: #f92672; background-color: #272822\">import</span><span style=\"color: #f8f8f2; text-decoration-color: #f8f8f2; background-color: #272822\"> logging </span><span style=\"color: #66d9ef; text-decoration-color: #66d9ef; background-color: #272822\">as</span><span style=\"color: #f8f8f2; text-decoration-color: #f8f8f2; background-color: #272822\"> log</span><span style=\"background-color: #272822\">                                                                                          </span> <span style=\"color: #7f7f7f; text-decoration-color: #7f7f7f\">│</span>\n",
       "<span style=\"color: #7f7f7f; text-decoration-color: #7f7f7f\">│</span> <span style=\"color: #f92672; text-decoration-color: #f92672; background-color: #272822\">from</span><span style=\"color: #f8f8f2; text-decoration-color: #f8f8f2; background-color: #272822\"> pathlib </span><span style=\"color: #f92672; text-decoration-color: #f92672; background-color: #272822\">import</span><span style=\"color: #f8f8f2; text-decoration-color: #f8f8f2; background-color: #272822\"> Path</span><span style=\"background-color: #272822\">                                                                                       </span> <span style=\"color: #7f7f7f; text-decoration-color: #7f7f7f\">│</span>\n",
       "<span style=\"color: #7f7f7f; text-decoration-color: #7f7f7f\">│</span> <span style=\"color: #f92672; text-decoration-color: #f92672; background-color: #272822\">from</span><span style=\"color: #f8f8f2; text-decoration-color: #f8f8f2; background-color: #272822\"> fastcore.basics </span><span style=\"color: #f92672; text-decoration-color: #f92672; background-color: #272822\">import</span><span style=\"color: #f8f8f2; text-decoration-color: #f8f8f2; background-color: #272822\"> ifnone</span><span style=\"background-color: #272822\">                                                                             </span> <span style=\"color: #7f7f7f; text-decoration-color: #7f7f7f\">│</span>\n",
       "<span style=\"color: #7f7f7f; text-decoration-color: #7f7f7f\">│</span> <span style=\"background-color: #272822\">                                                                                                               </span> <span style=\"color: #7f7f7f; text-decoration-color: #7f7f7f\">│</span>\n",
       "<span style=\"color: #7f7f7f; text-decoration-color: #7f7f7f\">│</span> <span style=\"color: #66d9ef; text-decoration-color: #66d9ef; background-color: #272822\">def</span><span style=\"color: #f8f8f2; text-decoration-color: #f8f8f2; background-color: #272822\"> </span><span style=\"color: #a6e22e; text-decoration-color: #a6e22e; background-color: #272822\">f</span><span style=\"color: #f8f8f2; text-decoration-color: #f8f8f2; background-color: #272822\">(x): </span><span style=\"background-color: #272822\">                                                                                                     </span> <span style=\"color: #7f7f7f; text-decoration-color: #7f7f7f\">│</span>\n",
       "<span style=\"color: #7f7f7f; text-decoration-color: #7f7f7f\">│</span> <span style=\"color: #f8f8f2; text-decoration-color: #f8f8f2; background-color: #272822\">    </span><span style=\"color: #66d9ef; text-decoration-color: #66d9ef; background-color: #272822\">return</span><span style=\"color: #f8f8f2; text-decoration-color: #f8f8f2; background-color: #272822\"> x</span><span style=\"background-color: #272822\">                                                                                                   </span> <span style=\"color: #7f7f7f; text-decoration-color: #7f7f7f\">│</span>\n",
       "<span style=\"color: #7f7f7f; text-decoration-color: #7f7f7f\">└─────────────────────────────────────────────────────────────────────────────────────────────────────────────────┘</span>\n",
       "\n",
       "<span style=\"color: #7f7f7f; text-decoration-color: #7f7f7f\">┌─────────────────────────────────────────────────────────────────────────────────────────────────────────────────┐</span>\n",
       "<span style=\"color: #7f7f7f; text-decoration-color: #7f7f7f\">│</span> <span style=\"color: #f8f8f2; text-decoration-color: #f8f8f2; background-color: #272822\">f(</span><span style=\"color: #ae81ff; text-decoration-color: #ae81ff; background-color: #272822\">2</span><span style=\"color: #f8f8f2; text-decoration-color: #f8f8f2; background-color: #272822\">)</span><span style=\"background-color: #272822\">                                                                                                           </span> <span style=\"color: #7f7f7f; text-decoration-color: #7f7f7f\">│</span>\n",
       "<span style=\"color: #7f7f7f; text-decoration-color: #7f7f7f\">└─────────────────────────────────────────────────────────────────────────────────────────────────────────────────┘</span>\n",
       "\n",
       "<span style=\"color: #7f7f7f; text-decoration-color: #7f7f7f\">┌─────────────────────────────────────────────────────────────────────────────────────────────────────────────────┐</span>\n",
       "<span style=\"color: #7f7f7f; text-decoration-color: #7f7f7f\">│</span> <span style=\"color: #66d9ef; text-decoration-color: #66d9ef; background-color: #272822\">with</span><span style=\"color: #f8f8f2; text-decoration-color: #f8f8f2; background-color: #272822\"> open(</span><span style=\"color: #e6db74; text-decoration-color: #e6db74; background-color: #272822\">\"file.txt\"</span><span style=\"color: #f8f8f2; text-decoration-color: #f8f8f2; background-color: #272822\">, </span><span style=\"color: #e6db74; text-decoration-color: #e6db74; background-color: #272822\">\"w\"</span><span style=\"color: #f8f8f2; text-decoration-color: #f8f8f2; background-color: #272822\">) </span><span style=\"color: #66d9ef; text-decoration-color: #66d9ef; background-color: #272822\">as</span><span style=\"color: #f8f8f2; text-decoration-color: #f8f8f2; background-color: #272822\"> writer:</span><span style=\"background-color: #272822\">                                                                          </span> <span style=\"color: #7f7f7f; text-decoration-color: #7f7f7f\">│</span>\n",
       "<span style=\"color: #7f7f7f; text-decoration-color: #7f7f7f\">│</span> <span style=\"color: #f8f8f2; text-decoration-color: #f8f8f2; background-color: #272822\">    writer</span><span style=\"color: #f92672; text-decoration-color: #f92672; background-color: #272822\">.</span><span style=\"color: #f8f8f2; text-decoration-color: #f8f8f2; background-color: #272822\">write(</span><span style=\"color: #e6db74; text-decoration-color: #e6db74; background-color: #272822\">'one line'</span><span style=\"color: #f8f8f2; text-decoration-color: #f8f8f2; background-color: #272822\">)</span><span style=\"background-color: #272822\">                                                                                   </span> <span style=\"color: #7f7f7f; text-decoration-color: #7f7f7f\">│</span>\n",
       "<span style=\"color: #7f7f7f; text-decoration-color: #7f7f7f\">└─────────────────────────────────────────────────────────────────────────────────────────────────────────────────┘</span>\n",
       "\n",
       "<span style=\"color: #7f7f7f; text-decoration-color: #7f7f7f\">┌─────────────────────────────────────────────────────────────────────────────────────────────────────────────────┐</span>\n",
       "<span style=\"color: #7f7f7f; text-decoration-color: #7f7f7f\">│</span> <span style=\"color: #f92672; text-decoration-color: #f92672; background-color: #272822\">from</span><span style=\"color: #f8f8f2; text-decoration-color: #f8f8f2; background-color: #272822\"> itertools </span><span style=\"color: #f92672; text-decoration-color: #f92672; background-color: #272822\">import</span><span style=\"color: #f8f8f2; text-decoration-color: #f8f8f2; background-color: #272822\"> chain</span><span style=\"background-color: #272822\">                                                                                    </span> <span style=\"color: #7f7f7f; text-decoration-color: #7f7f7f\">│</span>\n",
       "<span style=\"color: #7f7f7f; text-decoration-color: #7f7f7f\">└─────────────────────────────────────────────────────────────────────────────────────────────────────────────────┘</span>\n",
       "</pre>\n"
      ],
      "text/plain": [
       "╔═════════════════════════════════════════════════════════════════════════════════════════════════════════════════╗\n",
       "║                                                \u001b[1mThis is a Test NB\u001b[0m                                                ║\n",
       "╚═════════════════════════════════════════════════════════════════════════════════════════════════════════════════╝\n",
       "\n",
       "🌆 \u001b]8;id=365331;https://colab.research.google.com/github/wandb/nb_helpers/blob/master/nbs/test_data/test_nb.ipynb\u001b\\colab-badge.svg\u001b]8;;\u001b\\                                                                                                                    \n",
       "\n",
       "this notebooks has code and text and this fancy walala                                                             \n",
       "\n",
       "\u001b[2m┌─────────────────────────────────────────────────────────────────────────────────────────────────────────────────┐\u001b[0m\n",
       "\u001b[2m│\u001b[0m \u001b[38;2;249;38;114;48;2;39;40;34mimport\u001b[0m\u001b[38;2;248;248;242;48;2;39;40;34m \u001b[0m\u001b[38;2;248;248;242;48;2;39;40;34mos\u001b[0m\u001b[38;2;249;38;114;48;2;39;40;34m,\u001b[0m\u001b[38;2;248;248;242;48;2;39;40;34m \u001b[0m\u001b[38;2;248;248;242;48;2;39;40;34msys\u001b[0m\u001b[48;2;39;40;34m                                                                                                 \u001b[0m \u001b[2m│\u001b[0m\n",
       "\u001b[2m│\u001b[0m \u001b[38;2;249;38;114;48;2;39;40;34mimport\u001b[0m\u001b[38;2;248;248;242;48;2;39;40;34m \u001b[0m\u001b[38;2;248;248;242;48;2;39;40;34mlogging\u001b[0m\u001b[38;2;248;248;242;48;2;39;40;34m \u001b[0m\u001b[38;2;102;217;239;48;2;39;40;34mas\u001b[0m\u001b[38;2;248;248;242;48;2;39;40;34m \u001b[0m\u001b[38;2;248;248;242;48;2;39;40;34mlog\u001b[0m\u001b[48;2;39;40;34m                                                                                          \u001b[0m \u001b[2m│\u001b[0m\n",
       "\u001b[2m│\u001b[0m \u001b[38;2;249;38;114;48;2;39;40;34mfrom\u001b[0m\u001b[38;2;248;248;242;48;2;39;40;34m \u001b[0m\u001b[38;2;248;248;242;48;2;39;40;34mpathlib\u001b[0m\u001b[38;2;248;248;242;48;2;39;40;34m \u001b[0m\u001b[38;2;249;38;114;48;2;39;40;34mimport\u001b[0m\u001b[38;2;248;248;242;48;2;39;40;34m \u001b[0m\u001b[38;2;248;248;242;48;2;39;40;34mPath\u001b[0m\u001b[48;2;39;40;34m                                                                                       \u001b[0m \u001b[2m│\u001b[0m\n",
       "\u001b[2m│\u001b[0m \u001b[38;2;249;38;114;48;2;39;40;34mfrom\u001b[0m\u001b[38;2;248;248;242;48;2;39;40;34m \u001b[0m\u001b[38;2;248;248;242;48;2;39;40;34mfastcore\u001b[0m\u001b[38;2;248;248;242;48;2;39;40;34m.\u001b[0m\u001b[38;2;248;248;242;48;2;39;40;34mbasics\u001b[0m\u001b[38;2;248;248;242;48;2;39;40;34m \u001b[0m\u001b[38;2;249;38;114;48;2;39;40;34mimport\u001b[0m\u001b[38;2;248;248;242;48;2;39;40;34m \u001b[0m\u001b[38;2;248;248;242;48;2;39;40;34mifnone\u001b[0m\u001b[48;2;39;40;34m                                                                             \u001b[0m \u001b[2m│\u001b[0m\n",
       "\u001b[2m│\u001b[0m \u001b[48;2;39;40;34m                                                                                                               \u001b[0m \u001b[2m│\u001b[0m\n",
       "\u001b[2m│\u001b[0m \u001b[38;2;102;217;239;48;2;39;40;34mdef\u001b[0m\u001b[38;2;248;248;242;48;2;39;40;34m \u001b[0m\u001b[38;2;166;226;46;48;2;39;40;34mf\u001b[0m\u001b[38;2;248;248;242;48;2;39;40;34m(\u001b[0m\u001b[38;2;248;248;242;48;2;39;40;34mx\u001b[0m\u001b[38;2;248;248;242;48;2;39;40;34m)\u001b[0m\u001b[38;2;248;248;242;48;2;39;40;34m:\u001b[0m\u001b[38;2;248;248;242;48;2;39;40;34m \u001b[0m\u001b[48;2;39;40;34m                                                                                                     \u001b[0m \u001b[2m│\u001b[0m\n",
       "\u001b[2m│\u001b[0m \u001b[38;2;248;248;242;48;2;39;40;34m    \u001b[0m\u001b[38;2;102;217;239;48;2;39;40;34mreturn\u001b[0m\u001b[38;2;248;248;242;48;2;39;40;34m \u001b[0m\u001b[38;2;248;248;242;48;2;39;40;34mx\u001b[0m\u001b[48;2;39;40;34m                                                                                                   \u001b[0m \u001b[2m│\u001b[0m\n",
       "\u001b[2m└─────────────────────────────────────────────────────────────────────────────────────────────────────────────────┘\u001b[0m\n",
       "\n",
       "\u001b[2m┌─────────────────────────────────────────────────────────────────────────────────────────────────────────────────┐\u001b[0m\n",
       "\u001b[2m│\u001b[0m \u001b[38;2;248;248;242;48;2;39;40;34mf\u001b[0m\u001b[38;2;248;248;242;48;2;39;40;34m(\u001b[0m\u001b[38;2;174;129;255;48;2;39;40;34m2\u001b[0m\u001b[38;2;248;248;242;48;2;39;40;34m)\u001b[0m\u001b[48;2;39;40;34m                                                                                                           \u001b[0m \u001b[2m│\u001b[0m\n",
       "\u001b[2m└─────────────────────────────────────────────────────────────────────────────────────────────────────────────────┘\u001b[0m\n",
       "\n",
       "\u001b[2m┌─────────────────────────────────────────────────────────────────────────────────────────────────────────────────┐\u001b[0m\n",
       "\u001b[2m│\u001b[0m \u001b[38;2;102;217;239;48;2;39;40;34mwith\u001b[0m\u001b[38;2;248;248;242;48;2;39;40;34m \u001b[0m\u001b[38;2;248;248;242;48;2;39;40;34mopen\u001b[0m\u001b[38;2;248;248;242;48;2;39;40;34m(\u001b[0m\u001b[38;2;230;219;116;48;2;39;40;34m\"\u001b[0m\u001b[38;2;230;219;116;48;2;39;40;34mfile.txt\u001b[0m\u001b[38;2;230;219;116;48;2;39;40;34m\"\u001b[0m\u001b[38;2;248;248;242;48;2;39;40;34m,\u001b[0m\u001b[38;2;248;248;242;48;2;39;40;34m \u001b[0m\u001b[38;2;230;219;116;48;2;39;40;34m\"\u001b[0m\u001b[38;2;230;219;116;48;2;39;40;34mw\u001b[0m\u001b[38;2;230;219;116;48;2;39;40;34m\"\u001b[0m\u001b[38;2;248;248;242;48;2;39;40;34m)\u001b[0m\u001b[38;2;248;248;242;48;2;39;40;34m \u001b[0m\u001b[38;2;102;217;239;48;2;39;40;34mas\u001b[0m\u001b[38;2;248;248;242;48;2;39;40;34m \u001b[0m\u001b[38;2;248;248;242;48;2;39;40;34mwriter\u001b[0m\u001b[38;2;248;248;242;48;2;39;40;34m:\u001b[0m\u001b[48;2;39;40;34m                                                                          \u001b[0m \u001b[2m│\u001b[0m\n",
       "\u001b[2m│\u001b[0m \u001b[38;2;248;248;242;48;2;39;40;34m    \u001b[0m\u001b[38;2;248;248;242;48;2;39;40;34mwriter\u001b[0m\u001b[38;2;249;38;114;48;2;39;40;34m.\u001b[0m\u001b[38;2;248;248;242;48;2;39;40;34mwrite\u001b[0m\u001b[38;2;248;248;242;48;2;39;40;34m(\u001b[0m\u001b[38;2;230;219;116;48;2;39;40;34m'\u001b[0m\u001b[38;2;230;219;116;48;2;39;40;34mone line\u001b[0m\u001b[38;2;230;219;116;48;2;39;40;34m'\u001b[0m\u001b[38;2;248;248;242;48;2;39;40;34m)\u001b[0m\u001b[48;2;39;40;34m                                                                                   \u001b[0m \u001b[2m│\u001b[0m\n",
       "\u001b[2m└─────────────────────────────────────────────────────────────────────────────────────────────────────────────────┘\u001b[0m\n",
       "\n",
       "\u001b[2m┌─────────────────────────────────────────────────────────────────────────────────────────────────────────────────┐\u001b[0m\n",
       "\u001b[2m│\u001b[0m \u001b[38;2;249;38;114;48;2;39;40;34mfrom\u001b[0m\u001b[38;2;248;248;242;48;2;39;40;34m \u001b[0m\u001b[38;2;248;248;242;48;2;39;40;34mitertools\u001b[0m\u001b[38;2;248;248;242;48;2;39;40;34m \u001b[0m\u001b[38;2;249;38;114;48;2;39;40;34mimport\u001b[0m\u001b[38;2;248;248;242;48;2;39;40;34m \u001b[0m\u001b[38;2;248;248;242;48;2;39;40;34mchain\u001b[0m\u001b[48;2;39;40;34m                                                                                    \u001b[0m \u001b[2m│\u001b[0m\n",
       "\u001b[2m└─────────────────────────────────────────────────────────────────────────────────────────────────────────────────┘\u001b[0m\n"
      ]
     },
     "execution_count": null,
     "metadata": {},
     "output_type": "execute_result"
    }
   ],
   "source": [
    "Markdown(\"\".join(export_cells))"
   ]
  },
  {
   "cell_type": "code",
   "execution_count": null,
   "id": "dbdc93cc",
   "metadata": {},
   "outputs": [],
   "source": [
    "#| export\n",
    "def _export_one(path, outfile, verbose=False):\n",
    "    \n",
    "    notebook = read_nb(path)\n",
    "    \n",
    "    cells = notebook[\"cells\"]\n",
    "    \n",
    "    exported_cells = []\n",
    "    for cell in cells:\n",
    "        md_cell = export_cell(cell)\n",
    "        source = cell[\"source\"]\n",
    "        if verbose:\n",
    "            print(f\"=================\\nInput: \\n {source}\")\n",
    "            print(f\"-----------------\\nMD: \\n {md_cell}\")\n",
    "        exported_cells.append(md_cell)\n",
    "    \n",
    "    with open(outfile, \"w\") as f:\n",
    "        f.writelines(exported_cells)"
   ]
  },
  {
   "cell_type": "code",
   "execution_count": null,
   "id": "4f67f23e",
   "metadata": {},
   "outputs": [],
   "source": [
    "#| export\n",
    "@call_parse\n",
    "def export_nbs(\n",
    "    path: Param(\"A path to nb files, can be a list.txt\", Path, nargs=\"?\", opt=False) = os.getcwd(),\n",
    "    verbose: Param(\"Print errors along the way\", store_true) = False,\n",
    "    outpath: Param(\"An output folder to save the exported notebooks\", Path) = Path(\".\") ,\n",
    "):\n",
    "    path = Path(path)\n",
    "    files = find_nbs(path)\n",
    "    \n",
    "    for nb_path in files:\n",
    "        if not is_nb(nb_path):\n",
    "            raise Exception(f\"This {nb_path} is not a notebook!\")\n",
    "        outfile = outpath/(nb_path.with_suffix(\".md\").name)\n",
    "        print(f\"Exporting notebook {nb_path} -> {outfile}\")\n",
    "        _export_one(nb_path, outfile, verbose=verbose)"
   ]
  },
  {
   "cell_type": "code",
   "execution_count": null,
   "id": "4e098755",
   "metadata": {},
   "outputs": [
    {
     "name": "stdout",
     "output_type": "stream",
     "text": [
      "Exporting notebook /Users/tcapelle/work/nb_helpers/nbs/test_data/test_nb.ipynb -> test_nb.md\n",
      "=================\n",
      "Input: \n",
      " <a href=\"https://colab.research.google.com/github/wandb/nb_helpers/blob/main/nbs/test_data/test_nb.ipynb\" target=\"_parent\"><img src=\"https://colab.research.google.com/assets/colab-badge.svg\" alt=\"Open In Colab\"/></a>\n",
      "<!--- @wandbcode{tracker} -->\n",
      "-----------------\n",
      "MD: \n",
      "  \n",
      "\n",
      "=================\n",
      "Input: \n",
      " # This is a Test NB \n",
      "<!--- @wandbcode{tracker} -->\n",
      "-----------------\n",
      "MD: \n",
      " # This is a Test NB  \n",
      "\n",
      "=================\n",
      "Input: \n",
      " this notebooks has code and text and this fancy walala\n",
      "-----------------\n",
      "MD: \n",
      " this notebooks has code and text and this fancy walala \n",
      "\n",
      "=================\n",
      "Input: \n",
      " import os, sys\n",
      "import logging as log\n",
      "from pathlib import Path\n",
      "from fastcore.basics import ifnone\n",
      "\n",
      "def f(x): \n",
      "    return x\n",
      "-----------------\n",
      "MD: \n",
      " \n",
      "```python\n",
      "import os, sys\n",
      "import logging as log\n",
      "from pathlib import Path\n",
      "from fastcore.basics import ifnone\n",
      "\n",
      "def f(x): \n",
      "    return x\n",
      "```\n",
      "\n",
      "\n",
      "=================\n",
      "Input: \n",
      " f(2)\n",
      "-----------------\n",
      "MD: \n",
      " \n",
      "```python\n",
      "f(2)\n",
      "```\n",
      "\n",
      "\n",
      "=================\n",
      "Input: \n",
      " with open(\"file.txt\", \"w\") as writer:\n",
      "    writer.write('one line')\n",
      "-----------------\n",
      "MD: \n",
      " \n",
      "```python\n",
      "with open(\"file.txt\", \"w\") as writer:\n",
      "    writer.write('one line')\n",
      "```\n",
      "\n",
      "\n",
      "=================\n",
      "Input: \n",
      " from itertools import chain\n",
      "-----------------\n",
      "MD: \n",
      " \n",
      "```python\n",
      "from itertools import chain\n",
      "```\n",
      "\n",
      "\n"
     ]
    }
   ],
   "source": [
    "export_nbs(test_nb, verbose=True)"
   ]
  },
  {
   "cell_type": "code",
   "execution_count": null,
   "id": "505e259e",
   "metadata": {},
   "outputs": [
    {
     "name": "stdout",
     "output_type": "stream",
     "text": [
      "Exporting notebook /Users/tcapelle/work/nb_helpers/nbs/00_colab.ipynb -> 00_colab.md\n",
      "Exporting notebook /Users/tcapelle/work/nb_helpers/nbs/01_wandb.ipynb -> 01_wandb.md\n"
     ]
    }
   ],
   "source": [
    "export_nbs(\"test_data/nb_list.txt\")"
   ]
  }
 ],
 "metadata": {
  "kernelspec": {
   "display_name": "python3",
   "language": "python",
   "name": "python3"
  }
 },
 "nbformat": 4,
 "nbformat_minor": 5
}
