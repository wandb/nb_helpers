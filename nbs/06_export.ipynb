{
 "cells": [
  {
   "attachments": {},
   "cell_type": "markdown",
   "metadata": {},
   "source": [
    "<a href=\"https://colab.research.google.com/github/wandb/nb_helpers/blob/main/nbs/06_export.ipynb\" target=\"_parent\"><img src=\"https://colab.research.google.com/assets/colab-badge.svg\" alt=\"Open In Colab\"/></a>\n"
   ]
  },
  {
   "cell_type": "code",
   "execution_count": null,
   "id": "7aca51d4",
   "metadata": {},
   "outputs": [],
   "source": [
    "#| default_exp export"
   ]
  },
  {
   "attachments": {},
   "cell_type": "markdown",
   "id": "fdce510b",
   "metadata": {},
   "source": [
    "# Exporting Notebooks to MD\n",
    "> Exporting notebooks to markdown for use in blog posts and W&B documentation"
   ]
  },
  {
   "cell_type": "code",
   "execution_count": null,
   "id": "c928ee8b",
   "metadata": {},
   "outputs": [],
   "source": [
    "#| export\n",
    "import os\n",
    "from pathlib import Path\n",
    "from rich.markdown import Markdown\n",
    "from fastcore.script import call_parse, Param, store_true\n",
    "\n",
    "from nb_helpers.colab import has_colab_badge, get_colab_url\n",
    "from nb_helpers.utils import find_nbs, read_nb, is_nb"
   ]
  },
  {
   "cell_type": "code",
   "execution_count": null,
   "id": "0203b8c0",
   "metadata": {},
   "outputs": [],
   "source": [
    "test_nb = Path(\"test_data/test_nb.ipynb\")\n",
    "notebook = read_nb(test_nb)"
   ]
  },
  {
   "cell_type": "code",
   "execution_count": null,
   "id": "0e66d828",
   "metadata": {},
   "outputs": [],
   "source": [
    "has_colab_badge(notebook)"
   ]
  },
  {
   "cell_type": "code",
   "execution_count": null,
   "id": "ffd16027",
   "metadata": {},
   "outputs": [],
   "source": [
    "cells = notebook[\"cells\"]"
   ]
  },
  {
   "cell_type": "code",
   "execution_count": null,
   "id": "73d47696",
   "metadata": {},
   "outputs": [],
   "source": [
    "cells"
   ]
  },
  {
   "cell_type": "code",
   "execution_count": null,
   "id": "55628290",
   "metadata": {},
   "outputs": [],
   "source": [
    "#| export\n",
    "def _export_code_cell(source):\n",
    "    \"Wrap code around python\"\n",
    "    return f\"\\n```python\\n{source}\\n```\\n\\n\"\n",
    "\n",
    "def default_line_filter(line):\n",
    "    if \"colab.research\" in line:\n",
    "        return False\n",
    "    elif \"@wandbcode\" in line:\n",
    "        return False\n",
    "    else: \n",
    "        return True\n",
    "\n",
    "def filter_out_lines(source, f=default_line_filter):\n",
    "    \"Filter lines from source with filter f\"\n",
    "    lines = source.split(\"\\n\")\n",
    "    return \"\\n\".join(filter(f, lines))\n",
    "\n",
    "def _export_md_cell(source):\n",
    "    source = filter_out_lines(source)\n",
    "    return f\"{source} \\n\""
   ]
  },
  {
   "cell_type": "code",
   "execution_count": null,
   "id": "cbda8853",
   "metadata": {},
   "outputs": [],
   "source": [
    "#| export\n",
    "def export_cell(cell, debug=False):\n",
    "    \"Export cell source to string\"\n",
    "    source = cell[\"source\"]\n",
    "    if debug:\n",
    "        print(source)\n",
    "    if cell[\"cell_type\"] == \"markdown\":\n",
    "        return _export_md_cell(source)\n",
    "        \n",
    "    elif cell[\"cell_type\"] == \"code\":\n",
    "        return  _export_code_cell(source)\n",
    "    else:\n",
    "        return \"\""
   ]
  },
  {
   "cell_type": "code",
   "execution_count": null,
   "id": "ff195fda",
   "metadata": {},
   "outputs": [],
   "source": [
    "exported_file = \"test_nb.md\""
   ]
  },
  {
   "cell_type": "code",
   "execution_count": null,
   "id": "78db19e5",
   "metadata": {},
   "outputs": [],
   "source": [
    "export_cells = [export_cell(c) for c in cells]"
   ]
  },
  {
   "cell_type": "code",
   "execution_count": null,
   "id": "0c3bccd9",
   "metadata": {},
   "outputs": [],
   "source": [
    "#| export\n",
    "def colab_url(file):\n",
    "    \"Create a fresh colab URL from file, must be on github repo\"\n",
    "    url = get_colab_url(file, branch=\"master\")\n",
    "    return f'\\n[![](https://colab.research.google.com/assets/colab-badge.svg)]({url})\\n\\n'"
   ]
  },
  {
   "cell_type": "code",
   "execution_count": null,
   "id": "59424130",
   "metadata": {},
   "outputs": [],
   "source": [
    "colab_link_md = colab_url(test_nb)"
   ]
  },
  {
   "cell_type": "code",
   "execution_count": null,
   "id": "fdcf28d0",
   "metadata": {},
   "outputs": [],
   "source": [
    "export_cells"
   ]
  },
  {
   "cell_type": "code",
   "execution_count": null,
   "id": "18ca28d3",
   "metadata": {},
   "outputs": [],
   "source": [
    "export_cells.insert(2, colab_link_md)"
   ]
  },
  {
   "cell_type": "code",
   "execution_count": null,
   "id": "e50a153a",
   "metadata": {},
   "outputs": [],
   "source": [
    "Markdown(\"\".join(export_cells))"
   ]
  },
  {
   "cell_type": "code",
   "execution_count": null,
   "id": "14d5e1eb",
   "metadata": {},
   "outputs": [],
   "source": [
    "#| export\n",
    "@call_parse\n",
    "def export(\n",
    "    path: Param(\"A path to nb files\", Path, nargs=\"?\", opt=False) = os.getcwd(),\n",
    "    verbose: Param(\"Print errors along the way\", store_true) = False,\n",
    "    outfile: Param(\"An output file to save\") = None,\n",
    "):\n",
    "    if is_nb(path):\n",
    "        notebook = read_nb(path)\n",
    "    else:\n",
    "        raise Error(f\"This {path} is not a notebook!\")\n",
    "    \n",
    "    if outfile is None:\n",
    "        outfile = path.with_suffix(\".md\")\n",
    "        print(f\"Exporting notebook {path} -> {outfile}\")\n",
    "    \n",
    "    cells = notebook[\"cells\"]\n",
    "    export_cells = [export_cell(c) for c in cells]\n",
    "    \n",
    "    with open(outfile, \"w\") as f:\n",
    "        f.writelines(export_cells)"
   ]
  },
  {
   "cell_type": "code",
   "execution_count": null,
   "id": "480efa76",
   "metadata": {},
   "outputs": [
    {
     "ename": "NameError",
     "evalue": "name 'export' is not defined",
     "output_type": "error",
     "traceback": [
      "\u001b[0;31m---------------------------------------------------------------------------\u001b[0m",
      "\u001b[0;31mNameError\u001b[0m                                 Traceback (most recent call last)",
      "\u001b[1;32m/Users/tcapelle/work/nb_helpers/nbs/06_export.ipynb Cell 19\u001b[0m in \u001b[0;36m<cell line: 1>\u001b[0;34m()\u001b[0m\n\u001b[0;32m----> <a href='vscode-notebook-cell:/Users/tcapelle/work/nb_helpers/nbs/06_export.ipynb#Y100sZmlsZQ%3D%3D?line=0'>1</a>\u001b[0m export(test_nb)\n",
      "\u001b[0;31mNameError\u001b[0m: name 'export' is not defined"
     ]
    }
   ],
   "source": [
    "export(test_nb)"
   ]
  },
  {
   "cell_type": "code",
   "execution_count": null,
   "id": "d2bdeaaa",
   "metadata": {},
   "outputs": [],
   "source": []
  }
 ],
 "metadata": {
  "kernelspec": {
   "display_name": "python3",
   "name": "python3"
  }
 },
 "nbformat": 4,
 "nbformat_minor": 5
}
