{
 "cells": [
  {
   "cell_type": "code",
   "execution_count": null,
   "metadata": {},
   "outputs": [],
   "source": [
    "%load_ext autoreload\n",
    "%autoreload 2"
   ]
  },
  {
   "cell_type": "code",
   "execution_count": null,
   "metadata": {},
   "outputs": [],
   "source": [
    "from tests import TEST_NB, FAIL_NB\n",
    "from nb_helpers.utils import *\n",
    "from nb_helpers.wandb import *"
   ]
  },
  {
   "cell_type": "code",
   "execution_count": null,
   "metadata": {},
   "outputs": [
    {
     "name": "stdout",
     "output_type": "stream",
     "text": [
      "CONSOLE.is_terminal(): False\n"
     ]
    },
    {
     "data": {
      "text/html": [
       "<pre style=\"white-space:pre;overflow-x:auto;line-height:normal;font-family:Menlo,'DejaVu Sans Mono',consolas,'Courier New',monospace\">Writing output to <span style=\"color: #800080; text-decoration-color: #800080\">/Users/tcapelle/wandb/nb_helpers/tests/data/</span><span style=\"color: #ff00ff; text-decoration-color: #ff00ff\">summary.csv</span>\n",
       "</pre>\n"
      ],
      "text/plain": [
       "Writing output to \u001b[35m/Users/tcapelle/wandb/nb_helpers/tests/data/\u001b[0m\u001b[95msummary.csv\u001b[0m\n"
      ]
     },
     "metadata": {},
     "output_type": "display_data"
    },
    {
     "data": {
      "text/html": [
       "<pre style=\"white-space:pre;overflow-x:auto;line-height:normal;font-family:Menlo,'DejaVu Sans Mono',consolas,'Courier New',monospace\">Reading <span style=\"color: #008080; text-decoration-color: #008080; font-weight: bold\">1</span> notebooks\n",
       "</pre>\n"
      ],
      "text/plain": [
       "Reading \u001b[1;36m1\u001b[0m notebooks\n"
      ]
     },
     "metadata": {},
     "output_type": "display_data"
    },
    {
     "data": {
      "text/html": [
       "<pre style=\"white-space:pre;overflow-x:auto;line-height:normal;font-family:Menlo,'DejaVu Sans Mono',consolas,'Courier New',monospace\"><span style=\"color: #ffff00; text-decoration-color: #ffff00\">┌───┬──────────────────────────┬────────────┬────────────────┬──────────────────────────────────────────────┬────────────┬───────┐</span>\n",
       "<span style=\"color: #ffff00; text-decoration-color: #ffff00\">│</span><span style=\"color: #800080; text-decoration-color: #800080; font-weight: bold\"> # </span><span style=\"color: #ffff00; text-decoration-color: #ffff00\">│</span><span style=\"color: #800080; text-decoration-color: #800080; font-weight: bold\"> nb name                  </span><span style=\"color: #ffff00; text-decoration-color: #ffff00\">│</span><span style=\"color: #800080; text-decoration-color: #800080; font-weight: bold\"> tracker    </span><span style=\"color: #ffff00; text-decoration-color: #ffff00\">│</span><span style=\"color: #800080; text-decoration-color: #800080; font-weight: bold\"> wandb features </span><span style=\"color: #ffff00; text-decoration-color: #ffff00\">│</span><span style=\"color: #800080; text-decoration-color: #800080; font-weight: bold\"> python libs                                  </span><span style=\"color: #ffff00; text-decoration-color: #ffff00\">│</span><span style=\"color: #800080; text-decoration-color: #800080; font-weight: bold\"> colab_cell </span><span style=\"color: #ffff00; text-decoration-color: #ffff00\">│</span><span style=\"color: #800080; text-decoration-color: #800080; font-weight: bold\"> colab </span><span style=\"color: #ffff00; text-decoration-color: #ffff00\">│</span>\n",
       "<span style=\"color: #ffff00; text-decoration-color: #ffff00\">├───┼──────────────────────────┼────────────┼────────────────┼──────────────────────────────────────────────┼────────────┼───────┤</span>\n",
       "<span style=\"color: #ffff00; text-decoration-color: #ffff00\">│</span> 1 <span style=\"color: #ffff00; text-decoration-color: #ffff00\">│</span><span style=\"color: #008080; text-decoration-color: #008080\"> tests/data/test_nb.ipynb </span><span style=\"color: #ffff00; text-decoration-color: #ffff00\">│</span> <span style=\"color: #008000; text-decoration-color: #008000\">0: tracker</span> <span style=\"color: #ffff00; text-decoration-color: #ffff00\">│</span>                <span style=\"color: #ffff00; text-decoration-color: #ffff00\">│</span> os, sys, pathlib, fastcore.basics, itertools <span style=\"color: #ffff00; text-decoration-color: #ffff00\">│</span> 1          <span style=\"color: #ffff00; text-decoration-color: #ffff00\">│</span> <a href=\"https://colab.research.google.com/github/wandb/nb_helpers/blob/main/tests/data/test_nb.ipynb\">open</a>  <span style=\"color: #ffff00; text-decoration-color: #ffff00\">│</span>\n",
       "<span style=\"color: #ffff00; text-decoration-color: #ffff00\">└───┴──────────────────────────┴────────────┴────────────────┴──────────────────────────────────────────────┴────────────┴───────┘</span>\n",
       "</pre>\n"
      ],
      "text/plain": [
       "\u001b[93m┌───┬──────────────────────────┬────────────┬────────────────┬──────────────────────────────────────────────┬────────────┬───────┐\u001b[0m\n",
       "\u001b[93m│\u001b[0m\u001b[1;35m \u001b[0m\u001b[1;35m#\u001b[0m\u001b[1;35m \u001b[0m\u001b[93m│\u001b[0m\u001b[1;35m \u001b[0m\u001b[1;35mnb name                 \u001b[0m\u001b[1;35m \u001b[0m\u001b[93m│\u001b[0m\u001b[1;35m \u001b[0m\u001b[1;35mtracker   \u001b[0m\u001b[1;35m \u001b[0m\u001b[93m│\u001b[0m\u001b[1;35m \u001b[0m\u001b[1;35mwandb features\u001b[0m\u001b[1;35m \u001b[0m\u001b[93m│\u001b[0m\u001b[1;35m \u001b[0m\u001b[1;35mpython libs                                 \u001b[0m\u001b[1;35m \u001b[0m\u001b[93m│\u001b[0m\u001b[1;35m \u001b[0m\u001b[1;35mcolab_cell\u001b[0m\u001b[1;35m \u001b[0m\u001b[93m│\u001b[0m\u001b[1;35m \u001b[0m\u001b[1;35mcolab\u001b[0m\u001b[1;35m \u001b[0m\u001b[93m│\u001b[0m\n",
       "\u001b[93m├───┼──────────────────────────┼────────────┼────────────────┼──────────────────────────────────────────────┼────────────┼───────┤\u001b[0m\n",
       "\u001b[93m│\u001b[0m 1 \u001b[93m│\u001b[0m\u001b[36m \u001b[0m\u001b[36mtests/data/test_nb.ipynb\u001b[0m\u001b[36m \u001b[0m\u001b[93m│\u001b[0m \u001b[32m0: tracker\u001b[0m \u001b[93m│\u001b[0m                \u001b[93m│\u001b[0m os, sys, pathlib, fastcore.basics, itertools \u001b[93m│\u001b[0m 1          \u001b[93m│\u001b[0m \u001b]8;id=617469;https://colab.research.google.com/github/wandb/nb_helpers/blob/main/tests/data/test_nb.ipynb\u001b\\open\u001b]8;;\u001b\\  \u001b[93m│\u001b[0m\n",
       "\u001b[93m└───┴──────────────────────────┴────────────┴────────────────┴──────────────────────────────────────────────┴────────────┴───────┘\u001b[0m\n"
      ]
     },
     "metadata": {},
     "output_type": "display_data"
    },
    {
     "data": {
      "text/html": [
       "<pre style=\"white-space:pre;overflow-x:auto;line-height:normal;font-family:Menlo,'DejaVu Sans Mono',consolas,'Courier New',monospace\">END!\n",
       "</pre>\n"
      ],
      "text/plain": [
       "END!\n"
      ]
     },
     "metadata": {},
     "output_type": "display_data"
    }
   ],
   "source": [
    "summary_nbs(path=TEST_NB)"
   ]
  },
  {
   "cell_type": "markdown",
   "metadata": {},
   "source": [
    "## Search tracker and libs"
   ]
  },
  {
   "cell_type": "code",
   "execution_count": null,
   "metadata": {},
   "outputs": [],
   "source": [
    "from rich import print\n",
    "from rich.console import Console\n",
    "\n",
    "from nb_helpers.utils import *\n",
    "from nb_helpers.run import *\n",
    "from nb_helpers.wandb import *"
   ]
  },
  {
   "cell_type": "code",
   "execution_count": null,
   "metadata": {},
   "outputs": [],
   "source": [
    "repo = Path.cwd().parent\n",
    "test_nb = repo/'tests/data/test_nb.ipynb'"
   ]
  },
  {
   "cell_type": "code",
   "execution_count": null,
   "metadata": {},
   "outputs": [
    {
     "data": {
      "text/html": [
       "<pre style=\"white-space:pre;overflow-x:auto;line-height:normal;font-family:Menlo,'DejaVu Sans Mono',consolas,'Courier New',monospace\"><span style=\"color: #800080; text-decoration-color: #800080\">/Users/tcapelle/wandb/nb_helpers/tests/data/</span><span style=\"color: #ff00ff; text-decoration-color: #ff00ff\">test_nb.ipynb</span>\n",
       "</pre>\n"
      ],
      "text/plain": [
       "\u001b[35m/Users/tcapelle/wandb/nb_helpers/tests/data/\u001b[0m\u001b[95mtest_nb.ipynb\u001b[0m\n"
      ]
     },
     "metadata": {},
     "output_type": "display_data"
    }
   ],
   "source": [
    "fname = test_nb\n",
    "notebook = read_nb(fname)\n",
    "print(fname)"
   ]
  },
  {
   "cell_type": "code",
   "execution_count": null,
   "metadata": {},
   "outputs": [
    {
     "data": {
      "text/plain": [
       "{'cell_type': 'markdown',\n",
       " 'metadata': {},\n",
       " 'source': '# This is a Test NB\\n<!--- @wandbcode{tracker} -->'}"
      ]
     },
     "execution_count": null,
     "metadata": {},
     "output_type": "execute_result"
    }
   ],
   "source": [
    "notebook[\"cells\"][0]"
   ]
  },
  {
   "cell_type": "code",
   "execution_count": null,
   "metadata": {},
   "outputs": [
    {
     "data": {
      "text/plain": [
       "Path('/Users/tcapelle/wandb/nb_helpers')"
      ]
     },
     "execution_count": null,
     "metadata": {},
     "output_type": "execute_result"
    }
   ],
   "source": [
    "git_local_repo(fname)"
   ]
  },
  {
   "cell_type": "code",
   "execution_count": null,
   "metadata": {},
   "outputs": [
    {
     "data": {
      "text/plain": [
       "'https://colab.research.google.com/github/wandb/nb_helpers/blob/main/tests/data/test_nb.ipynb'"
      ]
     },
     "execution_count": null,
     "metadata": {},
     "output_type": "execute_result"
    }
   ],
   "source": [
    "get_colab_url(fname)"
   ]
  },
  {
   "cell_type": "markdown",
   "metadata": {},
   "source": [
    "## Detect Pyton libs"
   ]
  },
  {
   "cell_type": "code",
   "execution_count": null,
   "metadata": {},
   "outputs": [],
   "source": [
    "import re"
   ]
  },
  {
   "cell_type": "code",
   "execution_count": null,
   "metadata": {},
   "outputs": [],
   "source": [
    "nb = read_nb(TEST_NB)"
   ]
  },
  {
   "cell_type": "markdown",
   "metadata": {},
   "source": []
  },
  {
   "cell_type": "code",
   "execution_count": null,
   "metadata": {},
   "outputs": [],
   "source": [
    "def search_cells(nb, string: str = None, cell_type=CellType.code):\n",
    "    \"Search string in notebook cells, you can pass comma separated strings\"\n",
    "    strings = ifnone(string, \"\").replace(\" \", \"\").split(\",\")\n",
    "    cells = L()\n",
    "    for cell in nb[\"cells\"]:\n",
    "        if cell[\"cell_type\"] == cell_type:\n",
    "            if any([string in cell[\"source\"] for string in strings]):\n",
    "                cells.append(cell[\"source\"])\n",
    "    return cells"
   ]
  },
  {
   "cell_type": "code",
   "execution_count": null,
   "metadata": {},
   "outputs": [
    {
     "data": {
      "text/plain": [
       "(#2) ['import os, sys\\nimport logging as log\\nfrom pathlib import Path\\nfrom fastcore.basics import ifnone\\n\\ndef f(x): \\n    return x','from itertools import chain']"
      ]
     },
     "execution_count": null,
     "metadata": {},
     "output_type": "execute_result"
    }
   ],
   "source": [
    "text_list = search_cells(nb, \"import,from\")\n",
    "text_list"
   ]
  },
  {
   "cell_type": "code",
   "execution_count": null,
   "metadata": {},
   "outputs": [
    {
     "data": {
      "text/plain": [
       "['import os, sys',\n",
       " 'import logging as log',\n",
       " 'from pathlib import Path',\n",
       " 'from fastcore.basics import ifnone',\n",
       " 'from itertools import chain']"
      ]
     },
     "execution_count": null,
     "metadata": {},
     "output_type": "execute_result"
    }
   ],
   "source": [
    "\n",
    "text_list = L([x.split(\"\\n\") for x in text_list]).concat()\n",
    "text_list = [line for line in text_list if ((\"from\" in line) or (\"import\" in line))]\n",
    "text_list"
   ]
  },
  {
   "cell_type": "code",
   "execution_count": null,
   "metadata": {},
   "outputs": [],
   "source": [
    "strings = ['import tensorflow as tf','import tf.keras as K','import numpy','import sys, os']"
   ]
  },
  {
   "cell_type": "code",
   "execution_count": null,
   "metadata": {},
   "outputs": [
    {
     "data": {
      "text/plain": [
       "['tensorflow as tf', 'tf', 'numpy', 'sys, os']"
      ]
     },
     "execution_count": null,
     "metadata": {},
     "output_type": "execute_result"
    }
   ],
   "source": [
    "after_import_regex = re.compile(r'^import\\s([^\\.]*)', re.VERBOSE)\n",
    "[after_import_regex.search(input).group(1) for input in strings]"
   ]
  },
  {
   "cell_type": "code",
   "execution_count": null,
   "metadata": {},
   "outputs": [
    {
     "data": {
      "text/plain": [
       "'tensorflow'"
      ]
     },
     "execution_count": null,
     "metadata": {},
     "output_type": "execute_result"
    }
   ],
   "source": [
    "before_as_regex = re.compile(r'([^\\s]*?)\\sas\\s', re.VERBOSE)\n",
    "before_as_regex.search('tensorflow as tf').group(1)"
   ]
  },
  {
   "cell_type": "code",
   "execution_count": null,
   "metadata": {},
   "outputs": [
    {
     "data": {
      "text/plain": [
       "'pathlib'"
      ]
     },
     "execution_count": null,
     "metadata": {},
     "output_type": "execute_result"
    }
   ],
   "source": [
    "between_from_import_regex = re.compile(r'^from\\s(.*?)\\simport', re.VERBOSE)\n",
    "between_from_import_regex.search(\"from pathlib import Path\").group(1)"
   ]
  },
  {
   "cell_type": "code",
   "execution_count": null,
   "metadata": {},
   "outputs": [],
   "source": [
    "strings = ['import tensorflow as tf','import tf.keras as K','import numpy','import sys, os', 'from fastcore.basics import ifnone']"
   ]
  },
  {
   "cell_type": "code",
   "execution_count": null,
   "metadata": {},
   "outputs": [],
   "source": [
    "def _extract_libs(strings):\n",
    "    \"Automatically detect libraries imported in `strings`\"\n",
    "\n",
    "    after_import_regex = re.compile(r'^import\\s([^\\.]*)', re.VERBOSE)\n",
    "    before_as_regex= re.compile(r'([^\\s]*?)\\sas\\s', re.VERBOSE)\n",
    "    between_from_import_regex=re.compile(r'^from\\s(.*?)\\simport', re.VERBOSE)\n",
    "\n",
    "\n",
    "    def _search_with_regex(regex, string):\n",
    "        res = regex.search(string)\n",
    "        if res is not None:\n",
    "            return res.group(1)\n",
    "        else:\n",
    "            return \"\"\n",
    "\n",
    "    libs = []\n",
    "    for string in strings:\n",
    "        if \"from\" in string:\n",
    "            string = _search_with_regex(between_from_import_regex, string).split(\".\")[0]\n",
    "        else:\n",
    "            string = _search_with_regex(after_import_regex, string)\n",
    "            if \"as\" in string:\n",
    "                string = _search_with_regex(before_as_regex, string)\n",
    "        libs.append(string.replace(\" \", \"\").split(\",\"))\n",
    "    return L(libs).concat()\n"
   ]
  },
  {
   "cell_type": "code",
   "execution_count": null,
   "metadata": {},
   "outputs": [
    {
     "data": {
      "text/plain": [
       "(#6) ['tensorflow','tf','numpy','sys','os','fastcore']"
      ]
     },
     "execution_count": null,
     "metadata": {},
     "output_type": "execute_result"
    }
   ],
   "source": [
    "_extract_libs(strings)"
   ]
  },
  {
   "cell_type": "code",
   "execution_count": null,
   "metadata": {},
   "outputs": [],
   "source": [
    "def detect_imported_libs(notebook):\n",
    "    text_list = search_cells(notebook, \"import,from\")\n",
    "\n",
    "    # format lines\n",
    "    text_list = L([x.split(\"\\n\") for x in text_list]).concat()\n",
    "    text_list = [line for line in text_list if ((\"from\" in line) or (\"import\" in line))]\n",
    "    \n",
    "    return _extract_libs(text_list)\n"
   ]
  },
  {
   "cell_type": "code",
   "execution_count": null,
   "metadata": {},
   "outputs": [
    {
     "data": {
      "text/plain": [
       "(#0) []"
      ]
     },
     "execution_count": null,
     "metadata": {},
     "output_type": "execute_result"
    }
   ],
   "source": [
    "fail_nb = read_nb(FAIL_NB)\n",
    "detect_imported_libs(fail_nb)"
   ]
  },
  {
   "cell_type": "code",
   "execution_count": null,
   "metadata": {},
   "outputs": [
    {
     "data": {
      "text/plain": [
       "(#6) ['os','sys','logging','pathlib','fastcore','itertools']"
      ]
     },
     "execution_count": null,
     "metadata": {},
     "output_type": "execute_result"
    }
   ],
   "source": [
    "detect_imported_libs(read_nb(TEST_NB))\n"
   ]
  }
 ],
 "metadata": {
  "kernelspec": {
   "display_name": "Python 3 (ipykernel)",
   "language": "python",
   "name": "python3"
  }
 },
 "nbformat": 4,
 "nbformat_minor": 4
}
