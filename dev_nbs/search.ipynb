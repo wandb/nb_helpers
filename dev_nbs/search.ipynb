{
 "cells": [
  {
   "cell_type": "code",
   "execution_count": 10,
   "metadata": {},
   "outputs": [
    {
     "name": "stdout",
     "output_type": "stream",
     "text": [
      "The autoreload extension is already loaded. To reload it, use:\n",
      "  %reload_ext autoreload\n"
     ]
    }
   ],
   "source": [
    "%load_ext autoreload\n",
    "%autoreload 2|"
   ]
  },
  {
   "cell_type": "code",
   "execution_count": 11,
   "metadata": {},
   "outputs": [],
   "source": [
    "from tests import TEST_NB\n",
    "from nb_helpers.utils import *\n",
    "from nb_helpers.wandb import *"
   ]
  },
  {
   "cell_type": "code",
   "execution_count": 12,
   "metadata": {},
   "outputs": [
    {
     "data": {
      "text/html": [
       "<pre style=\"white-space:pre;overflow-x:auto;line-height:normal;font-family:Menlo,'DejaVu Sans Mono',consolas,'Courier New',monospace\"><span style=\"color: #800080; text-decoration-color: #800080; font-weight: bold\">CONSOLE.is_terminal</span><span style=\"font-weight: bold\">()</span>: <span style=\"color: #ff0000; text-decoration-color: #ff0000; font-style: italic\">False</span>\n",
       "</pre>\n"
      ],
      "text/plain": [
       "\u001b[1;35mCONSOLE.is_terminal\u001b[0m\u001b[1m(\u001b[0m\u001b[1m)\u001b[0m: \u001b[3;91mFalse\u001b[0m\n"
      ]
     },
     "metadata": {},
     "output_type": "display_data"
    },
    {
     "data": {
      "text/html": [
       "<pre style=\"white-space:pre;overflow-x:auto;line-height:normal;font-family:Menlo,'DejaVu Sans Mono',consolas,'Courier New',monospace\">Reading <span style=\"color: #008080; text-decoration-color: #008080; font-weight: bold\">1</span> notebooks\n",
       "</pre>\n"
      ],
      "text/plain": [
       "Reading \u001b[1;36m1\u001b[0m notebooks\n"
      ]
     },
     "metadata": {},
     "output_type": "display_data"
    },
    {
     "data": {
      "text/html": [
       "<pre style=\"white-space:pre;overflow-x:auto;line-height:normal;font-family:Menlo,'DejaVu Sans Mono',consolas,'Courier New',monospace\">┏━━━┳━━━━━━━━━━━━━━━━━━━━━━━━━━━━━━━━━━━━━━━━━━━┳━━━━━━━━━┳━━━━━━━━━━━━━━━━┳━━━━━━━━━━━━━┓\n",
       "┃<span style=\"color: #800080; text-decoration-color: #800080; font-weight: bold\"> # </span>┃<span style=\"color: #800080; text-decoration-color: #800080; font-weight: bold\"> nb name                                   </span>┃<span style=\"color: #800080; text-decoration-color: #800080; font-weight: bold\"> tracker </span>┃<span style=\"color: #800080; text-decoration-color: #800080; font-weight: bold\"> wandb features </span>┃<span style=\"color: #800080; text-decoration-color: #800080; font-weight: bold\"> python libs </span>┃\n",
       "┡━━━╇━━━━━━━━━━━━━━━━━━━━━━━━━━━━━━━━━━━━━━━━━━━╇━━━━━━━━━╇━━━━━━━━━━━━━━━━╇━━━━━━━━━━━━━┩\n",
       "│ 1 │ wandb/nb_helpers/tests/data/test_nb.ipynb │ <span style=\"color: #008000; text-decoration-color: #008000\">tracker</span> │                │             │\n",
       "└───┴───────────────────────────────────────────┴─────────┴────────────────┴─────────────┘\n",
       "</pre>\n"
      ],
      "text/plain": [
       "┏━━━┳━━━━━━━━━━━━━━━━━━━━━━━━━━━━━━━━━━━━━━━━━━━┳━━━━━━━━━┳━━━━━━━━━━━━━━━━┳━━━━━━━━━━━━━┓\n",
       "┃\u001b[1;35m \u001b[0m\u001b[1;35m#\u001b[0m\u001b[1;35m \u001b[0m┃\u001b[1;35m \u001b[0m\u001b[1;35mnb name                                  \u001b[0m\u001b[1;35m \u001b[0m┃\u001b[1;35m \u001b[0m\u001b[1;35mtracker\u001b[0m\u001b[1;35m \u001b[0m┃\u001b[1;35m \u001b[0m\u001b[1;35mwandb features\u001b[0m\u001b[1;35m \u001b[0m┃\u001b[1;35m \u001b[0m\u001b[1;35mpython libs\u001b[0m\u001b[1;35m \u001b[0m┃\n",
       "┡━━━╇━━━━━━━━━━━━━━━━━━━━━━━━━━━━━━━━━━━━━━━━━━━╇━━━━━━━━━╇━━━━━━━━━━━━━━━━╇━━━━━━━━━━━━━┩\n",
       "│ 1 │ wandb/nb_helpers/tests/data/test_nb.ipynb │ \u001b[32mtracker\u001b[0m │                │             │\n",
       "└───┴───────────────────────────────────────────┴─────────┴────────────────┴─────────────┘\n"
      ]
     },
     "metadata": {},
     "output_type": "display_data"
    },
    {
     "data": {
      "text/html": [
       "<pre style=\"white-space:pre;overflow-x:auto;line-height:normal;font-family:Menlo,'DejaVu Sans Mono',consolas,'Courier New',monospace\">END!\n",
       "</pre>\n"
      ],
      "text/plain": [
       "END!\n"
      ]
     },
     "metadata": {},
     "output_type": "display_data"
    }
   ],
   "source": [
    "summary_nbs(path=TEST_NB)"
   ]
  },
  {
   "cell_type": "code",
   "execution_count": 13,
   "metadata": {},
   "outputs": [
    {
     "data": {
      "text/html": [
       "<pre style=\"white-space:pre;overflow-x:auto;line-height:normal;font-family:Menlo,'DejaVu Sans Mono',consolas,'Courier New',monospace\"><span style=\"color: #800080; text-decoration-color: #800080\">/Users/tcapelle/wandb/nb_helpers/tests/data/</span><span style=\"color: #ff00ff; text-decoration-color: #ff00ff\">test_nb.ipynb</span>\n",
       "</pre>\n"
      ],
      "text/plain": [
       "\u001b[35m/Users/tcapelle/wandb/nb_helpers/tests/data/\u001b[0m\u001b[95mtest_nb.ipynb\u001b[0m\n"
      ]
     },
     "metadata": {},
     "output_type": "display_data"
    }
   ],
   "source": [
    "print(TEST_NB)\n",
    "nb = read_nb(TEST_NB)"
   ]
  },
  {
   "cell_type": "code",
   "execution_count": 14,
   "metadata": {},
   "outputs": [
    {
     "data": {
      "text/plain": [
       "{'cells': [{'cell_type': 'markdown',\n",
       "   'metadata': {},\n",
       "   'source': '# This is a Test NB\\n<!--- @wandbcode{tracker} -->'},\n",
       "  {'cell_type': 'markdown',\n",
       "   'metadata': {},\n",
       "   'source': 'this notebooks has code and text and this fancy walala'},\n",
       "  {'cell_type': 'code',\n",
       "   'execution_count': None,\n",
       "   'metadata': {},\n",
       "   'outputs': [],\n",
       "   'source': 'import pathlib\\ndef f(x): \\n    return x'},\n",
       "  {'cell_type': 'code',\n",
       "   'execution_count': None,\n",
       "   'metadata': {},\n",
       "   'outputs': [],\n",
       "   'source': 'f(2)'},\n",
       "  {'cell_type': 'code',\n",
       "   'execution_count': None,\n",
       "   'metadata': {},\n",
       "   'outputs': [],\n",
       "   'source': 'with open(\"file.txt\", \"w\") as writer:\\n    writer.write(\\'one line\\')'},\n",
       "  {'cell_type': 'code',\n",
       "   'execution_count': None,\n",
       "   'metadata': {},\n",
       "   'outputs': [],\n",
       "   'source': ''}],\n",
       " 'metadata': {'kernelspec': {'display_name': \"Python 3.9.7 64-bit ('tf': conda)\",\n",
       "   'language': 'python',\n",
       "   'name': 'python3'}},\n",
       " 'nbformat': 4,\n",
       " 'nbformat_minor': 2}"
      ]
     },
     "execution_count": 14,
     "metadata": {},
     "output_type": "execute_result"
    }
   ],
   "source": [
    "nb"
   ]
  },
  {
   "cell_type": "code",
   "execution_count": 15,
   "metadata": {},
   "outputs": [],
   "source": [
    "def first_cell(nb):\n",
    "    \"return the first cell of the notebook\"\n",
    "    return nb[\"cells\"][0][\"source\"]"
   ]
  },
  {
   "cell_type": "code",
   "execution_count": 16,
   "metadata": {},
   "outputs": [
    {
     "data": {
      "text/plain": [
       "'# This is a Test NB\\n<!--- @wandbcode{tracker} -->'"
      ]
     },
     "execution_count": 16,
     "metadata": {},
     "output_type": "execute_result"
    }
   ],
   "source": [
    "first_cell(nb)"
   ]
  },
  {
   "cell_type": "code",
   "execution_count": 17,
   "metadata": {},
   "outputs": [
    {
     "data": {
      "text/plain": [
       "True"
      ]
     },
     "execution_count": 17,
     "metadata": {},
     "output_type": "execute_result"
    }
   ],
   "source": [
    "fancy_str = \"@wandbcode\"\n",
    "search_string_in_nb(nb, fancy_str, cell_type=CellType.md)"
   ]
  },
  {
   "cell_type": "code",
   "execution_count": 18,
   "metadata": {},
   "outputs": [],
   "source": [
    "tracker = \"<!--- @wandbcode{tracker_id} -->\""
   ]
  },
  {
   "cell_type": "code",
   "execution_count": 19,
   "metadata": {},
   "outputs": [
    {
     "data": {
      "text/plain": [
       "'<!--- @wandbcode{tracker_id} -->'"
      ]
     },
     "execution_count": 19,
     "metadata": {},
     "output_type": "execute_result"
    }
   ],
   "source": [
    "import re\n",
    "tracker"
   ]
  },
  {
   "cell_type": "code",
   "execution_count": 20,
   "metadata": {},
   "outputs": [],
   "source": [
    "def get_tracker(cell):\n",
    "    \"Get the value inside <!--- @wandbcode{tracker} -->\"\n",
    "    if \"@wandbcode\" not in cell:\n",
    "        return \"[red]No Tracker[/red]\"\n",
    "    return re.search(r\"@wandbcode{(.*?)}\", cell).group(1)"
   ]
  },
  {
   "cell_type": "code",
   "execution_count": 87,
   "metadata": {},
   "outputs": [],
   "source": [
    "def remove_rich_format(text):\n",
    "    \"Remove rich fancy coloring\"\n",
    "    res = re.search(r\"\\[(.*)\\](.*?)\\[(.*)\\]\", text)\n",
    "    if res is None:\n",
    "        return text\n",
    "    else:\n",
    "        return res.group(1)"
   ]
  },
  {
   "cell_type": "code",
   "execution_count": 90,
   "metadata": {},
   "outputs": [
    {
     "data": {
      "text/plain": [
       "'red'"
      ]
     },
     "execution_count": 90,
     "metadata": {},
     "output_type": "execute_result"
    }
   ],
   "source": [
    "remove_rich_format(\"[red]text[\\red]\")"
   ]
  },
  {
   "cell_type": "code",
   "execution_count": 91,
   "metadata": {},
   "outputs": [
    {
     "data": {
      "text/plain": [
       "'ahjsod'"
      ]
     },
     "execution_count": 91,
     "metadata": {},
     "output_type": "execute_result"
    }
   ],
   "source": [
    "remove_rich_format(\"ahjsod\")"
   ]
  },
  {
   "cell_type": "code",
   "execution_count": 21,
   "metadata": {},
   "outputs": [
    {
     "data": {
      "text/plain": [
       "'[red]No Tracker[/red]'"
      ]
     },
     "execution_count": 21,
     "metadata": {},
     "output_type": "execute_result"
    }
   ],
   "source": [
    "get_tracker(\"cacuca\")"
   ]
  },
  {
   "cell_type": "code",
   "execution_count": 22,
   "metadata": {},
   "outputs": [
    {
     "data": {
      "text/plain": [
       "'tracker'"
      ]
     },
     "execution_count": 22,
     "metadata": {},
     "output_type": "execute_result"
    }
   ],
   "source": [
    "get_tracker(first_cell(nb))"
   ]
  },
  {
   "cell_type": "markdown",
   "metadata": {},
   "source": [
    "## Search tracker and libs"
   ]
  },
  {
   "cell_type": "code",
   "execution_count": 23,
   "metadata": {},
   "outputs": [],
   "source": [
    "from rich import print\n",
    "from rich.console import Console\n",
    "\n",
    "from nb_helpers.utils import *\n",
    "from nb_helpers.run import *"
   ]
  },
  {
   "cell_type": "code",
   "execution_count": 24,
   "metadata": {},
   "outputs": [],
   "source": [
    "ex_nbs = Path.home()/'wandb/examples/'"
   ]
  },
  {
   "cell_type": "code",
   "execution_count": 25,
   "metadata": {},
   "outputs": [],
   "source": [
    "notebooks = find_nbs(ex_nbs)"
   ]
  },
  {
   "cell_type": "code",
   "execution_count": 26,
   "metadata": {},
   "outputs": [],
   "source": [
    "console = Console(width=200)"
   ]
  },
  {
   "cell_type": "code",
   "execution_count": 27,
   "metadata": {},
   "outputs": [],
   "source": [
    "WANDB_FEATURES = [\"Table\", \"sweep\", \"WandbCallback\", \"WandbLogger\", \"Artifact\"]\n",
    "PYTHON_LIBS = [\"torch\", \"keras\", \"tensorflow\", \"sklearn\", \"yolo\", \"jax\", \"pandas\", \"numpy\", \"spacy\", \"transformers\", \"lightning\", \"fastai\"]"
   ]
  },
  {
   "cell_type": "code",
   "execution_count": 28,
   "metadata": {},
   "outputs": [],
   "source": [
    "def search_code(nb, features=WANDB_FEATURES):\n",
    "    present_features = []\n",
    "    for feat in listify(features):\n",
    "        if search_string_in_nb(nb, feat):\n",
    "            present_features.append(feat)\n",
    "    return present_features\n"
   ]
  },
  {
   "cell_type": "code",
   "execution_count": 29,
   "metadata": {},
   "outputs": [],
   "source": [
    "table = create_table([\"#\", \"nb name\", \"tracker\", \"wandb features\", \"python libs\"])\n",
    "\n",
    "for i, nb_path in enumerate(notebooks):\n",
    "    nb = read_nb(nb_path)\n",
    "    tracker_id = get_wandb_tracker(nb)\n",
    "    fname = nb_path.relative_to(Path.home()/\"wandb/examples\")\n",
    "    features = search_code(nb)\n",
    "    libs = search_code(nb, PYTHON_LIBS)\n",
    "    table.add_row(f'{i+1}', str(fname), f'[green]{tracker_id}[/green]', \", \".join(features), \", \".join(libs))"
   ]
  },
  {
   "cell_type": "code",
   "execution_count": 30,
   "metadata": {},
   "outputs": [
    {
     "data": {
      "text/html": [
       "<pre style=\"white-space:pre;overflow-x:auto;line-height:normal;font-family:Menlo,'DejaVu Sans Mono',consolas,'Courier New',monospace\">┏━━━━┳━━━━━━━━━━━━━━━━━━━━━━━━━━━━━━━━━━━━━━━━━━━━━━━━━━━━━━━━━━━━━━━━━━━━┳━━━━━━━━━━━━━━━━━━━━━━━━━━━━┳━━━━━━━━━━━━━━━━━━━━━━━━━━━━━━━━━━━━━━━┳━━━━━━━━━━━━━━━━━━━━━━━━━━━━━━━━━━━━━━━━━━━━━━━━━━━━━━━┓\n",
       "┃<span style=\"color: #800080; text-decoration-color: #800080; font-weight: bold\"> #  </span>┃<span style=\"color: #800080; text-decoration-color: #800080; font-weight: bold\"> nb name                                                            </span>┃<span style=\"color: #800080; text-decoration-color: #800080; font-weight: bold\"> tracker                    </span>┃<span style=\"color: #800080; text-decoration-color: #800080; font-weight: bold\"> wandb features                        </span>┃<span style=\"color: #800080; text-decoration-color: #800080; font-weight: bold\"> python libs                                           </span>┃\n",
       "┡━━━━╇━━━━━━━━━━━━━━━━━━━━━━━━━━━━━━━━━━━━━━━━━━━━━━━━━━━━━━━━━━━━━━━━━━━━╇━━━━━━━━━━━━━━━━━━━━━━━━━━━━╇━━━━━━━━━━━━━━━━━━━━━━━━━━━━━━━━━━━━━━━╇━━━━━━━━━━━━━━━━━━━━━━━━━━━━━━━━━━━━━━━━━━━━━━━━━━━━━━━┩\n",
       "│ 1  │ colabs/Grouping_Feature.ipynb                                      │ <span style=\"color: #800000; text-decoration-color: #800000\">No Tracker</span>                 │                                       │                                                       │\n",
       "│ 2  │ colabs/keras/Keras_param_opti_using_sweeps.ipynb                   │ <span style=\"color: #008000; text-decoration-color: #008000\">sweeps-keras</span>               │ sweep, WandbCallback                  │ keras, tensorflow, numpy                              │\n",
       "│ 3  │ colabs/keras/Simple_Keras_Integration.ipynb                        │ <span style=\"color: #008000; text-decoration-color: #008000\">keras-video</span>                │ WandbCallback                         │ keras, tensorflow, pandas, numpy                      │\n",
       "│ 4  │ colabs/wandb-artifacts/Basic_Artifacts_with_W&amp;B.ipynb              │ <span style=\"color: #800000; text-decoration-color: #800000\">No Tracker</span>                 │ WandbCallback, Artifact               │ keras, tensorflow, sklearn, numpy                     │\n",
       "│ 5  │ colabs/wandb-artifacts/Pipeline_Versioning_with_W&amp;B_Artifacts.ipy… │ <span style=\"color: #008000; text-decoration-color: #008000\">artifacts-video</span>            │ WandbCallback, Artifact               │ keras, tensorflow, numpy                              │\n",
       "│ 6  │ colabs/wandb-artifacts/Pipeline_Versioning_with_W&amp;B_Artifacts_(Py… │ <span style=\"color: #800000; text-decoration-color: #800000\">No Tracker</span>                 │ Artifact                              │ torch                                                 │\n",
       "│ 7  │ colabs/wandb-artifacts/W&amp;B_artifacts_for_auditing_purposes.ipynb   │ <span style=\"color: #008000; text-decoration-color: #008000\">audit-artifacts-colab</span>      │ Artifact                              │ torch                                                 │\n",
       "│ 8  │ colabs/wandb-artifacts/Artifacts_Quickstart_with_W&amp;B.ipynb         │ <span style=\"color: #008000; text-decoration-color: #008000\">artifacts_quickstart</span>       │ WandbCallback, Artifact               │ keras, tensorflow, sklearn, numpy                     │\n",
       "│ 9  │ colabs/tables/Log_Tables_Incrementally.ipynb                       │ <span style=\"color: #800000; text-decoration-color: #800000\">No Tracker</span>                 │ Table, Artifact                       │                                                       │\n",
       "│ 10 │ colabs/tables/W&amp;B_Tables_Quickstart.ipynb                          │ <span style=\"color: #008000; text-decoration-color: #008000\">tables_quickstart</span>          │ Table                                 │ sklearn, pandas, numpy                                │\n",
       "│ 11 │ colabs/tables/AlphaFold_with_W&amp;B_Align,_Fold,_Log.ipynb            │ <span style=\"color: #008000; text-decoration-color: #008000\">alphafold</span>                  │ Table                                 │ jax, numpy                                            │\n",
       "│ 12 │ colabs/pycaret/Default_Credit_Prediction_Using_W&amp;B_Pycaret_FastAP… │ <span style=\"color: #800000; text-decoration-color: #800000\">No Tracker</span>                 │ Table, Artifact                       │ sklearn, pandas, numpy                                │\n",
       "│ 13 │ colabs/intro/Intro_to_Weights_&amp;_Biases.ipynb                       │ <span style=\"color: #008000; text-decoration-color: #008000\">intro-colab</span>                │ WandbCallback                         │ keras, tensorflow, numpy                              │\n",
       "│ 14 │ colabs/intro/3_in_1_Intro_to_Weights_&amp;_Biases_CV,_NLP_and_RL.ipynb │ <span style=\"color: #008000; text-decoration-color: #008000\">intro-colab-3-in-1</span>         │ Artifact                              │ torch, keras, tensorflow, pandas, numpy, transformers │\n",
       "│ 15 │ colabs/dsviz/W&amp;B_Dataset_and_Predictions_Viz_Demo.ipynb            │ <span style=\"color: #800000; text-decoration-color: #800000\">No Tracker</span>                 │ Table, sweep, WandbCallback, Artifact │ numpy, fastai                                         │\n",
       "│ 16 │ colabs/raytune/W&amp;B_+_RayTune.ipynb                                 │ <span style=\"color: #800000; text-decoration-color: #800000\">No Tracker</span>                 │ WandbLogger                           │ torch, numpy                                          │\n",
       "│ 17 │ colabs/datasets-predictions/Visualize_Model_Predictions_over_Time… │ <span style=\"color: #800000; text-decoration-color: #800000\">No Tracker</span>                 │ Table, Artifact                       │ torch, numpy                                          │\n",
       "│ 18 │ colabs/datasets-predictions/Logging_Timbre_Transfer_with_W&amp;B.ipynb │ <span style=\"color: #008000; text-decoration-color: #008000\">tables_whalesong</span>           │ Table                                 │ tensorflow, numpy                                     │\n",
       "│ 19 │ colabs/datasets-predictions/W&amp;B_Tables_Quickstart.ipynb            │ <span style=\"color: #008000; text-decoration-color: #008000\">tables_quickstart</span>          │ Table                                 │ torch, numpy                                          │\n",
       "│ 20 │ colabs/datasets-predictions/W&amp;B_Dataset_Visualization.ipynb        │ <span style=\"color: #800000; text-decoration-color: #800000\">No Tracker</span>                 │ Table, Artifact                       │ numpy                                                 │\n",
       "│ 21 │ colabs/datasets-predictions/Image_Classification_with_Tables.ipynb │ <span style=\"color: #008000; text-decoration-color: #008000\">tables_mendeleev</span>           │ Table, WandbCallback, Artifact        │ keras, tensorflow, numpy                              │\n",
       "│ 22 │ colabs/fastai/Weights_&amp;_Biases_with_fastai.ipynb                   │ <span style=\"color: #800000; text-decoration-color: #800000\">No Tracker</span>                 │ WandbCallback                         │ fastai                                                │\n",
       "│ 23 │ colabs/deepchem/W&amp;B_x_DeepChem.ipynb                               │ <span style=\"color: #008000; text-decoration-color: #008000\">deepchem</span>                   │ Table, WandbLogger                    │ keras, tensorflow, numpy, transformers                │\n",
       "│ 24 │ colabs/tensorflow/Hyperparameter_Optimization_in_TensorFlow_using… │ <span style=\"color: #008000; text-decoration-color: #008000\">tf-sweeps</span>                  │ sweep, WandbCallback                  │ keras, tensorflow, pandas, numpy                      │\n",
       "│ 25 │ colabs/tensorflow/Simple_TensorFlow_Integration.ipynb              │ <span style=\"color: #008000; text-decoration-color: #008000\">simple-tensorflow</span>          │ WandbCallback                         │ keras, tensorflow, pandas, numpy                      │\n",
       "│ 26 │ colabs/boosting/Credit_Scorecards_with_XGBoost_and_W&amp;B.ipynb       │ <span style=\"color: #008000; text-decoration-color: #008000\">xgboost-credit-scorecard</span>   │ Table, sweep, Artifact                │ sklearn, pandas, numpy                                │\n",
       "│ 27 │ colabs/boosting/Simple_LightGBM_Integration.ipynb                  │ <span style=\"color: #800000; text-decoration-color: #800000\">No Tracker</span>                 │                                       │ sklearn, pandas                                       │\n",
       "│ 28 │ colabs/boosting/Using_W&amp;B_Sweeps_with_XGBoost.ipynb                │ <span style=\"color: #008000; text-decoration-color: #008000\">xgb-sweeps</span>                 │ sweep                                 │ sklearn, numpy                                        │\n",
       "│ 29 │ colabs/simpletransformers/SimpleTransformersQA.ipynb               │ <span style=\"color: #008000; text-decoration-color: #008000\">simpletransformers-QA</span>      │ Table, Artifact                       │ pandas, transformers                                  │\n",
       "│ 30 │ colabs/pytorch-lightning/Optimize_Pytorch_Lightning_models_with_W… │ <span style=\"color: #008000; text-decoration-color: #008000\">lit_colab_boris</span>            │ Table, sweep, WandbLogger             │ torch, lightning                                      │\n",
       "│ 31 │ colabs/pytorch-lightning/Profile_PyTorch_Code.ipynb                │ <span style=\"color: #008000; text-decoration-color: #008000\">trace-colab</span>                │ WandbLogger, Artifact                 │ torch, lightning                                      │\n",
       "│ 32 │ colabs/pytorch-lightning/Fine_tuning_a_Transformer_with_Pytorch_L… │ <span style=\"color: #008000; text-decoration-color: #008000\">lightning_hf</span>               │ Table, sweep, WandbLogger, Artifact   │ torch, pandas, numpy, transformers, lightning         │\n",
       "│ 33 │ colabs/pytorch-lightning/Supercharge_your_Training_with_Pytorch_L… │ <span style=\"color: #008000; text-decoration-color: #008000\">lit_colab</span>                  │ WandbLogger                           │ torch, numpy, lightning                               │\n",
       "│ 34 │ colabs/huggingface/Optimize_Hugging_Face_models_with_Weights_&amp;_Bi… │ <span style=\"color: #008000; text-decoration-color: #008000\">huggingface_optimize_wandb</span> │                                       │ torch, numpy, transformers                            │\n",
       "│ 35 │ colabs/huggingface/Visualize_your_Hugging_Face_data_with_Weights_… │ <span style=\"color: #008000; text-decoration-color: #008000\">huggingface_tables</span>         │                                       │ torch, numpy, transformers                            │\n",
       "│ 36 │ colabs/huggingface/Hugging_Face_+_W&amp;B.ipynb                        │ <span style=\"color: #008000; text-decoration-color: #008000\">huggingface_wandb</span>          │                                       │ torch, transformers                                   │\n",
       "│ 37 │ colabs/wandb-log/Log_(Almost)_Anything_with_W&amp;B_Media.ipynb        │ <span style=\"color: #008000; text-decoration-color: #008000\">media-video</span>                │ Table                                 │ pandas, numpy                                         │\n",
       "│ 38 │ colabs/wandb-log/Plot_Precision_Recall_Curves_with_W&amp;B.ipynb       │ <span style=\"color: #800000; text-decoration-color: #800000\">No Tracker</span>                 │ WandbCallback                         │ keras, tensorflow, sklearn, numpy                     │\n",
       "│ 39 │ colabs/wandb-log/Configs_in_W&amp;B.ipynb                              │ <span style=\"color: #800000; text-decoration-color: #800000\">No Tracker</span>                 │                                       │                                                       │\n",
       "│ 40 │ colabs/wandb-log/Log_a_Confusion_Matrix_with_W&amp;B.ipynb             │ <span style=\"color: #008000; text-decoration-color: #008000\">confusion_matrix</span>           │ WandbCallback                         │ keras, tensorflow, sklearn, numpy                     │\n",
       "│ 41 │ colabs/wandb-log/Plot_ROC_Curves_with_W&amp;B.ipynb                    │ <span style=\"color: #800000; text-decoration-color: #800000\">No Tracker</span>                 │ WandbCallback                         │ keras, tensorflow, sklearn, numpy                     │\n",
       "│ 42 │ colabs/wandb-log/Saving_Code_with_W&amp;B.ipynb                        │ <span style=\"color: #800000; text-decoration-color: #800000\">No Tracker</span>                 │                                       │                                                       │\n",
       "│ 43 │ colabs/wandb-log/Logging_Strategies_for_High_Frequency_Data.ipynb  │ <span style=\"color: #800000; text-decoration-color: #800000\">No Tracker</span>                 │                                       │                                                       │\n",
       "│ 44 │ colabs/wandb-log/Customize_metric_logging_with_define_metric.ipynb │ <span style=\"color: #008000; text-decoration-color: #008000\">define_metric</span>              │                                       │                                                       │\n",
       "│ 45 │ colabs/spacy/spaCy_v3_and_W&amp;B_Sweeps.ipynb                         │ <span style=\"color: #008000; text-decoration-color: #008000\">spacy-sweeps</span>               │                                       │ spacy                                                 │\n",
       "│ 46 │ colabs/spacy/SpaCy_v3_and_W&amp;B.ipynb                                │ <span style=\"color: #008000; text-decoration-color: #008000\">spacy-v3</span>                   │ Artifact                              │ spacy                                                 │\n",
       "│ 47 │ colabs/rdkit/wb_rdkit.ipynb                                        │ <span style=\"color: #008000; text-decoration-color: #008000\">rdkit_molecules</span>            │ Table                                 │ pandas                                                │\n",
       "│ 48 │ colabs/pytorch/Simple_PyTorch_Integration.ipynb                    │ <span style=\"color: #008000; text-decoration-color: #008000\">pytorch-video</span>              │                                       │ torch, numpy                                          │\n",
       "│ 49 │ colabs/pytorch/Organizing_Hyperparameter_Sweeps_in_PyTorch_with_W… │ <span style=\"color: #008000; text-decoration-color: #008000\">sweeps-video</span>               │ sweep                                 │ torch                                                 │\n",
       "│ 50 │ colabs/pytorch/How_does_adding_dropout_affect_model_performance?.… │ <span style=\"color: #008000; text-decoration-color: #008000\">pytorch-dropout</span>            │                                       │ torch, numpy                                          │\n",
       "│ 51 │ colabs/yolo/Train_and_Debug_YOLOv5_Models_with_Weights_&amp;_Biases.i… │ <span style=\"color: #800000; text-decoration-color: #800000\">No Tracker</span>                 │                                       │ yolo                                                  │\n",
       "│ 52 │ colabs/yolo/Logging_YOLOv5_Experiments_with_W&amp;B.ipynb              │ <span style=\"color: #800000; text-decoration-color: #800000\">No Tracker</span>                 │                                       │ torch, yolo                                           │\n",
       "│ 53 │ colabs/scikit/Simple_Scikit_Integration.ipynb                      │ <span style=\"color: #008000; text-decoration-color: #008000\">simple-sklearn</span>             │                                       │ sklearn, pandas, numpy                                │\n",
       "│ 54 │ colabs/scikit/w-b-k-means-clustering.ipynb                         │ <span style=\"color: #800000; text-decoration-color: #800000\">No Tracker</span>                 │                                       │ sklearn, numpy                                        │\n",
       "│ 55 │ colabs/stable_baselines3/Stable Baselines 3 - Track Experiments    │ <span style=\"color: #008000; text-decoration-color: #008000\">sb3-integration</span>            │ WandbCallback                         │                                                       │\n",
       "│    │ with Weights and Biases.ipynb                                      │                            │                                       │                                                       │\n",
       "│ 56 │ colabs/jupyter/Interactive_W&amp;B_Charts_Inside_Jupyter.ipynb         │ <span style=\"color: #800000; text-decoration-color: #800000\">No Tracker</span>                 │ sweep                                 │ yolo                                                  │\n",
       "│ 57 │ examples/keras/keras-tensorflow2/TensorFlow_2_0_+_Keras_Crash_Cou… │ <span style=\"color: #800000; text-decoration-color: #800000\">No Tracker</span>                 │ WandbCallback                         │ keras, tensorflow, numpy                              │\n",
       "│ 58 │ examples/wandb-sweeps/sweeps-python/notebook.ipynb                 │ <span style=\"color: #800000; text-decoration-color: #800000\">No Tracker</span>                 │ sweep                                 │ keras, tensorflow, numpy                              │\n",
       "│ 59 │ examples/pytorch/pytorch-cifar10-sagemaker/train.ipynb             │ <span style=\"color: #800000; text-decoration-color: #800000\">No Tracker</span>                 │ sweep                                 │ torch                                                 │\n",
       "│ 60 │ examples/pytorch/pytorch-intro/intro.ipynb                         │ <span style=\"color: #800000; text-decoration-color: #800000\">No Tracker</span>                 │                                       │ torch, numpy                                          │\n",
       "│ 61 │ examples/pytorch/pytorch-mnist-sagemaker/pytorch_mnist.ipynb       │ <span style=\"color: #800000; text-decoration-color: #800000\">No Tracker</span>                 │                                       │ torch                                                 │\n",
       "│ 62 │ examples/sagemaker/text_classification/text_classification.ipynb   │ <span style=\"color: #008000; text-decoration-color: #008000\">sagemaker-hf</span>               │ Table, Artifact                       │ torch, transformers                                   │\n",
       "│ 63 │ src/wandb/tests/notebooks/setup.ipynb                              │ <span style=\"color: #800000; text-decoration-color: #800000\">No Tracker</span>                 │                                       │                                                       │\n",
       "│ 64 │ src/wandb/tests/notebooks/one_cell.ipynb                           │ <span style=\"color: #800000; text-decoration-color: #800000\">No Tracker</span>                 │                                       │                                                       │\n",
       "│ 65 │ src/wandb/tests/notebooks/code_saving.ipynb                        │ <span style=\"color: #800000; text-decoration-color: #800000\">No Tracker</span>                 │                                       │                                                       │\n",
       "│ 66 │ src/wandb/tests/notebooks/magic.ipynb                              │ <span style=\"color: #800000; text-decoration-color: #800000\">No Tracker</span>                 │                                       │                                                       │\n",
       "│ 67 │ src/wandb/standalone_tests/jupyter_test.ipynb                      │ <span style=\"color: #800000; text-decoration-color: #800000\">No Tracker</span>                 │                                       │                                                       │\n",
       "└────┴────────────────────────────────────────────────────────────────────┴────────────────────────────┴───────────────────────────────────────┴───────────────────────────────────────────────────────┘\n",
       "</pre>\n"
      ],
      "text/plain": [
       "┏━━━━┳━━━━━━━━━━━━━━━━━━━━━━━━━━━━━━━━━━━━━━━━━━━━━━━━━━━━━━━━━━━━━━━━━━━━┳━━━━━━━━━━━━━━━━━━━━━━━━━━━━┳━━━━━━━━━━━━━━━━━━━━━━━━━━━━━━━━━━━━━━━┳━━━━━━━━━━━━━━━━━━━━━━━━━━━━━━━━━━━━━━━━━━━━━━━━━━━━━━━┓\n",
       "┃\u001b[1;35m \u001b[0m\u001b[1;35m# \u001b[0m\u001b[1;35m \u001b[0m┃\u001b[1;35m \u001b[0m\u001b[1;35mnb name                                                           \u001b[0m\u001b[1;35m \u001b[0m┃\u001b[1;35m \u001b[0m\u001b[1;35mtracker                   \u001b[0m\u001b[1;35m \u001b[0m┃\u001b[1;35m \u001b[0m\u001b[1;35mwandb features                       \u001b[0m\u001b[1;35m \u001b[0m┃\u001b[1;35m \u001b[0m\u001b[1;35mpython libs                                          \u001b[0m\u001b[1;35m \u001b[0m┃\n",
       "┡━━━━╇━━━━━━━━━━━━━━━━━━━━━━━━━━━━━━━━━━━━━━━━━━━━━━━━━━━━━━━━━━━━━━━━━━━━╇━━━━━━━━━━━━━━━━━━━━━━━━━━━━╇━━━━━━━━━━━━━━━━━━━━━━━━━━━━━━━━━━━━━━━╇━━━━━━━━━━━━━━━━━━━━━━━━━━━━━━━━━━━━━━━━━━━━━━━━━━━━━━━┩\n",
       "│ 1  │ colabs/Grouping_Feature.ipynb                                      │ \u001b[31mNo Tracker\u001b[0m                 │                                       │                                                       │\n",
       "│ 2  │ colabs/keras/Keras_param_opti_using_sweeps.ipynb                   │ \u001b[32msweeps-keras\u001b[0m               │ sweep, WandbCallback                  │ keras, tensorflow, numpy                              │\n",
       "│ 3  │ colabs/keras/Simple_Keras_Integration.ipynb                        │ \u001b[32mkeras-video\u001b[0m                │ WandbCallback                         │ keras, tensorflow, pandas, numpy                      │\n",
       "│ 4  │ colabs/wandb-artifacts/Basic_Artifacts_with_W&B.ipynb              │ \u001b[31mNo Tracker\u001b[0m                 │ WandbCallback, Artifact               │ keras, tensorflow, sklearn, numpy                     │\n",
       "│ 5  │ colabs/wandb-artifacts/Pipeline_Versioning_with_W&B_Artifacts.ipy… │ \u001b[32martifacts-video\u001b[0m            │ WandbCallback, Artifact               │ keras, tensorflow, numpy                              │\n",
       "│ 6  │ colabs/wandb-artifacts/Pipeline_Versioning_with_W&B_Artifacts_(Py… │ \u001b[31mNo Tracker\u001b[0m                 │ Artifact                              │ torch                                                 │\n",
       "│ 7  │ colabs/wandb-artifacts/W&B_artifacts_for_auditing_purposes.ipynb   │ \u001b[32maudit-artifacts-colab\u001b[0m      │ Artifact                              │ torch                                                 │\n",
       "│ 8  │ colabs/wandb-artifacts/Artifacts_Quickstart_with_W&B.ipynb         │ \u001b[32martifacts_quickstart\u001b[0m       │ WandbCallback, Artifact               │ keras, tensorflow, sklearn, numpy                     │\n",
       "│ 9  │ colabs/tables/Log_Tables_Incrementally.ipynb                       │ \u001b[31mNo Tracker\u001b[0m                 │ Table, Artifact                       │                                                       │\n",
       "│ 10 │ colabs/tables/W&B_Tables_Quickstart.ipynb                          │ \u001b[32mtables_quickstart\u001b[0m          │ Table                                 │ sklearn, pandas, numpy                                │\n",
       "│ 11 │ colabs/tables/AlphaFold_with_W&B_Align,_Fold,_Log.ipynb            │ \u001b[32malphafold\u001b[0m                  │ Table                                 │ jax, numpy                                            │\n",
       "│ 12 │ colabs/pycaret/Default_Credit_Prediction_Using_W&B_Pycaret_FastAP… │ \u001b[31mNo Tracker\u001b[0m                 │ Table, Artifact                       │ sklearn, pandas, numpy                                │\n",
       "│ 13 │ colabs/intro/Intro_to_Weights_&_Biases.ipynb                       │ \u001b[32mintro-colab\u001b[0m                │ WandbCallback                         │ keras, tensorflow, numpy                              │\n",
       "│ 14 │ colabs/intro/3_in_1_Intro_to_Weights_&_Biases_CV,_NLP_and_RL.ipynb │ \u001b[32mintro-colab-3-in-1\u001b[0m         │ Artifact                              │ torch, keras, tensorflow, pandas, numpy, transformers │\n",
       "│ 15 │ colabs/dsviz/W&B_Dataset_and_Predictions_Viz_Demo.ipynb            │ \u001b[31mNo Tracker\u001b[0m                 │ Table, sweep, WandbCallback, Artifact │ numpy, fastai                                         │\n",
       "│ 16 │ colabs/raytune/W&B_+_RayTune.ipynb                                 │ \u001b[31mNo Tracker\u001b[0m                 │ WandbLogger                           │ torch, numpy                                          │\n",
       "│ 17 │ colabs/datasets-predictions/Visualize_Model_Predictions_over_Time… │ \u001b[31mNo Tracker\u001b[0m                 │ Table, Artifact                       │ torch, numpy                                          │\n",
       "│ 18 │ colabs/datasets-predictions/Logging_Timbre_Transfer_with_W&B.ipynb │ \u001b[32mtables_whalesong\u001b[0m           │ Table                                 │ tensorflow, numpy                                     │\n",
       "│ 19 │ colabs/datasets-predictions/W&B_Tables_Quickstart.ipynb            │ \u001b[32mtables_quickstart\u001b[0m          │ Table                                 │ torch, numpy                                          │\n",
       "│ 20 │ colabs/datasets-predictions/W&B_Dataset_Visualization.ipynb        │ \u001b[31mNo Tracker\u001b[0m                 │ Table, Artifact                       │ numpy                                                 │\n",
       "│ 21 │ colabs/datasets-predictions/Image_Classification_with_Tables.ipynb │ \u001b[32mtables_mendeleev\u001b[0m           │ Table, WandbCallback, Artifact        │ keras, tensorflow, numpy                              │\n",
       "│ 22 │ colabs/fastai/Weights_&_Biases_with_fastai.ipynb                   │ \u001b[31mNo Tracker\u001b[0m                 │ WandbCallback                         │ fastai                                                │\n",
       "│ 23 │ colabs/deepchem/W&B_x_DeepChem.ipynb                               │ \u001b[32mdeepchem\u001b[0m                   │ Table, WandbLogger                    │ keras, tensorflow, numpy, transformers                │\n",
       "│ 24 │ colabs/tensorflow/Hyperparameter_Optimization_in_TensorFlow_using… │ \u001b[32mtf-sweeps\u001b[0m                  │ sweep, WandbCallback                  │ keras, tensorflow, pandas, numpy                      │\n",
       "│ 25 │ colabs/tensorflow/Simple_TensorFlow_Integration.ipynb              │ \u001b[32msimple-tensorflow\u001b[0m          │ WandbCallback                         │ keras, tensorflow, pandas, numpy                      │\n",
       "│ 26 │ colabs/boosting/Credit_Scorecards_with_XGBoost_and_W&B.ipynb       │ \u001b[32mxgboost-credit-scorecard\u001b[0m   │ Table, sweep, Artifact                │ sklearn, pandas, numpy                                │\n",
       "│ 27 │ colabs/boosting/Simple_LightGBM_Integration.ipynb                  │ \u001b[31mNo Tracker\u001b[0m                 │                                       │ sklearn, pandas                                       │\n",
       "│ 28 │ colabs/boosting/Using_W&B_Sweeps_with_XGBoost.ipynb                │ \u001b[32mxgb-sweeps\u001b[0m                 │ sweep                                 │ sklearn, numpy                                        │\n",
       "│ 29 │ colabs/simpletransformers/SimpleTransformersQA.ipynb               │ \u001b[32msimpletransformers-QA\u001b[0m      │ Table, Artifact                       │ pandas, transformers                                  │\n",
       "│ 30 │ colabs/pytorch-lightning/Optimize_Pytorch_Lightning_models_with_W… │ \u001b[32mlit_colab_boris\u001b[0m            │ Table, sweep, WandbLogger             │ torch, lightning                                      │\n",
       "│ 31 │ colabs/pytorch-lightning/Profile_PyTorch_Code.ipynb                │ \u001b[32mtrace-colab\u001b[0m                │ WandbLogger, Artifact                 │ torch, lightning                                      │\n",
       "│ 32 │ colabs/pytorch-lightning/Fine_tuning_a_Transformer_with_Pytorch_L… │ \u001b[32mlightning_hf\u001b[0m               │ Table, sweep, WandbLogger, Artifact   │ torch, pandas, numpy, transformers, lightning         │\n",
       "│ 33 │ colabs/pytorch-lightning/Supercharge_your_Training_with_Pytorch_L… │ \u001b[32mlit_colab\u001b[0m                  │ WandbLogger                           │ torch, numpy, lightning                               │\n",
       "│ 34 │ colabs/huggingface/Optimize_Hugging_Face_models_with_Weights_&_Bi… │ \u001b[32mhuggingface_optimize_wandb\u001b[0m │                                       │ torch, numpy, transformers                            │\n",
       "│ 35 │ colabs/huggingface/Visualize_your_Hugging_Face_data_with_Weights_… │ \u001b[32mhuggingface_tables\u001b[0m         │                                       │ torch, numpy, transformers                            │\n",
       "│ 36 │ colabs/huggingface/Hugging_Face_+_W&B.ipynb                        │ \u001b[32mhuggingface_wandb\u001b[0m          │                                       │ torch, transformers                                   │\n",
       "│ 37 │ colabs/wandb-log/Log_(Almost)_Anything_with_W&B_Media.ipynb        │ \u001b[32mmedia-video\u001b[0m                │ Table                                 │ pandas, numpy                                         │\n",
       "│ 38 │ colabs/wandb-log/Plot_Precision_Recall_Curves_with_W&B.ipynb       │ \u001b[31mNo Tracker\u001b[0m                 │ WandbCallback                         │ keras, tensorflow, sklearn, numpy                     │\n",
       "│ 39 │ colabs/wandb-log/Configs_in_W&B.ipynb                              │ \u001b[31mNo Tracker\u001b[0m                 │                                       │                                                       │\n",
       "│ 40 │ colabs/wandb-log/Log_a_Confusion_Matrix_with_W&B.ipynb             │ \u001b[32mconfusion_matrix\u001b[0m           │ WandbCallback                         │ keras, tensorflow, sklearn, numpy                     │\n",
       "│ 41 │ colabs/wandb-log/Plot_ROC_Curves_with_W&B.ipynb                    │ \u001b[31mNo Tracker\u001b[0m                 │ WandbCallback                         │ keras, tensorflow, sklearn, numpy                     │\n",
       "│ 42 │ colabs/wandb-log/Saving_Code_with_W&B.ipynb                        │ \u001b[31mNo Tracker\u001b[0m                 │                                       │                                                       │\n",
       "│ 43 │ colabs/wandb-log/Logging_Strategies_for_High_Frequency_Data.ipynb  │ \u001b[31mNo Tracker\u001b[0m                 │                                       │                                                       │\n",
       "│ 44 │ colabs/wandb-log/Customize_metric_logging_with_define_metric.ipynb │ \u001b[32mdefine_metric\u001b[0m              │                                       │                                                       │\n",
       "│ 45 │ colabs/spacy/spaCy_v3_and_W&B_Sweeps.ipynb                         │ \u001b[32mspacy-sweeps\u001b[0m               │                                       │ spacy                                                 │\n",
       "│ 46 │ colabs/spacy/SpaCy_v3_and_W&B.ipynb                                │ \u001b[32mspacy-v3\u001b[0m                   │ Artifact                              │ spacy                                                 │\n",
       "│ 47 │ colabs/rdkit/wb_rdkit.ipynb                                        │ \u001b[32mrdkit_molecules\u001b[0m            │ Table                                 │ pandas                                                │\n",
       "│ 48 │ colabs/pytorch/Simple_PyTorch_Integration.ipynb                    │ \u001b[32mpytorch-video\u001b[0m              │                                       │ torch, numpy                                          │\n",
       "│ 49 │ colabs/pytorch/Organizing_Hyperparameter_Sweeps_in_PyTorch_with_W… │ \u001b[32msweeps-video\u001b[0m               │ sweep                                 │ torch                                                 │\n",
       "│ 50 │ colabs/pytorch/How_does_adding_dropout_affect_model_performance?.… │ \u001b[32mpytorch-dropout\u001b[0m            │                                       │ torch, numpy                                          │\n",
       "│ 51 │ colabs/yolo/Train_and_Debug_YOLOv5_Models_with_Weights_&_Biases.i… │ \u001b[31mNo Tracker\u001b[0m                 │                                       │ yolo                                                  │\n",
       "│ 52 │ colabs/yolo/Logging_YOLOv5_Experiments_with_W&B.ipynb              │ \u001b[31mNo Tracker\u001b[0m                 │                                       │ torch, yolo                                           │\n",
       "│ 53 │ colabs/scikit/Simple_Scikit_Integration.ipynb                      │ \u001b[32msimple-sklearn\u001b[0m             │                                       │ sklearn, pandas, numpy                                │\n",
       "│ 54 │ colabs/scikit/w-b-k-means-clustering.ipynb                         │ \u001b[31mNo Tracker\u001b[0m                 │                                       │ sklearn, numpy                                        │\n",
       "│ 55 │ colabs/stable_baselines3/Stable Baselines 3 - Track Experiments    │ \u001b[32msb3-integration\u001b[0m            │ WandbCallback                         │                                                       │\n",
       "│    │ with Weights and Biases.ipynb                                      │                            │                                       │                                                       │\n",
       "│ 56 │ colabs/jupyter/Interactive_W&B_Charts_Inside_Jupyter.ipynb         │ \u001b[31mNo Tracker\u001b[0m                 │ sweep                                 │ yolo                                                  │\n",
       "│ 57 │ examples/keras/keras-tensorflow2/TensorFlow_2_0_+_Keras_Crash_Cou… │ \u001b[31mNo Tracker\u001b[0m                 │ WandbCallback                         │ keras, tensorflow, numpy                              │\n",
       "│ 58 │ examples/wandb-sweeps/sweeps-python/notebook.ipynb                 │ \u001b[31mNo Tracker\u001b[0m                 │ sweep                                 │ keras, tensorflow, numpy                              │\n",
       "│ 59 │ examples/pytorch/pytorch-cifar10-sagemaker/train.ipynb             │ \u001b[31mNo Tracker\u001b[0m                 │ sweep                                 │ torch                                                 │\n",
       "│ 60 │ examples/pytorch/pytorch-intro/intro.ipynb                         │ \u001b[31mNo Tracker\u001b[0m                 │                                       │ torch, numpy                                          │\n",
       "│ 61 │ examples/pytorch/pytorch-mnist-sagemaker/pytorch_mnist.ipynb       │ \u001b[31mNo Tracker\u001b[0m                 │                                       │ torch                                                 │\n",
       "│ 62 │ examples/sagemaker/text_classification/text_classification.ipynb   │ \u001b[32msagemaker-hf\u001b[0m               │ Table, Artifact                       │ torch, transformers                                   │\n",
       "│ 63 │ src/wandb/tests/notebooks/setup.ipynb                              │ \u001b[31mNo Tracker\u001b[0m                 │                                       │                                                       │\n",
       "│ 64 │ src/wandb/tests/notebooks/one_cell.ipynb                           │ \u001b[31mNo Tracker\u001b[0m                 │                                       │                                                       │\n",
       "│ 65 │ src/wandb/tests/notebooks/code_saving.ipynb                        │ \u001b[31mNo Tracker\u001b[0m                 │                                       │                                                       │\n",
       "│ 66 │ src/wandb/tests/notebooks/magic.ipynb                              │ \u001b[31mNo Tracker\u001b[0m                 │                                       │                                                       │\n",
       "│ 67 │ src/wandb/standalone_tests/jupyter_test.ipynb                      │ \u001b[31mNo Tracker\u001b[0m                 │                                       │                                                       │\n",
       "└────┴────────────────────────────────────────────────────────────────────┴────────────────────────────┴───────────────────────────────────────┴───────────────────────────────────────────────────────┘\n"
      ]
     },
     "metadata": {},
     "output_type": "display_data"
    }
   ],
   "source": [
    "console.print(table)"
   ]
  },
  {
   "cell_type": "code",
   "execution_count": 35,
   "metadata": {},
   "outputs": [
    {
     "data": {
      "text/html": [
       "<pre style=\"white-space:pre;overflow-x:auto;line-height:normal;font-family:Menlo,'DejaVu Sans Mono',consolas,'Courier New',monospace\">┏━━━━┳━━━━━━━━━━━━━━━━━━━━━┳━━━━━━━━━━━━━━━━━━━━━┳━━━━━━━━━━━━━━━━━━━━┳━━━━━━━━━━━━━━━━━━━━━┓\n",
       "┃<span style=\"color: #800080; text-decoration-color: #800080; font-weight: bold\"> #  </span>┃<span style=\"color: #800080; text-decoration-color: #800080; font-weight: bold\"> nb name             </span>┃<span style=\"color: #800080; text-decoration-color: #800080; font-weight: bold\"> tracker             </span>┃<span style=\"color: #800080; text-decoration-color: #800080; font-weight: bold\"> wandb features     </span>┃<span style=\"color: #800080; text-decoration-color: #800080; font-weight: bold\"> python libs         </span>┃\n",
       "┡━━━━╇━━━━━━━━━━━━━━━━━━━━━╇━━━━━━━━━━━━━━━━━━━━━╇━━━━━━━━━━━━━━━━━━━━╇━━━━━━━━━━━━━━━━━━━━━┩\n",
       "│ 1  │ colabs/Grouping_Fe… │ <span style=\"color: #800000; text-decoration-color: #800000\">No Tracker</span>          │                    │                     │\n",
       "│ 2  │ colabs/keras/Keras… │ <span style=\"color: #008000; text-decoration-color: #008000\">sweeps-keras</span>        │ sweep,             │ keras, tensorflow,  │\n",
       "│    │                     │                     │ WandbCallback      │ numpy               │\n",
       "│ 3  │ colabs/keras/Simpl… │ <span style=\"color: #008000; text-decoration-color: #008000\">keras-video</span>         │ WandbCallback      │ keras, tensorflow,  │\n",
       "│    │                     │                     │                    │ pandas, numpy       │\n",
       "│ 4  │ colabs/wandb-artif… │ <span style=\"color: #800000; text-decoration-color: #800000\">No Tracker</span>          │ WandbCallback,     │ keras, tensorflow,  │\n",
       "│    │                     │                     │ Artifact           │ sklearn, numpy      │\n",
       "│ 5  │ colabs/wandb-artif… │ <span style=\"color: #008000; text-decoration-color: #008000\">artifacts-video</span>     │ WandbCallback,     │ keras, tensorflow,  │\n",
       "│    │                     │                     │ Artifact           │ numpy               │\n",
       "│ 6  │ colabs/wandb-artif… │ <span style=\"color: #800000; text-decoration-color: #800000\">No Tracker</span>          │ Artifact           │ torch               │\n",
       "│ 7  │ colabs/wandb-artif… │ <span style=\"color: #008000; text-decoration-color: #008000\">audit-artifacts-co…</span> │ Artifact           │ torch               │\n",
       "│ 8  │ colabs/wandb-artif… │ <span style=\"color: #008000; text-decoration-color: #008000\">artifacts_quicksta…</span> │ WandbCallback,     │ keras, tensorflow,  │\n",
       "│    │                     │                     │ Artifact           │ sklearn, numpy      │\n",
       "│ 9  │ colabs/tables/Log_… │ <span style=\"color: #800000; text-decoration-color: #800000\">No Tracker</span>          │ Table, Artifact    │                     │\n",
       "│ 10 │ colabs/tables/W&amp;B_… │ <span style=\"color: #008000; text-decoration-color: #008000\">tables_quickstart</span>   │ Table              │ sklearn, pandas,    │\n",
       "│    │                     │                     │                    │ numpy               │\n",
       "│ 11 │ colabs/tables/Alph… │ <span style=\"color: #008000; text-decoration-color: #008000\">alphafold</span>           │ Table              │ jax, numpy          │\n",
       "│ 12 │ colabs/pycaret/Def… │ <span style=\"color: #800000; text-decoration-color: #800000\">No Tracker</span>          │ Table, Artifact    │ sklearn, pandas,    │\n",
       "│    │                     │                     │                    │ numpy               │\n",
       "│ 13 │ colabs/intro/Intro… │ <span style=\"color: #008000; text-decoration-color: #008000\">intro-colab</span>         │ WandbCallback      │ keras, tensorflow,  │\n",
       "│    │                     │                     │                    │ numpy               │\n",
       "│ 14 │ colabs/intro/3_in_… │ <span style=\"color: #008000; text-decoration-color: #008000\">intro-colab-3-in-1</span>  │ Artifact           │ torch, keras,       │\n",
       "│    │                     │                     │                    │ tensorflow, pandas, │\n",
       "│    │                     │                     │                    │ numpy, transformers │\n",
       "│ 15 │ colabs/dsviz/W&amp;B_D… │ <span style=\"color: #800000; text-decoration-color: #800000\">No Tracker</span>          │ Table, sweep,      │ numpy, fastai       │\n",
       "│    │                     │                     │ WandbCallback,     │                     │\n",
       "│    │                     │                     │ Artifact           │                     │\n",
       "│ 16 │ colabs/raytune/W&amp;B… │ <span style=\"color: #800000; text-decoration-color: #800000\">No Tracker</span>          │ WandbLogger        │ torch, numpy        │\n",
       "│ 17 │ colabs/datasets-pr… │ <span style=\"color: #800000; text-decoration-color: #800000\">No Tracker</span>          │ Table, Artifact    │ torch, numpy        │\n",
       "│ 18 │ colabs/datasets-pr… │ <span style=\"color: #008000; text-decoration-color: #008000\">tables_whalesong</span>    │ Table              │ tensorflow, numpy   │\n",
       "│ 19 │ colabs/datasets-pr… │ <span style=\"color: #008000; text-decoration-color: #008000\">tables_quickstart</span>   │ Table              │ torch, numpy        │\n",
       "│ 20 │ colabs/datasets-pr… │ <span style=\"color: #800000; text-decoration-color: #800000\">No Tracker</span>          │ Table, Artifact    │ numpy               │\n",
       "│ 21 │ colabs/datasets-pr… │ <span style=\"color: #008000; text-decoration-color: #008000\">tables_mendeleev</span>    │ Table,             │ keras, tensorflow,  │\n",
       "│    │                     │                     │ WandbCallback,     │ numpy               │\n",
       "│    │                     │                     │ Artifact           │                     │\n",
       "│ 22 │ colabs/fastai/Weig… │ <span style=\"color: #800000; text-decoration-color: #800000\">No Tracker</span>          │ WandbCallback      │ fastai              │\n",
       "│ 23 │ colabs/deepchem/W&amp;… │ <span style=\"color: #008000; text-decoration-color: #008000\">deepchem</span>            │ Table, WandbLogger │ keras, tensorflow,  │\n",
       "│    │                     │                     │                    │ numpy, transformers │\n",
       "│ 24 │ colabs/tensorflow/… │ <span style=\"color: #008000; text-decoration-color: #008000\">tf-sweeps</span>           │ sweep,             │ keras, tensorflow,  │\n",
       "│    │                     │                     │ WandbCallback      │ pandas, numpy       │\n",
       "│ 25 │ colabs/tensorflow/… │ <span style=\"color: #008000; text-decoration-color: #008000\">simple-tensorflow</span>   │ WandbCallback      │ keras, tensorflow,  │\n",
       "│    │                     │                     │                    │ pandas, numpy       │\n",
       "│ 26 │ colabs/boosting/Cr… │ <span style=\"color: #008000; text-decoration-color: #008000\">xgboost-credit-sco…</span> │ Table, sweep,      │ sklearn, pandas,    │\n",
       "│    │                     │                     │ Artifact           │ numpy               │\n",
       "│ 27 │ colabs/boosting/Si… │ <span style=\"color: #800000; text-decoration-color: #800000\">No Tracker</span>          │                    │ sklearn, pandas     │\n",
       "│ 28 │ colabs/boosting/Us… │ <span style=\"color: #008000; text-decoration-color: #008000\">xgb-sweeps</span>          │ sweep              │ sklearn, numpy      │\n",
       "│ 29 │ colabs/simpletrans… │ <span style=\"color: #008000; text-decoration-color: #008000\">simpletransformers…</span> │ Table, Artifact    │ pandas,             │\n",
       "│    │                     │                     │                    │ transformers        │\n",
       "│ 30 │ colabs/pytorch-lig… │ <span style=\"color: #008000; text-decoration-color: #008000\">lit_colab_boris</span>     │ Table, sweep,      │ torch, lightning    │\n",
       "│    │                     │                     │ WandbLogger        │                     │\n",
       "│ 31 │ colabs/pytorch-lig… │ <span style=\"color: #008000; text-decoration-color: #008000\">trace-colab</span>         │ WandbLogger,       │ torch, lightning    │\n",
       "│    │                     │                     │ Artifact           │                     │\n",
       "│ 32 │ colabs/pytorch-lig… │ <span style=\"color: #008000; text-decoration-color: #008000\">lightning_hf</span>        │ Table, sweep,      │ torch, pandas,      │\n",
       "│    │                     │                     │ WandbLogger,       │ numpy,              │\n",
       "│    │                     │                     │ Artifact           │ transformers,       │\n",
       "│    │                     │                     │                    │ lightning           │\n",
       "│ 33 │ colabs/pytorch-lig… │ <span style=\"color: #008000; text-decoration-color: #008000\">lit_colab</span>           │ WandbLogger        │ torch, numpy,       │\n",
       "│    │                     │                     │                    │ lightning           │\n",
       "│ 34 │ colabs/huggingface… │ <span style=\"color: #008000; text-decoration-color: #008000\">huggingface_optimi…</span> │                    │ torch, numpy,       │\n",
       "│    │                     │                     │                    │ transformers        │\n",
       "│ 35 │ colabs/huggingface… │ <span style=\"color: #008000; text-decoration-color: #008000\">huggingface_tables</span>  │                    │ torch, numpy,       │\n",
       "│    │                     │                     │                    │ transformers        │\n",
       "│ 36 │ colabs/huggingface… │ <span style=\"color: #008000; text-decoration-color: #008000\">huggingface_wandb</span>   │                    │ torch, transformers │\n",
       "│ 37 │ colabs/wandb-log/L… │ <span style=\"color: #008000; text-decoration-color: #008000\">media-video</span>         │ Table              │ pandas, numpy       │\n",
       "│ 38 │ colabs/wandb-log/P… │ <span style=\"color: #800000; text-decoration-color: #800000\">No Tracker</span>          │ WandbCallback      │ keras, tensorflow,  │\n",
       "│    │                     │                     │                    │ sklearn, numpy      │\n",
       "│ 39 │ colabs/wandb-log/C… │ <span style=\"color: #800000; text-decoration-color: #800000\">No Tracker</span>          │                    │                     │\n",
       "│ 40 │ colabs/wandb-log/L… │ <span style=\"color: #008000; text-decoration-color: #008000\">confusion_matrix</span>    │ WandbCallback      │ keras, tensorflow,  │\n",
       "│    │                     │                     │                    │ sklearn, numpy      │\n",
       "│ 41 │ colabs/wandb-log/P… │ <span style=\"color: #800000; text-decoration-color: #800000\">No Tracker</span>          │ WandbCallback      │ keras, tensorflow,  │\n",
       "│    │                     │                     │                    │ sklearn, numpy      │\n",
       "│ 42 │ colabs/wandb-log/S… │ <span style=\"color: #800000; text-decoration-color: #800000\">No Tracker</span>          │                    │                     │\n",
       "│ 43 │ colabs/wandb-log/L… │ <span style=\"color: #800000; text-decoration-color: #800000\">No Tracker</span>          │                    │                     │\n",
       "│ 44 │ colabs/wandb-log/C… │ <span style=\"color: #008000; text-decoration-color: #008000\">define_metric</span>       │                    │                     │\n",
       "│ 45 │ colabs/spacy/spaCy… │ <span style=\"color: #008000; text-decoration-color: #008000\">spacy-sweeps</span>        │                    │ spacy               │\n",
       "│ 46 │ colabs/spacy/SpaCy… │ <span style=\"color: #008000; text-decoration-color: #008000\">spacy-v3</span>            │ Artifact           │ spacy               │\n",
       "│ 47 │ colabs/rdkit/wb_rd… │ <span style=\"color: #008000; text-decoration-color: #008000\">rdkit_molecules</span>     │ Table              │ pandas              │\n",
       "│ 48 │ colabs/pytorch/Sim… │ <span style=\"color: #008000; text-decoration-color: #008000\">pytorch-video</span>       │                    │ torch, numpy        │\n",
       "│ 49 │ colabs/pytorch/Org… │ <span style=\"color: #008000; text-decoration-color: #008000\">sweeps-video</span>        │ sweep              │ torch               │\n",
       "│ 50 │ colabs/pytorch/How… │ <span style=\"color: #008000; text-decoration-color: #008000\">pytorch-dropout</span>     │                    │ torch, numpy        │\n",
       "│ 51 │ colabs/yolo/Train_… │ <span style=\"color: #800000; text-decoration-color: #800000\">No Tracker</span>          │                    │ yolo                │\n",
       "│ 52 │ colabs/yolo/Loggin… │ <span style=\"color: #800000; text-decoration-color: #800000\">No Tracker</span>          │                    │ torch, yolo         │\n",
       "│ 53 │ colabs/scikit/Simp… │ <span style=\"color: #008000; text-decoration-color: #008000\">simple-sklearn</span>      │                    │ sklearn, pandas,    │\n",
       "│    │                     │                     │                    │ numpy               │\n",
       "│ 54 │ colabs/scikit/w-b-… │ <span style=\"color: #800000; text-decoration-color: #800000\">No Tracker</span>          │                    │ sklearn, numpy      │\n",
       "│ 55 │ colabs/stable_base… │ <span style=\"color: #008000; text-decoration-color: #008000\">sb3-integration</span>     │ WandbCallback      │                     │\n",
       "│    │ Baselines 3 - Track │                     │                    │                     │\n",
       "│    │ Experiments with    │                     │                    │                     │\n",
       "│    │ Weights and         │                     │                    │                     │\n",
       "│    │ Biases.ipynb        │                     │                    │                     │\n",
       "│ 56 │ colabs/jupyter/Int… │ <span style=\"color: #800000; text-decoration-color: #800000\">No Tracker</span>          │ sweep              │ yolo                │\n",
       "│ 57 │ examples/keras/ker… │ <span style=\"color: #800000; text-decoration-color: #800000\">No Tracker</span>          │ WandbCallback      │ keras, tensorflow,  │\n",
       "│    │                     │                     │                    │ numpy               │\n",
       "│ 58 │ examples/wandb-swe… │ <span style=\"color: #800000; text-decoration-color: #800000\">No Tracker</span>          │ sweep              │ keras, tensorflow,  │\n",
       "│    │                     │                     │                    │ numpy               │\n",
       "│ 59 │ examples/pytorch/p… │ <span style=\"color: #800000; text-decoration-color: #800000\">No Tracker</span>          │ sweep              │ torch               │\n",
       "│ 60 │ examples/pytorch/p… │ <span style=\"color: #800000; text-decoration-color: #800000\">No Tracker</span>          │                    │ torch, numpy        │\n",
       "│ 61 │ examples/pytorch/p… │ <span style=\"color: #800000; text-decoration-color: #800000\">No Tracker</span>          │                    │ torch               │\n",
       "│ 62 │ examples/sagemaker… │ <span style=\"color: #008000; text-decoration-color: #008000\">sagemaker-hf</span>        │ Table, Artifact    │ torch, transformers │\n",
       "│ 63 │ src/wandb/tests/no… │ <span style=\"color: #800000; text-decoration-color: #800000\">No Tracker</span>          │                    │                     │\n",
       "│ 64 │ src/wandb/tests/no… │ <span style=\"color: #800000; text-decoration-color: #800000\">No Tracker</span>          │                    │                     │\n",
       "│ 65 │ src/wandb/tests/no… │ <span style=\"color: #800000; text-decoration-color: #800000\">No Tracker</span>          │                    │                     │\n",
       "│ 66 │ src/wandb/tests/no… │ <span style=\"color: #800000; text-decoration-color: #800000\">No Tracker</span>          │                    │                     │\n",
       "│ 67 │ src/wandb/standalo… │ <span style=\"color: #800000; text-decoration-color: #800000\">No Tracker</span>          │                    │                     │\n",
       "└────┴─────────────────────┴─────────────────────┴────────────────────┴─────────────────────┘\n",
       "</pre>\n"
      ],
      "text/plain": [
       "┏━━━━┳━━━━━━━━━━━━━━━━━━━━━┳━━━━━━━━━━━━━━━━━━━━━┳━━━━━━━━━━━━━━━━━━━━┳━━━━━━━━━━━━━━━━━━━━━┓\n",
       "┃\u001b[1;35m \u001b[0m\u001b[1;35m# \u001b[0m\u001b[1;35m \u001b[0m┃\u001b[1;35m \u001b[0m\u001b[1;35mnb name            \u001b[0m\u001b[1;35m \u001b[0m┃\u001b[1;35m \u001b[0m\u001b[1;35mtracker            \u001b[0m\u001b[1;35m \u001b[0m┃\u001b[1;35m \u001b[0m\u001b[1;35mwandb features    \u001b[0m\u001b[1;35m \u001b[0m┃\u001b[1;35m \u001b[0m\u001b[1;35mpython libs        \u001b[0m\u001b[1;35m \u001b[0m┃\n",
       "┡━━━━╇━━━━━━━━━━━━━━━━━━━━━╇━━━━━━━━━━━━━━━━━━━━━╇━━━━━━━━━━━━━━━━━━━━╇━━━━━━━━━━━━━━━━━━━━━┩\n",
       "│ 1  │ colabs/Grouping_Fe… │ \u001b[31mNo Tracker\u001b[0m          │                    │                     │\n",
       "│ 2  │ colabs/keras/Keras… │ \u001b[32msweeps-keras\u001b[0m        │ sweep,             │ keras, tensorflow,  │\n",
       "│    │                     │                     │ WandbCallback      │ numpy               │\n",
       "│ 3  │ colabs/keras/Simpl… │ \u001b[32mkeras-video\u001b[0m         │ WandbCallback      │ keras, tensorflow,  │\n",
       "│    │                     │                     │                    │ pandas, numpy       │\n",
       "│ 4  │ colabs/wandb-artif… │ \u001b[31mNo Tracker\u001b[0m          │ WandbCallback,     │ keras, tensorflow,  │\n",
       "│    │                     │                     │ Artifact           │ sklearn, numpy      │\n",
       "│ 5  │ colabs/wandb-artif… │ \u001b[32martifacts-video\u001b[0m     │ WandbCallback,     │ keras, tensorflow,  │\n",
       "│    │                     │                     │ Artifact           │ numpy               │\n",
       "│ 6  │ colabs/wandb-artif… │ \u001b[31mNo Tracker\u001b[0m          │ Artifact           │ torch               │\n",
       "│ 7  │ colabs/wandb-artif… │ \u001b[32maudit-artifacts-co…\u001b[0m │ Artifact           │ torch               │\n",
       "│ 8  │ colabs/wandb-artif… │ \u001b[32martifacts_quicksta…\u001b[0m │ WandbCallback,     │ keras, tensorflow,  │\n",
       "│    │                     │                     │ Artifact           │ sklearn, numpy      │\n",
       "│ 9  │ colabs/tables/Log_… │ \u001b[31mNo Tracker\u001b[0m          │ Table, Artifact    │                     │\n",
       "│ 10 │ colabs/tables/W&B_… │ \u001b[32mtables_quickstart\u001b[0m   │ Table              │ sklearn, pandas,    │\n",
       "│    │                     │                     │                    │ numpy               │\n",
       "│ 11 │ colabs/tables/Alph… │ \u001b[32malphafold\u001b[0m           │ Table              │ jax, numpy          │\n",
       "│ 12 │ colabs/pycaret/Def… │ \u001b[31mNo Tracker\u001b[0m          │ Table, Artifact    │ sklearn, pandas,    │\n",
       "│    │                     │                     │                    │ numpy               │\n",
       "│ 13 │ colabs/intro/Intro… │ \u001b[32mintro-colab\u001b[0m         │ WandbCallback      │ keras, tensorflow,  │\n",
       "│    │                     │                     │                    │ numpy               │\n",
       "│ 14 │ colabs/intro/3_in_… │ \u001b[32mintro-colab-3-in-1\u001b[0m  │ Artifact           │ torch, keras,       │\n",
       "│    │                     │                     │                    │ tensorflow, pandas, │\n",
       "│    │                     │                     │                    │ numpy, transformers │\n",
       "│ 15 │ colabs/dsviz/W&B_D… │ \u001b[31mNo Tracker\u001b[0m          │ Table, sweep,      │ numpy, fastai       │\n",
       "│    │                     │                     │ WandbCallback,     │                     │\n",
       "│    │                     │                     │ Artifact           │                     │\n",
       "│ 16 │ colabs/raytune/W&B… │ \u001b[31mNo Tracker\u001b[0m          │ WandbLogger        │ torch, numpy        │\n",
       "│ 17 │ colabs/datasets-pr… │ \u001b[31mNo Tracker\u001b[0m          │ Table, Artifact    │ torch, numpy        │\n",
       "│ 18 │ colabs/datasets-pr… │ \u001b[32mtables_whalesong\u001b[0m    │ Table              │ tensorflow, numpy   │\n",
       "│ 19 │ colabs/datasets-pr… │ \u001b[32mtables_quickstart\u001b[0m   │ Table              │ torch, numpy        │\n",
       "│ 20 │ colabs/datasets-pr… │ \u001b[31mNo Tracker\u001b[0m          │ Table, Artifact    │ numpy               │\n",
       "│ 21 │ colabs/datasets-pr… │ \u001b[32mtables_mendeleev\u001b[0m    │ Table,             │ keras, tensorflow,  │\n",
       "│    │                     │                     │ WandbCallback,     │ numpy               │\n",
       "│    │                     │                     │ Artifact           │                     │\n",
       "│ 22 │ colabs/fastai/Weig… │ \u001b[31mNo Tracker\u001b[0m          │ WandbCallback      │ fastai              │\n",
       "│ 23 │ colabs/deepchem/W&… │ \u001b[32mdeepchem\u001b[0m            │ Table, WandbLogger │ keras, tensorflow,  │\n",
       "│    │                     │                     │                    │ numpy, transformers │\n",
       "│ 24 │ colabs/tensorflow/… │ \u001b[32mtf-sweeps\u001b[0m           │ sweep,             │ keras, tensorflow,  │\n",
       "│    │                     │                     │ WandbCallback      │ pandas, numpy       │\n",
       "│ 25 │ colabs/tensorflow/… │ \u001b[32msimple-tensorflow\u001b[0m   │ WandbCallback      │ keras, tensorflow,  │\n",
       "│    │                     │                     │                    │ pandas, numpy       │\n",
       "│ 26 │ colabs/boosting/Cr… │ \u001b[32mxgboost-credit-sco…\u001b[0m │ Table, sweep,      │ sklearn, pandas,    │\n",
       "│    │                     │                     │ Artifact           │ numpy               │\n",
       "│ 27 │ colabs/boosting/Si… │ \u001b[31mNo Tracker\u001b[0m          │                    │ sklearn, pandas     │\n",
       "│ 28 │ colabs/boosting/Us… │ \u001b[32mxgb-sweeps\u001b[0m          │ sweep              │ sklearn, numpy      │\n",
       "│ 29 │ colabs/simpletrans… │ \u001b[32msimpletransformers…\u001b[0m │ Table, Artifact    │ pandas,             │\n",
       "│    │                     │                     │                    │ transformers        │\n",
       "│ 30 │ colabs/pytorch-lig… │ \u001b[32mlit_colab_boris\u001b[0m     │ Table, sweep,      │ torch, lightning    │\n",
       "│    │                     │                     │ WandbLogger        │                     │\n",
       "│ 31 │ colabs/pytorch-lig… │ \u001b[32mtrace-colab\u001b[0m         │ WandbLogger,       │ torch, lightning    │\n",
       "│    │                     │                     │ Artifact           │                     │\n",
       "│ 32 │ colabs/pytorch-lig… │ \u001b[32mlightning_hf\u001b[0m        │ Table, sweep,      │ torch, pandas,      │\n",
       "│    │                     │                     │ WandbLogger,       │ numpy,              │\n",
       "│    │                     │                     │ Artifact           │ transformers,       │\n",
       "│    │                     │                     │                    │ lightning           │\n",
       "│ 33 │ colabs/pytorch-lig… │ \u001b[32mlit_colab\u001b[0m           │ WandbLogger        │ torch, numpy,       │\n",
       "│    │                     │                     │                    │ lightning           │\n",
       "│ 34 │ colabs/huggingface… │ \u001b[32mhuggingface_optimi…\u001b[0m │                    │ torch, numpy,       │\n",
       "│    │                     │                     │                    │ transformers        │\n",
       "│ 35 │ colabs/huggingface… │ \u001b[32mhuggingface_tables\u001b[0m  │                    │ torch, numpy,       │\n",
       "│    │                     │                     │                    │ transformers        │\n",
       "│ 36 │ colabs/huggingface… │ \u001b[32mhuggingface_wandb\u001b[0m   │                    │ torch, transformers │\n",
       "│ 37 │ colabs/wandb-log/L… │ \u001b[32mmedia-video\u001b[0m         │ Table              │ pandas, numpy       │\n",
       "│ 38 │ colabs/wandb-log/P… │ \u001b[31mNo Tracker\u001b[0m          │ WandbCallback      │ keras, tensorflow,  │\n",
       "│    │                     │                     │                    │ sklearn, numpy      │\n",
       "│ 39 │ colabs/wandb-log/C… │ \u001b[31mNo Tracker\u001b[0m          │                    │                     │\n",
       "│ 40 │ colabs/wandb-log/L… │ \u001b[32mconfusion_matrix\u001b[0m    │ WandbCallback      │ keras, tensorflow,  │\n",
       "│    │                     │                     │                    │ sklearn, numpy      │\n",
       "│ 41 │ colabs/wandb-log/P… │ \u001b[31mNo Tracker\u001b[0m          │ WandbCallback      │ keras, tensorflow,  │\n",
       "│    │                     │                     │                    │ sklearn, numpy      │\n",
       "│ 42 │ colabs/wandb-log/S… │ \u001b[31mNo Tracker\u001b[0m          │                    │                     │\n",
       "│ 43 │ colabs/wandb-log/L… │ \u001b[31mNo Tracker\u001b[0m          │                    │                     │\n",
       "│ 44 │ colabs/wandb-log/C… │ \u001b[32mdefine_metric\u001b[0m       │                    │                     │\n",
       "│ 45 │ colabs/spacy/spaCy… │ \u001b[32mspacy-sweeps\u001b[0m        │                    │ spacy               │\n",
       "│ 46 │ colabs/spacy/SpaCy… │ \u001b[32mspacy-v3\u001b[0m            │ Artifact           │ spacy               │\n",
       "│ 47 │ colabs/rdkit/wb_rd… │ \u001b[32mrdkit_molecules\u001b[0m     │ Table              │ pandas              │\n",
       "│ 48 │ colabs/pytorch/Sim… │ \u001b[32mpytorch-video\u001b[0m       │                    │ torch, numpy        │\n",
       "│ 49 │ colabs/pytorch/Org… │ \u001b[32msweeps-video\u001b[0m        │ sweep              │ torch               │\n",
       "│ 50 │ colabs/pytorch/How… │ \u001b[32mpytorch-dropout\u001b[0m     │                    │ torch, numpy        │\n",
       "│ 51 │ colabs/yolo/Train_… │ \u001b[31mNo Tracker\u001b[0m          │                    │ yolo                │\n",
       "│ 52 │ colabs/yolo/Loggin… │ \u001b[31mNo Tracker\u001b[0m          │                    │ torch, yolo         │\n",
       "│ 53 │ colabs/scikit/Simp… │ \u001b[32msimple-sklearn\u001b[0m      │                    │ sklearn, pandas,    │\n",
       "│    │                     │                     │                    │ numpy               │\n",
       "│ 54 │ colabs/scikit/w-b-… │ \u001b[31mNo Tracker\u001b[0m          │                    │ sklearn, numpy      │\n",
       "│ 55 │ colabs/stable_base… │ \u001b[32msb3-integration\u001b[0m     │ WandbCallback      │                     │\n",
       "│    │ Baselines 3 - Track │                     │                    │                     │\n",
       "│    │ Experiments with    │                     │                    │                     │\n",
       "│    │ Weights and         │                     │                    │                     │\n",
       "│    │ Biases.ipynb        │                     │                    │                     │\n",
       "│ 56 │ colabs/jupyter/Int… │ \u001b[31mNo Tracker\u001b[0m          │ sweep              │ yolo                │\n",
       "│ 57 │ examples/keras/ker… │ \u001b[31mNo Tracker\u001b[0m          │ WandbCallback      │ keras, tensorflow,  │\n",
       "│    │                     │                     │                    │ numpy               │\n",
       "│ 58 │ examples/wandb-swe… │ \u001b[31mNo Tracker\u001b[0m          │ sweep              │ keras, tensorflow,  │\n",
       "│    │                     │                     │                    │ numpy               │\n",
       "│ 59 │ examples/pytorch/p… │ \u001b[31mNo Tracker\u001b[0m          │ sweep              │ torch               │\n",
       "│ 60 │ examples/pytorch/p… │ \u001b[31mNo Tracker\u001b[0m          │                    │ torch, numpy        │\n",
       "│ 61 │ examples/pytorch/p… │ \u001b[31mNo Tracker\u001b[0m          │                    │ torch               │\n",
       "│ 62 │ examples/sagemaker… │ \u001b[32msagemaker-hf\u001b[0m        │ Table, Artifact    │ torch, transformers │\n",
       "│ 63 │ src/wandb/tests/no… │ \u001b[31mNo Tracker\u001b[0m          │                    │                     │\n",
       "│ 64 │ src/wandb/tests/no… │ \u001b[31mNo Tracker\u001b[0m          │                    │                     │\n",
       "│ 65 │ src/wandb/tests/no… │ \u001b[31mNo Tracker\u001b[0m          │                    │                     │\n",
       "│ 66 │ src/wandb/tests/no… │ \u001b[31mNo Tracker\u001b[0m          │                    │                     │\n",
       "│ 67 │ src/wandb/standalo… │ \u001b[31mNo Tracker\u001b[0m          │                    │                     │\n",
       "└────┴─────────────────────┴─────────────────────┴────────────────────┴─────────────────────┘\n"
      ]
     },
     "execution_count": 35,
     "metadata": {},
     "output_type": "execute_result"
    }
   ],
   "source": [
    "table"
   ]
  },
  {
   "cell_type": "code",
   "execution_count": 34,
   "metadata": {},
   "outputs": [
    {
     "data": {
      "text/html": [
       "<pre style=\"white-space:pre;overflow-x:auto;line-height:normal;font-family:Menlo,'DejaVu Sans Mono',consolas,'Courier New',monospace\"><span style=\"color: #800080; text-decoration-color: #800080; font-weight: bold\">CONSOLE.is_terminal</span><span style=\"font-weight: bold\">()</span>: <span style=\"color: #ff0000; text-decoration-color: #ff0000; font-style: italic\">False</span>\n",
       "</pre>\n"
      ],
      "text/plain": [
       "\u001b[1;35mCONSOLE.is_terminal\u001b[0m\u001b[1m(\u001b[0m\u001b[1m)\u001b[0m: \u001b[3;91mFalse\u001b[0m\n"
      ]
     },
     "metadata": {},
     "output_type": "display_data"
    },
    {
     "data": {
      "text/html": [
       "<pre style=\"white-space:pre;overflow-x:auto;line-height:normal;font-family:Menlo,'DejaVu Sans Mono',consolas,'Courier New',monospace\">Reading <span style=\"color: #008080; text-decoration-color: #008080; font-weight: bold\">67</span> notebooks\n",
       "</pre>\n"
      ],
      "text/plain": [
       "Reading \u001b[1;36m67\u001b[0m notebooks\n"
      ]
     },
     "metadata": {},
     "output_type": "display_data"
    },
    {
     "data": {
      "text/html": [
       "<pre style=\"white-space:pre;overflow-x:auto;line-height:normal;font-family:Menlo,'DejaVu Sans Mono',consolas,'Courier New',monospace\">┏━━━━┳━━━━━━━━━━━━━━━━━━━━━━━━━━━━━━━━━━━━━━━━━━━━━━━━━━━┳━━━━━━━━━━━━━━━━━━━━━━━━━━━━┳━━━━━━━━━━━━━━━━━━━━━━━━━━━━━━━━━━━━━━━┳━━━━━━━━━━━━━━━━━━━━━━━━━━━━━━━━━━━━━━━━━━━━━━━━━━━━┓\n",
       "┃<span style=\"color: #800080; text-decoration-color: #800080; font-weight: bold\"> #  </span>┃<span style=\"color: #800080; text-decoration-color: #800080; font-weight: bold\"> nb name                                           </span>┃<span style=\"color: #800080; text-decoration-color: #800080; font-weight: bold\"> tracker                    </span>┃<span style=\"color: #800080; text-decoration-color: #800080; font-weight: bold\"> wandb features                        </span>┃<span style=\"color: #800080; text-decoration-color: #800080; font-weight: bold\"> python libs                                        </span>┃\n",
       "┡━━━━╇━━━━━━━━━━━━━━━━━━━━━━━━━━━━━━━━━━━━━━━━━━━━━━━━━━━╇━━━━━━━━━━━━━━━━━━━━━━━━━━━━╇━━━━━━━━━━━━━━━━━━━━━━━━━━━━━━━━━━━━━━━╇━━━━━━━━━━━━━━━━━━━━━━━━━━━━━━━━━━━━━━━━━━━━━━━━━━━━┩\n",
       "│ 1  │ wandb/examples/colabs/Grouping_Feature.ipynb      │ <span style=\"color: #800000; text-decoration-color: #800000\">No Tracker</span>                 │                                       │                                                    │\n",
       "│ 2  │ wandb/examples/colabs/keras/Keras_param_opti_usi… │ <span style=\"color: #008000; text-decoration-color: #008000\">sweeps-keras</span>               │ sweep, WandbCallback                  │ keras, tensorflow, numpy                           │\n",
       "│ 3  │ wandb/examples/colabs/keras/Simple_Keras_Integra… │ <span style=\"color: #008000; text-decoration-color: #008000\">keras-video</span>                │ WandbCallback                         │ keras, tensorflow, pandas, numpy                   │\n",
       "│ 4  │ wandb/examples/colabs/wandb-artifacts/Basic_Arti… │ <span style=\"color: #800000; text-decoration-color: #800000\">No Tracker</span>                 │ WandbCallback, Artifact               │ keras, tensorflow, sklearn, numpy                  │\n",
       "│ 5  │ wandb/examples/colabs/wandb-artifacts/Pipeline_V… │ <span style=\"color: #008000; text-decoration-color: #008000\">artifacts-video</span>            │ WandbCallback, Artifact               │ keras, tensorflow, numpy                           │\n",
       "│ 6  │ wandb/examples/colabs/wandb-artifacts/Pipeline_V… │ <span style=\"color: #800000; text-decoration-color: #800000\">No Tracker</span>                 │ Artifact                              │ torch                                              │\n",
       "│ 7  │ wandb/examples/colabs/wandb-artifacts/W&amp;B_artifa… │ <span style=\"color: #008000; text-decoration-color: #008000\">audit-artifacts-colab</span>      │ Artifact                              │ torch                                              │\n",
       "│ 8  │ wandb/examples/colabs/wandb-artifacts/Artifacts_… │ <span style=\"color: #008000; text-decoration-color: #008000\">artifacts_quickstart</span>       │ WandbCallback, Artifact               │ keras, tensorflow, sklearn, numpy                  │\n",
       "│ 9  │ wandb/examples/colabs/tables/Log_Tables_Incremen… │ <span style=\"color: #800000; text-decoration-color: #800000\">No Tracker</span>                 │ Table, Artifact                       │                                                    │\n",
       "│ 10 │ wandb/examples/colabs/tables/W&amp;B_Tables_Quicksta… │ <span style=\"color: #008000; text-decoration-color: #008000\">tables_quickstart</span>          │ Table                                 │ sklearn, pandas, numpy                             │\n",
       "│ 11 │ wandb/examples/colabs/tables/AlphaFold_with_W&amp;B_… │ <span style=\"color: #008000; text-decoration-color: #008000\">alphafold</span>                  │ Table                                 │ jax, numpy                                         │\n",
       "│ 12 │ wandb/examples/colabs/pycaret/Default_Credit_Pre… │ <span style=\"color: #800000; text-decoration-color: #800000\">No Tracker</span>                 │ Table, Artifact                       │ sklearn, pandas, numpy                             │\n",
       "│ 13 │ wandb/examples/colabs/intro/Intro_to_Weights_&amp;_B… │ <span style=\"color: #008000; text-decoration-color: #008000\">intro-colab</span>                │ WandbCallback                         │ keras, tensorflow, numpy                           │\n",
       "│ 14 │ wandb/examples/colabs/intro/3_in_1_Intro_to_Weig… │ <span style=\"color: #008000; text-decoration-color: #008000\">intro-colab-3-in-1</span>         │ Artifact                              │ torch, keras, tensorflow, pandas, numpy,           │\n",
       "│    │                                                   │                            │                                       │ transformers                                       │\n",
       "│ 15 │ wandb/examples/colabs/dsviz/W&amp;B_Dataset_and_Pred… │ <span style=\"color: #800000; text-decoration-color: #800000\">No Tracker</span>                 │ Table, sweep, WandbCallback, Artifact │ numpy, fastai                                      │\n",
       "│ 16 │ wandb/examples/colabs/raytune/W&amp;B_+_RayTune.ipynb │ <span style=\"color: #800000; text-decoration-color: #800000\">No Tracker</span>                 │ WandbLogger                           │ torch, numpy                                       │\n",
       "│ 17 │ wandb/examples/colabs/datasets-predictions/Visua… │ <span style=\"color: #800000; text-decoration-color: #800000\">No Tracker</span>                 │ Table, Artifact                       │ torch, numpy                                       │\n",
       "│ 18 │ wandb/examples/colabs/datasets-predictions/Loggi… │ <span style=\"color: #008000; text-decoration-color: #008000\">tables_whalesong</span>           │ Table                                 │ tensorflow, numpy                                  │\n",
       "│ 19 │ wandb/examples/colabs/datasets-predictions/W&amp;B_T… │ <span style=\"color: #008000; text-decoration-color: #008000\">tables_quickstart</span>          │ Table                                 │ torch, numpy                                       │\n",
       "│ 20 │ wandb/examples/colabs/datasets-predictions/W&amp;B_D… │ <span style=\"color: #800000; text-decoration-color: #800000\">No Tracker</span>                 │ Table, Artifact                       │ numpy                                              │\n",
       "│ 21 │ wandb/examples/colabs/datasets-predictions/Image… │ <span style=\"color: #008000; text-decoration-color: #008000\">tables_mendeleev</span>           │ Table, WandbCallback, Artifact        │ keras, tensorflow, numpy                           │\n",
       "│ 22 │ wandb/examples/colabs/fastai/Weights_&amp;_Biases_wi… │ <span style=\"color: #800000; text-decoration-color: #800000\">No Tracker</span>                 │ WandbCallback                         │ fastai                                             │\n",
       "│ 23 │ wandb/examples/colabs/deepchem/W&amp;B_x_DeepChem.ip… │ <span style=\"color: #008000; text-decoration-color: #008000\">deepchem</span>                   │ Table, WandbLogger                    │ keras, tensorflow, numpy, transformers             │\n",
       "│ 24 │ wandb/examples/colabs/tensorflow/Hyperparameter_… │ <span style=\"color: #008000; text-decoration-color: #008000\">tf-sweeps</span>                  │ sweep, WandbCallback                  │ keras, tensorflow, pandas, numpy                   │\n",
       "│ 25 │ wandb/examples/colabs/tensorflow/Simple_TensorFl… │ <span style=\"color: #008000; text-decoration-color: #008000\">simple-tensorflow</span>          │ WandbCallback                         │ keras, tensorflow, pandas, numpy                   │\n",
       "│ 26 │ wandb/examples/colabs/boosting/Credit_Scorecards… │ <span style=\"color: #008000; text-decoration-color: #008000\">xgboost-credit-scorecard</span>   │ Table, sweep, Artifact                │ sklearn, pandas, numpy                             │\n",
       "│ 27 │ wandb/examples/colabs/boosting/Simple_LightGBM_I… │ <span style=\"color: #800000; text-decoration-color: #800000\">No Tracker</span>                 │                                       │ sklearn, pandas                                    │\n",
       "│ 28 │ wandb/examples/colabs/boosting/Using_W&amp;B_Sweeps_… │ <span style=\"color: #008000; text-decoration-color: #008000\">xgb-sweeps</span>                 │ sweep                                 │ sklearn, numpy                                     │\n",
       "│ 29 │ wandb/examples/colabs/simpletransformers/SimpleT… │ <span style=\"color: #008000; text-decoration-color: #008000\">simpletransformers-QA</span>      │ Table, Artifact                       │ pandas, transformers                               │\n",
       "│ 30 │ wandb/examples/colabs/pytorch-lightning/Optimize… │ <span style=\"color: #008000; text-decoration-color: #008000\">lit_colab_boris</span>            │ Table, sweep, WandbLogger             │ torch, lightning                                   │\n",
       "│ 31 │ wandb/examples/colabs/pytorch-lightning/Profile_… │ <span style=\"color: #008000; text-decoration-color: #008000\">trace-colab</span>                │ WandbLogger, Artifact                 │ torch, lightning                                   │\n",
       "│ 32 │ wandb/examples/colabs/pytorch-lightning/Fine_tun… │ <span style=\"color: #008000; text-decoration-color: #008000\">lightning_hf</span>               │ Table, sweep, WandbLogger, Artifact   │ torch, pandas, numpy, transformers, lightning      │\n",
       "│ 33 │ wandb/examples/colabs/pytorch-lightning/Supercha… │ <span style=\"color: #008000; text-decoration-color: #008000\">lit_colab</span>                  │ WandbLogger                           │ torch, numpy, lightning                            │\n",
       "│ 34 │ wandb/examples/colabs/huggingface/Optimize_Huggi… │ <span style=\"color: #008000; text-decoration-color: #008000\">huggingface_optimize_wandb</span> │                                       │ torch, numpy, transformers                         │\n",
       "│ 35 │ wandb/examples/colabs/huggingface/Visualize_your… │ <span style=\"color: #008000; text-decoration-color: #008000\">huggingface_tables</span>         │                                       │ torch, numpy, transformers                         │\n",
       "│ 36 │ wandb/examples/colabs/huggingface/Hugging_Face_+… │ <span style=\"color: #008000; text-decoration-color: #008000\">huggingface_wandb</span>          │                                       │ torch, transformers                                │\n",
       "│ 37 │ wandb/examples/colabs/wandb-log/Log_(Almost)_Any… │ <span style=\"color: #008000; text-decoration-color: #008000\">media-video</span>                │ Table                                 │ pandas, numpy                                      │\n",
       "│ 38 │ wandb/examples/colabs/wandb-log/Plot_Precision_R… │ <span style=\"color: #800000; text-decoration-color: #800000\">No Tracker</span>                 │ WandbCallback                         │ keras, tensorflow, sklearn, numpy                  │\n",
       "│ 39 │ wandb/examples/colabs/wandb-log/Configs_in_W&amp;B.i… │ <span style=\"color: #800000; text-decoration-color: #800000\">No Tracker</span>                 │                                       │                                                    │\n",
       "│ 40 │ wandb/examples/colabs/wandb-log/Log_a_Confusion_… │ <span style=\"color: #008000; text-decoration-color: #008000\">confusion_matrix</span>           │ WandbCallback                         │ keras, tensorflow, sklearn, numpy                  │\n",
       "│ 41 │ wandb/examples/colabs/wandb-log/Plot_ROC_Curves_… │ <span style=\"color: #800000; text-decoration-color: #800000\">No Tracker</span>                 │ WandbCallback                         │ keras, tensorflow, sklearn, numpy                  │\n",
       "│ 42 │ wandb/examples/colabs/wandb-log/Saving_Code_with… │ <span style=\"color: #800000; text-decoration-color: #800000\">No Tracker</span>                 │                                       │                                                    │\n",
       "│ 43 │ wandb/examples/colabs/wandb-log/Logging_Strategi… │ <span style=\"color: #800000; text-decoration-color: #800000\">No Tracker</span>                 │                                       │                                                    │\n",
       "│ 44 │ wandb/examples/colabs/wandb-log/Customize_metric… │ <span style=\"color: #008000; text-decoration-color: #008000\">define_metric</span>              │                                       │                                                    │\n",
       "│ 45 │ wandb/examples/colabs/spacy/spaCy_v3_and_W&amp;B_Swe… │ <span style=\"color: #008000; text-decoration-color: #008000\">spacy-sweeps</span>               │                                       │ spacy                                              │\n",
       "│ 46 │ wandb/examples/colabs/spacy/SpaCy_v3_and_W&amp;B.ipy… │ <span style=\"color: #008000; text-decoration-color: #008000\">spacy-v3</span>                   │ Artifact                              │ spacy                                              │\n",
       "│ 47 │ wandb/examples/colabs/rdkit/wb_rdkit.ipynb        │ <span style=\"color: #008000; text-decoration-color: #008000\">rdkit_molecules</span>            │ Table                                 │ pandas                                             │\n",
       "│ 48 │ wandb/examples/colabs/pytorch/Simple_PyTorch_Int… │ <span style=\"color: #008000; text-decoration-color: #008000\">pytorch-video</span>              │                                       │ torch, numpy                                       │\n",
       "│ 49 │ wandb/examples/colabs/pytorch/Organizing_Hyperpa… │ <span style=\"color: #008000; text-decoration-color: #008000\">sweeps-video</span>               │ sweep                                 │ torch                                              │\n",
       "│ 50 │ wandb/examples/colabs/pytorch/How_does_adding_dr… │ <span style=\"color: #008000; text-decoration-color: #008000\">pytorch-dropout</span>            │                                       │ torch, numpy                                       │\n",
       "│ 51 │ wandb/examples/colabs/yolo/Train_and_Debug_YOLOv… │ <span style=\"color: #800000; text-decoration-color: #800000\">No Tracker</span>                 │                                       │ yolo                                               │\n",
       "│ 52 │ wandb/examples/colabs/yolo/Logging_YOLOv5_Experi… │ <span style=\"color: #800000; text-decoration-color: #800000\">No Tracker</span>                 │                                       │ torch, yolo                                        │\n",
       "│ 53 │ wandb/examples/colabs/scikit/Simple_Scikit_Integ… │ <span style=\"color: #008000; text-decoration-color: #008000\">simple-sklearn</span>             │                                       │ sklearn, pandas, numpy                             │\n",
       "│ 54 │ wandb/examples/colabs/scikit/w-b-k-means-cluster… │ <span style=\"color: #800000; text-decoration-color: #800000\">No Tracker</span>                 │                                       │ sklearn, numpy                                     │\n",
       "│ 55 │ wandb/examples/colabs/stable_baselines3/Stable    │ <span style=\"color: #008000; text-decoration-color: #008000\">sb3-integration</span>            │ WandbCallback                         │                                                    │\n",
       "│    │ Baselines 3 - Track Experiments with Weights and  │                            │                                       │                                                    │\n",
       "│    │ Biases.ipynb                                      │                            │                                       │                                                    │\n",
       "│ 56 │ wandb/examples/colabs/jupyter/Interactive_W&amp;B_Ch… │ <span style=\"color: #800000; text-decoration-color: #800000\">No Tracker</span>                 │ sweep                                 │ yolo                                               │\n",
       "│ 57 │ wandb/examples/examples/keras/keras-tensorflow2/… │ <span style=\"color: #800000; text-decoration-color: #800000\">No Tracker</span>                 │ WandbCallback                         │ keras, tensorflow, numpy                           │\n",
       "│ 58 │ wandb/examples/examples/wandb-sweeps/sweeps-pyth… │ <span style=\"color: #800000; text-decoration-color: #800000\">No Tracker</span>                 │ sweep                                 │ keras, tensorflow, numpy                           │\n",
       "│ 59 │ wandb/examples/examples/pytorch/pytorch-cifar10-… │ <span style=\"color: #800000; text-decoration-color: #800000\">No Tracker</span>                 │ sweep                                 │ torch                                              │\n",
       "│ 60 │ wandb/examples/examples/pytorch/pytorch-intro/in… │ <span style=\"color: #800000; text-decoration-color: #800000\">No Tracker</span>                 │                                       │ torch, numpy                                       │\n",
       "│ 61 │ wandb/examples/examples/pytorch/pytorch-mnist-sa… │ <span style=\"color: #800000; text-decoration-color: #800000\">No Tracker</span>                 │                                       │ torch                                              │\n",
       "│ 62 │ wandb/examples/examples/sagemaker/text_classific… │ <span style=\"color: #008000; text-decoration-color: #008000\">sagemaker-hf</span>               │ Table, Artifact                       │ torch, transformers                                │\n",
       "│ 63 │ wandb/examples/src/wandb/tests/notebooks/setup.i… │ <span style=\"color: #800000; text-decoration-color: #800000\">No Tracker</span>                 │                                       │                                                    │\n",
       "│ 64 │ wandb/examples/src/wandb/tests/notebooks/one_cel… │ <span style=\"color: #800000; text-decoration-color: #800000\">No Tracker</span>                 │                                       │                                                    │\n",
       "│ 65 │ wandb/examples/src/wandb/tests/notebooks/code_sa… │ <span style=\"color: #800000; text-decoration-color: #800000\">No Tracker</span>                 │                                       │                                                    │\n",
       "│ 66 │ wandb/examples/src/wandb/tests/notebooks/magic.i… │ <span style=\"color: #800000; text-decoration-color: #800000\">No Tracker</span>                 │                                       │                                                    │\n",
       "│ 67 │ wandb/examples/src/wandb/standalone_tests/jupyte… │ <span style=\"color: #800000; text-decoration-color: #800000\">No Tracker</span>                 │                                       │                                                    │\n",
       "└────┴───────────────────────────────────────────────────┴────────────────────────────┴───────────────────────────────────────┴────────────────────────────────────────────────────┘\n",
       "</pre>\n"
      ],
      "text/plain": [
       "┏━━━━┳━━━━━━━━━━━━━━━━━━━━━━━━━━━━━━━━━━━━━━━━━━━━━━━━━━━┳━━━━━━━━━━━━━━━━━━━━━━━━━━━━┳━━━━━━━━━━━━━━━━━━━━━━━━━━━━━━━━━━━━━━━┳━━━━━━━━━━━━━━━━━━━━━━━━━━━━━━━━━━━━━━━━━━━━━━━━━━━━┓\n",
       "┃\u001b[1;35m \u001b[0m\u001b[1;35m# \u001b[0m\u001b[1;35m \u001b[0m┃\u001b[1;35m \u001b[0m\u001b[1;35mnb name                                          \u001b[0m\u001b[1;35m \u001b[0m┃\u001b[1;35m \u001b[0m\u001b[1;35mtracker                   \u001b[0m\u001b[1;35m \u001b[0m┃\u001b[1;35m \u001b[0m\u001b[1;35mwandb features                       \u001b[0m\u001b[1;35m \u001b[0m┃\u001b[1;35m \u001b[0m\u001b[1;35mpython libs                                       \u001b[0m\u001b[1;35m \u001b[0m┃\n",
       "┡━━━━╇━━━━━━━━━━━━━━━━━━━━━━━━━━━━━━━━━━━━━━━━━━━━━━━━━━━╇━━━━━━━━━━━━━━━━━━━━━━━━━━━━╇━━━━━━━━━━━━━━━━━━━━━━━━━━━━━━━━━━━━━━━╇━━━━━━━━━━━━━━━━━━━━━━━━━━━━━━━━━━━━━━━━━━━━━━━━━━━━┩\n",
       "│ 1  │ wandb/examples/colabs/Grouping_Feature.ipynb      │ \u001b[31mNo Tracker\u001b[0m                 │                                       │                                                    │\n",
       "│ 2  │ wandb/examples/colabs/keras/Keras_param_opti_usi… │ \u001b[32msweeps-keras\u001b[0m               │ sweep, WandbCallback                  │ keras, tensorflow, numpy                           │\n",
       "│ 3  │ wandb/examples/colabs/keras/Simple_Keras_Integra… │ \u001b[32mkeras-video\u001b[0m                │ WandbCallback                         │ keras, tensorflow, pandas, numpy                   │\n",
       "│ 4  │ wandb/examples/colabs/wandb-artifacts/Basic_Arti… │ \u001b[31mNo Tracker\u001b[0m                 │ WandbCallback, Artifact               │ keras, tensorflow, sklearn, numpy                  │\n",
       "│ 5  │ wandb/examples/colabs/wandb-artifacts/Pipeline_V… │ \u001b[32martifacts-video\u001b[0m            │ WandbCallback, Artifact               │ keras, tensorflow, numpy                           │\n",
       "│ 6  │ wandb/examples/colabs/wandb-artifacts/Pipeline_V… │ \u001b[31mNo Tracker\u001b[0m                 │ Artifact                              │ torch                                              │\n",
       "│ 7  │ wandb/examples/colabs/wandb-artifacts/W&B_artifa… │ \u001b[32maudit-artifacts-colab\u001b[0m      │ Artifact                              │ torch                                              │\n",
       "│ 8  │ wandb/examples/colabs/wandb-artifacts/Artifacts_… │ \u001b[32martifacts_quickstart\u001b[0m       │ WandbCallback, Artifact               │ keras, tensorflow, sklearn, numpy                  │\n",
       "│ 9  │ wandb/examples/colabs/tables/Log_Tables_Incremen… │ \u001b[31mNo Tracker\u001b[0m                 │ Table, Artifact                       │                                                    │\n",
       "│ 10 │ wandb/examples/colabs/tables/W&B_Tables_Quicksta… │ \u001b[32mtables_quickstart\u001b[0m          │ Table                                 │ sklearn, pandas, numpy                             │\n",
       "│ 11 │ wandb/examples/colabs/tables/AlphaFold_with_W&B_… │ \u001b[32malphafold\u001b[0m                  │ Table                                 │ jax, numpy                                         │\n",
       "│ 12 │ wandb/examples/colabs/pycaret/Default_Credit_Pre… │ \u001b[31mNo Tracker\u001b[0m                 │ Table, Artifact                       │ sklearn, pandas, numpy                             │\n",
       "│ 13 │ wandb/examples/colabs/intro/Intro_to_Weights_&_B… │ \u001b[32mintro-colab\u001b[0m                │ WandbCallback                         │ keras, tensorflow, numpy                           │\n",
       "│ 14 │ wandb/examples/colabs/intro/3_in_1_Intro_to_Weig… │ \u001b[32mintro-colab-3-in-1\u001b[0m         │ Artifact                              │ torch, keras, tensorflow, pandas, numpy,           │\n",
       "│    │                                                   │                            │                                       │ transformers                                       │\n",
       "│ 15 │ wandb/examples/colabs/dsviz/W&B_Dataset_and_Pred… │ \u001b[31mNo Tracker\u001b[0m                 │ Table, sweep, WandbCallback, Artifact │ numpy, fastai                                      │\n",
       "│ 16 │ wandb/examples/colabs/raytune/W&B_+_RayTune.ipynb │ \u001b[31mNo Tracker\u001b[0m                 │ WandbLogger                           │ torch, numpy                                       │\n",
       "│ 17 │ wandb/examples/colabs/datasets-predictions/Visua… │ \u001b[31mNo Tracker\u001b[0m                 │ Table, Artifact                       │ torch, numpy                                       │\n",
       "│ 18 │ wandb/examples/colabs/datasets-predictions/Loggi… │ \u001b[32mtables_whalesong\u001b[0m           │ Table                                 │ tensorflow, numpy                                  │\n",
       "│ 19 │ wandb/examples/colabs/datasets-predictions/W&B_T… │ \u001b[32mtables_quickstart\u001b[0m          │ Table                                 │ torch, numpy                                       │\n",
       "│ 20 │ wandb/examples/colabs/datasets-predictions/W&B_D… │ \u001b[31mNo Tracker\u001b[0m                 │ Table, Artifact                       │ numpy                                              │\n",
       "│ 21 │ wandb/examples/colabs/datasets-predictions/Image… │ \u001b[32mtables_mendeleev\u001b[0m           │ Table, WandbCallback, Artifact        │ keras, tensorflow, numpy                           │\n",
       "│ 22 │ wandb/examples/colabs/fastai/Weights_&_Biases_wi… │ \u001b[31mNo Tracker\u001b[0m                 │ WandbCallback                         │ fastai                                             │\n",
       "│ 23 │ wandb/examples/colabs/deepchem/W&B_x_DeepChem.ip… │ \u001b[32mdeepchem\u001b[0m                   │ Table, WandbLogger                    │ keras, tensorflow, numpy, transformers             │\n",
       "│ 24 │ wandb/examples/colabs/tensorflow/Hyperparameter_… │ \u001b[32mtf-sweeps\u001b[0m                  │ sweep, WandbCallback                  │ keras, tensorflow, pandas, numpy                   │\n",
       "│ 25 │ wandb/examples/colabs/tensorflow/Simple_TensorFl… │ \u001b[32msimple-tensorflow\u001b[0m          │ WandbCallback                         │ keras, tensorflow, pandas, numpy                   │\n",
       "│ 26 │ wandb/examples/colabs/boosting/Credit_Scorecards… │ \u001b[32mxgboost-credit-scorecard\u001b[0m   │ Table, sweep, Artifact                │ sklearn, pandas, numpy                             │\n",
       "│ 27 │ wandb/examples/colabs/boosting/Simple_LightGBM_I… │ \u001b[31mNo Tracker\u001b[0m                 │                                       │ sklearn, pandas                                    │\n",
       "│ 28 │ wandb/examples/colabs/boosting/Using_W&B_Sweeps_… │ \u001b[32mxgb-sweeps\u001b[0m                 │ sweep                                 │ sklearn, numpy                                     │\n",
       "│ 29 │ wandb/examples/colabs/simpletransformers/SimpleT… │ \u001b[32msimpletransformers-QA\u001b[0m      │ Table, Artifact                       │ pandas, transformers                               │\n",
       "│ 30 │ wandb/examples/colabs/pytorch-lightning/Optimize… │ \u001b[32mlit_colab_boris\u001b[0m            │ Table, sweep, WandbLogger             │ torch, lightning                                   │\n",
       "│ 31 │ wandb/examples/colabs/pytorch-lightning/Profile_… │ \u001b[32mtrace-colab\u001b[0m                │ WandbLogger, Artifact                 │ torch, lightning                                   │\n",
       "│ 32 │ wandb/examples/colabs/pytorch-lightning/Fine_tun… │ \u001b[32mlightning_hf\u001b[0m               │ Table, sweep, WandbLogger, Artifact   │ torch, pandas, numpy, transformers, lightning      │\n",
       "│ 33 │ wandb/examples/colabs/pytorch-lightning/Supercha… │ \u001b[32mlit_colab\u001b[0m                  │ WandbLogger                           │ torch, numpy, lightning                            │\n",
       "│ 34 │ wandb/examples/colabs/huggingface/Optimize_Huggi… │ \u001b[32mhuggingface_optimize_wandb\u001b[0m │                                       │ torch, numpy, transformers                         │\n",
       "│ 35 │ wandb/examples/colabs/huggingface/Visualize_your… │ \u001b[32mhuggingface_tables\u001b[0m         │                                       │ torch, numpy, transformers                         │\n",
       "│ 36 │ wandb/examples/colabs/huggingface/Hugging_Face_+… │ \u001b[32mhuggingface_wandb\u001b[0m          │                                       │ torch, transformers                                │\n",
       "│ 37 │ wandb/examples/colabs/wandb-log/Log_(Almost)_Any… │ \u001b[32mmedia-video\u001b[0m                │ Table                                 │ pandas, numpy                                      │\n",
       "│ 38 │ wandb/examples/colabs/wandb-log/Plot_Precision_R… │ \u001b[31mNo Tracker\u001b[0m                 │ WandbCallback                         │ keras, tensorflow, sklearn, numpy                  │\n",
       "│ 39 │ wandb/examples/colabs/wandb-log/Configs_in_W&B.i… │ \u001b[31mNo Tracker\u001b[0m                 │                                       │                                                    │\n",
       "│ 40 │ wandb/examples/colabs/wandb-log/Log_a_Confusion_… │ \u001b[32mconfusion_matrix\u001b[0m           │ WandbCallback                         │ keras, tensorflow, sklearn, numpy                  │\n",
       "│ 41 │ wandb/examples/colabs/wandb-log/Plot_ROC_Curves_… │ \u001b[31mNo Tracker\u001b[0m                 │ WandbCallback                         │ keras, tensorflow, sklearn, numpy                  │\n",
       "│ 42 │ wandb/examples/colabs/wandb-log/Saving_Code_with… │ \u001b[31mNo Tracker\u001b[0m                 │                                       │                                                    │\n",
       "│ 43 │ wandb/examples/colabs/wandb-log/Logging_Strategi… │ \u001b[31mNo Tracker\u001b[0m                 │                                       │                                                    │\n",
       "│ 44 │ wandb/examples/colabs/wandb-log/Customize_metric… │ \u001b[32mdefine_metric\u001b[0m              │                                       │                                                    │\n",
       "│ 45 │ wandb/examples/colabs/spacy/spaCy_v3_and_W&B_Swe… │ \u001b[32mspacy-sweeps\u001b[0m               │                                       │ spacy                                              │\n",
       "│ 46 │ wandb/examples/colabs/spacy/SpaCy_v3_and_W&B.ipy… │ \u001b[32mspacy-v3\u001b[0m                   │ Artifact                              │ spacy                                              │\n",
       "│ 47 │ wandb/examples/colabs/rdkit/wb_rdkit.ipynb        │ \u001b[32mrdkit_molecules\u001b[0m            │ Table                                 │ pandas                                             │\n",
       "│ 48 │ wandb/examples/colabs/pytorch/Simple_PyTorch_Int… │ \u001b[32mpytorch-video\u001b[0m              │                                       │ torch, numpy                                       │\n",
       "│ 49 │ wandb/examples/colabs/pytorch/Organizing_Hyperpa… │ \u001b[32msweeps-video\u001b[0m               │ sweep                                 │ torch                                              │\n",
       "│ 50 │ wandb/examples/colabs/pytorch/How_does_adding_dr… │ \u001b[32mpytorch-dropout\u001b[0m            │                                       │ torch, numpy                                       │\n",
       "│ 51 │ wandb/examples/colabs/yolo/Train_and_Debug_YOLOv… │ \u001b[31mNo Tracker\u001b[0m                 │                                       │ yolo                                               │\n",
       "│ 52 │ wandb/examples/colabs/yolo/Logging_YOLOv5_Experi… │ \u001b[31mNo Tracker\u001b[0m                 │                                       │ torch, yolo                                        │\n",
       "│ 53 │ wandb/examples/colabs/scikit/Simple_Scikit_Integ… │ \u001b[32msimple-sklearn\u001b[0m             │                                       │ sklearn, pandas, numpy                             │\n",
       "│ 54 │ wandb/examples/colabs/scikit/w-b-k-means-cluster… │ \u001b[31mNo Tracker\u001b[0m                 │                                       │ sklearn, numpy                                     │\n",
       "│ 55 │ wandb/examples/colabs/stable_baselines3/Stable    │ \u001b[32msb3-integration\u001b[0m            │ WandbCallback                         │                                                    │\n",
       "│    │ Baselines 3 - Track Experiments with Weights and  │                            │                                       │                                                    │\n",
       "│    │ Biases.ipynb                                      │                            │                                       │                                                    │\n",
       "│ 56 │ wandb/examples/colabs/jupyter/Interactive_W&B_Ch… │ \u001b[31mNo Tracker\u001b[0m                 │ sweep                                 │ yolo                                               │\n",
       "│ 57 │ wandb/examples/examples/keras/keras-tensorflow2/… │ \u001b[31mNo Tracker\u001b[0m                 │ WandbCallback                         │ keras, tensorflow, numpy                           │\n",
       "│ 58 │ wandb/examples/examples/wandb-sweeps/sweeps-pyth… │ \u001b[31mNo Tracker\u001b[0m                 │ sweep                                 │ keras, tensorflow, numpy                           │\n",
       "│ 59 │ wandb/examples/examples/pytorch/pytorch-cifar10-… │ \u001b[31mNo Tracker\u001b[0m                 │ sweep                                 │ torch                                              │\n",
       "│ 60 │ wandb/examples/examples/pytorch/pytorch-intro/in… │ \u001b[31mNo Tracker\u001b[0m                 │                                       │ torch, numpy                                       │\n",
       "│ 61 │ wandb/examples/examples/pytorch/pytorch-mnist-sa… │ \u001b[31mNo Tracker\u001b[0m                 │                                       │ torch                                              │\n",
       "│ 62 │ wandb/examples/examples/sagemaker/text_classific… │ \u001b[32msagemaker-hf\u001b[0m               │ Table, Artifact                       │ torch, transformers                                │\n",
       "│ 63 │ wandb/examples/src/wandb/tests/notebooks/setup.i… │ \u001b[31mNo Tracker\u001b[0m                 │                                       │                                                    │\n",
       "│ 64 │ wandb/examples/src/wandb/tests/notebooks/one_cel… │ \u001b[31mNo Tracker\u001b[0m                 │                                       │                                                    │\n",
       "│ 65 │ wandb/examples/src/wandb/tests/notebooks/code_sa… │ \u001b[31mNo Tracker\u001b[0m                 │                                       │                                                    │\n",
       "│ 66 │ wandb/examples/src/wandb/tests/notebooks/magic.i… │ \u001b[31mNo Tracker\u001b[0m                 │                                       │                                                    │\n",
       "│ 67 │ wandb/examples/src/wandb/standalone_tests/jupyte… │ \u001b[31mNo Tracker\u001b[0m                 │                                       │                                                    │\n",
       "└────┴───────────────────────────────────────────────────┴────────────────────────────┴───────────────────────────────────────┴────────────────────────────────────────────────────┘\n"
      ]
     },
     "metadata": {},
     "output_type": "display_data"
    },
    {
     "data": {
      "text/html": [
       "<pre style=\"white-space:pre;overflow-x:auto;line-height:normal;font-family:Menlo,'DejaVu Sans Mono',consolas,'Courier New',monospace\">END!\n",
       "</pre>\n"
      ],
      "text/plain": [
       "END!\n"
      ]
     },
     "metadata": {},
     "output_type": "display_data"
    }
   ],
   "source": [
    "summary_nbs(path=ex_nbs)"
   ]
  },
  {
   "cell_type": "code",
   "execution_count": null,
   "metadata": {},
   "outputs": [],
   "source": [
    "table."
   ]
  }
 ],
 "metadata": {
  "interpreter": {
   "hash": "285efacaf15c41d2004ea7b5c5b4056265fdd7f00066f8041667c47961408bc7"
  },
  "kernelspec": {
   "display_name": "Python 3.10.0 64-bit ('nbs': conda)",
   "language": "python",
   "name": "python3"
  },
  "language_info": {
   "codemirror_mode": {
    "name": "ipython",
    "version": 3
   },
   "file_extension": ".py",
   "mimetype": "text/x-python",
   "name": "python",
   "nbconvert_exporter": "python",
   "pygments_lexer": "ipython3",
   "version": "3.10.0"
  },
  "orig_nbformat": 4
 },
 "nbformat": 4,
 "nbformat_minor": 2
}
